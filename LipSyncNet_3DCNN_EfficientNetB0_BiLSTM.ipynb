{
  "cells": [
    {
      "cell_type": "markdown",
      "metadata": {
        "id": "view-in-github",
        "colab_type": "text"
      },
      "source": [
        "<a href=\"https://colab.research.google.com/github/Koushik890/LipSyncNet/blob/main/LipSyncNet_3DCNN_EfficientNetB0_BiLSTM.ipynb\" target=\"_parent\"><img src=\"https://colab.research.google.com/assets/colab-badge.svg\" alt=\"Open In Colab\"/></a>"
      ]
    },
    {
      "cell_type": "markdown",
      "id": "a3573a47-3689-4668-b62f-5c8451b2b4e9",
      "metadata": {
        "id": "a3573a47-3689-4668-b62f-5c8451b2b4e9",
        "tags": []
      },
      "source": [
        "# 0. Install and Import Dependencies"
      ]
    },
    {
      "cell_type": "code",
      "execution_count": null,
      "id": "ddfbccbe-41ae-4c23-98b1-a13868e2b499",
      "metadata": {
        "colab": {
          "base_uri": "https://localhost:8080/"
        },
        "id": "ddfbccbe-41ae-4c23-98b1-a13868e2b499",
        "outputId": "3871b2b2-f275-41cb-decd-917e477db482",
        "scrolled": true,
        "tags": []
      },
      "outputs": [
        {
          "name": "stdout",
          "output_type": "stream",
          "text": [
            "Package                      Version\n",
            "---------------------------- ---------------\n",
            "absl-py                      2.1.0\n",
            "anyio                        4.3.0\n",
            "argon2-cffi                  23.1.0\n",
            "argon2-cffi-bindings         21.2.0\n",
            "arrow                        1.3.0\n",
            "asttokens                    2.4.1\n",
            "astunparse                   1.6.3\n",
            "async-lru                    2.0.4\n",
            "attrs                        23.2.0\n",
            "Babel                        2.14.0\n",
            "beautifulsoup4               4.12.3\n",
            "bleach                       6.1.0\n",
            "cachetools                   5.3.2\n",
            "certifi                      2024.2.2\n",
            "cffi                         1.16.0\n",
            "charset-normalizer           3.3.2\n",
            "click                        8.1.7\n",
            "comm                         0.2.1\n",
            "contourpy                    1.2.0\n",
            "cycler                       0.12.1\n",
            "debugpy                      1.8.1\n",
            "decorator                    5.1.1\n",
            "defusedxml                   0.7.1\n",
            "exceptiongroup               1.2.0\n",
            "executing                    2.0.1\n",
            "fastjsonschema               2.19.1\n",
            "filelock                     3.13.1\n",
            "flatbuffers                  23.5.26\n",
            "fonttools                    4.49.0\n",
            "fqdn                         1.5.1\n",
            "gast                         0.4.0\n",
            "gdown                        5.1.0\n",
            "google-auth                  2.28.1\n",
            "google-auth-oauthlib         0.4.6\n",
            "google-pasta                 0.2.0\n",
            "grpcio                       1.62.0\n",
            "h11                          0.14.0\n",
            "h5py                         3.10.0\n",
            "httpcore                     1.0.4\n",
            "httpx                        0.27.0\n",
            "idna                         3.6\n",
            "imageio                      2.34.0\n",
            "ipykernel                    6.29.2\n",
            "ipython                      8.22.0\n",
            "ipywidgets                   8.1.2\n",
            "isoduration                  20.11.0\n",
            "jedi                         0.19.1\n",
            "Jinja2                       3.1.3\n",
            "jiwer                        3.0.3\n",
            "joblib                       1.3.2\n",
            "json5                        0.9.17\n",
            "jsonpointer                  2.4\n",
            "jsonschema                   4.21.1\n",
            "jsonschema-specifications    2023.12.1\n",
            "jupyter                      1.0.0\n",
            "jupyter_client               8.6.0\n",
            "jupyter-console              6.6.3\n",
            "jupyter_core                 5.7.1\n",
            "jupyter-events               0.9.0\n",
            "jupyter-lsp                  2.2.2\n",
            "jupyter_server               2.12.5\n",
            "jupyter_server_terminals     0.5.2\n",
            "jupyterlab                   4.1.2\n",
            "jupyterlab_pygments          0.3.0\n",
            "jupyterlab_server            2.25.3\n",
            "jupyterlab_widgets           3.0.10\n",
            "keras                        2.10.0\n",
            "Keras-Preprocessing          1.1.2\n",
            "keras-tcn                    3.5.0\n",
            "kiwisolver                   1.4.5\n",
            "libclang                     16.0.6\n",
            "Markdown                     3.5.2\n",
            "MarkupSafe                   2.1.5\n",
            "matplotlib                   3.8.3\n",
            "matplotlib-inline            0.1.6\n",
            "mayplotlib                   0.0.1\n",
            "mistune                      3.0.2\n",
            "nbclient                     0.9.0\n",
            "nbconvert                    7.16.1\n",
            "nbformat                     5.9.2\n",
            "nest-asyncio                 1.6.0\n",
            "notebook                     7.1.0\n",
            "notebook_shim                0.2.4\n",
            "numpy                        1.26.4\n",
            "oauthlib                     3.2.2\n",
            "opencv-python                4.9.0.80\n",
            "opt-einsum                   3.3.0\n",
            "overrides                    7.7.0\n",
            "packaging                    23.2\n",
            "pandocfilters                1.5.1\n",
            "parso                        0.8.3\n",
            "pexpect                      4.9.0\n",
            "pillow                       10.2.0\n",
            "pip                          24.0\n",
            "platformdirs                 4.2.0\n",
            "prometheus_client            0.20.0\n",
            "prompt-toolkit               3.0.43\n",
            "protobuf                     3.19.6\n",
            "psutil                       5.9.8\n",
            "ptyprocess                   0.7.0\n",
            "pure-eval                    0.2.2\n",
            "pyasn1                       0.5.1\n",
            "pyasn1-modules               0.3.0\n",
            "pycparser                    2.21\n",
            "Pygments                     2.17.2\n",
            "pyparsing                    3.1.1\n",
            "PySocks                      1.7.1\n",
            "python-dateutil              2.8.2\n",
            "python-json-logger           2.0.7\n",
            "PyYAML                       6.0.1\n",
            "pyzmq                        25.1.2\n",
            "qtconsole                    5.5.1\n",
            "QtPy                         2.4.1\n",
            "rapidfuzz                    3.6.1\n",
            "referencing                  0.33.0\n",
            "requests                     2.31.0\n",
            "requests-oauthlib            1.3.1\n",
            "rfc3339-validator            0.1.4\n",
            "rfc3986-validator            0.1.1\n",
            "rpds-py                      0.18.0\n",
            "rsa                          4.9\n",
            "scikit-learn                 1.4.1.post1\n",
            "scipy                        1.12.0\n",
            "Send2Trash                   1.8.2\n",
            "setuptools                   69.0.3\n",
            "six                          1.16.0\n",
            "sniffio                      1.3.0\n",
            "soupsieve                    2.5\n",
            "stack-data                   0.6.3\n",
            "tensorboard                  2.10.1\n",
            "tensorboard-data-server      0.6.1\n",
            "tensorboard-plugin-wit       1.8.1\n",
            "tensorflow                   2.10.1\n",
            "tensorflow-addons            0.23.0\n",
            "tensorflow-estimator         2.10.0\n",
            "tensorflow-gpu               2.10.1\n",
            "tensorflow-io-gcs-filesystem 0.36.0\n",
            "termcolor                    2.4.0\n",
            "terminado                    0.18.0\n",
            "threadpoolctl                3.3.0\n",
            "tinycss2                     1.2.1\n",
            "tomli                        2.0.1\n",
            "tornado                      6.4\n",
            "tqdm                         4.66.2\n",
            "traitlets                    5.14.1\n",
            "typeguard                    2.13.3\n",
            "types-python-dateutil        2.8.19.20240106\n",
            "typing_extensions            4.9.0\n",
            "uri-template                 1.3.0\n",
            "urllib3                      2.2.1\n",
            "wcwidth                      0.2.13\n",
            "webcolors                    1.13\n",
            "webencodings                 0.5.1\n",
            "websocket-client             1.7.0\n",
            "Werkzeug                     3.0.1\n",
            "wheel                        0.42.0\n",
            "widgetsnbextension           4.0.10\n",
            "wrapt                        1.16.0\n"
          ]
        }
      ],
      "source": [
        "!pip list"
      ]
    },
    {
      "cell_type": "code",
      "execution_count": null,
      "id": "02f907ea-f669-46c7-adcf-7f257e663448",
      "metadata": {
        "colab": {
          "base_uri": "https://localhost:8080/"
        },
        "id": "02f907ea-f669-46c7-adcf-7f257e663448",
        "outputId": "b966e2d9-9e67-46ba-ccc4-d0e95763705b",
        "tags": []
      },
      "outputs": [
        {
          "name": "stdout",
          "output_type": "stream",
          "text": [
            "Requirement already satisfied: opencv-python in /home/guest/my_project_dir/my_project_env/lib/python3.10/site-packages (4.9.0.80)\n",
            "Requirement already satisfied: matplotlib in /home/guest/my_project_dir/my_project_env/lib/python3.10/site-packages (3.8.3)\n",
            "Requirement already satisfied: imageio in /home/guest/my_project_dir/my_project_env/lib/python3.10/site-packages (2.34.0)\n",
            "Requirement already satisfied: gdown in /home/guest/my_project_dir/my_project_env/lib/python3.10/site-packages (5.1.0)\n",
            "Requirement already satisfied: numpy>=1.21.2 in /home/guest/my_project_dir/my_project_env/lib/python3.10/site-packages (from opencv-python) (1.26.4)\n",
            "Requirement already satisfied: contourpy>=1.0.1 in /home/guest/my_project_dir/my_project_env/lib/python3.10/site-packages (from matplotlib) (1.2.0)\n",
            "Requirement already satisfied: cycler>=0.10 in /home/guest/my_project_dir/my_project_env/lib/python3.10/site-packages (from matplotlib) (0.12.1)\n",
            "Requirement already satisfied: fonttools>=4.22.0 in /home/guest/my_project_dir/my_project_env/lib/python3.10/site-packages (from matplotlib) (4.49.0)\n",
            "Requirement already satisfied: kiwisolver>=1.3.1 in /home/guest/my_project_dir/my_project_env/lib/python3.10/site-packages (from matplotlib) (1.4.5)\n",
            "Requirement already satisfied: packaging>=20.0 in /home/guest/my_project_dir/my_project_env/lib/python3.10/site-packages (from matplotlib) (23.2)\n",
            "Requirement already satisfied: pillow>=8 in /home/guest/my_project_dir/my_project_env/lib/python3.10/site-packages (from matplotlib) (10.2.0)\n",
            "Requirement already satisfied: pyparsing>=2.3.1 in /home/guest/my_project_dir/my_project_env/lib/python3.10/site-packages (from matplotlib) (3.1.1)\n",
            "Requirement already satisfied: python-dateutil>=2.7 in /home/guest/my_project_dir/my_project_env/lib/python3.10/site-packages (from matplotlib) (2.8.2)\n",
            "Requirement already satisfied: beautifulsoup4 in /home/guest/my_project_dir/my_project_env/lib/python3.10/site-packages (from gdown) (4.12.3)\n",
            "Requirement already satisfied: filelock in /home/guest/my_project_dir/my_project_env/lib/python3.10/site-packages (from gdown) (3.13.1)\n",
            "Requirement already satisfied: requests[socks] in /home/guest/my_project_dir/my_project_env/lib/python3.10/site-packages (from gdown) (2.31.0)\n",
            "Requirement already satisfied: tqdm in /home/guest/my_project_dir/my_project_env/lib/python3.10/site-packages (from gdown) (4.66.2)\n",
            "Requirement already satisfied: six>=1.5 in /home/guest/my_project_dir/my_project_env/lib/python3.10/site-packages (from python-dateutil>=2.7->matplotlib) (1.16.0)\n",
            "Requirement already satisfied: soupsieve>1.2 in /home/guest/my_project_dir/my_project_env/lib/python3.10/site-packages (from beautifulsoup4->gdown) (2.5)\n",
            "Requirement already satisfied: charset-normalizer<4,>=2 in /home/guest/my_project_dir/my_project_env/lib/python3.10/site-packages (from requests[socks]->gdown) (3.3.2)\n",
            "Requirement already satisfied: idna<4,>=2.5 in /home/guest/my_project_dir/my_project_env/lib/python3.10/site-packages (from requests[socks]->gdown) (3.6)\n",
            "Requirement already satisfied: urllib3<3,>=1.21.1 in /home/guest/my_project_dir/my_project_env/lib/python3.10/site-packages (from requests[socks]->gdown) (2.2.1)\n",
            "Requirement already satisfied: certifi>=2017.4.17 in /home/guest/my_project_dir/my_project_env/lib/python3.10/site-packages (from requests[socks]->gdown) (2024.2.2)\n",
            "Requirement already satisfied: PySocks!=1.5.7,>=1.5.6 in /home/guest/my_project_dir/my_project_env/lib/python3.10/site-packages (from requests[socks]->gdown) (1.7.1)\n"
          ]
        }
      ],
      "source": [
        "!pip install opencv-python matplotlib imageio gdown"
      ]
    },
    {
      "cell_type": "code",
      "execution_count": null,
      "id": "b24af50c-20b8-409d-ad78-30a933fdd669",
      "metadata": {
        "id": "b24af50c-20b8-409d-ad78-30a933fdd669",
        "tags": [],
        "outputId": "37cdaf56-431d-4124-db12-2306a1350e15"
      },
      "outputs": [
        {
          "name": "stderr",
          "output_type": "stream",
          "text": [
            "2024-02-24 20:27:37.714545: I tensorflow/core/platform/cpu_feature_guard.cc:193] This TensorFlow binary is optimized with oneAPI Deep Neural Network Library (oneDNN) to use the following CPU instructions in performance-critical operations:  AVX2 AVX512F AVX512_VNNI AVX512_BF16 FMA\n",
            "To enable them in other operations, rebuild TensorFlow with the appropriate compiler flags.\n",
            "2024-02-24 20:27:37.819205: I tensorflow/core/util/util.cc:169] oneDNN custom operations are on. You may see slightly different numerical results due to floating-point round-off errors from different computation orders. To turn them off, set the environment variable `TF_ENABLE_ONEDNN_OPTS=0`.\n",
            "2024-02-24 20:27:37.823153: W tensorflow/stream_executor/platform/default/dso_loader.cc:64] Could not load dynamic library 'libcudart.so.11.0'; dlerror: libcudart.so.11.0: cannot open shared object file: No such file or directory; LD_LIBRARY_PATH: /home/guest/my_project_dir/my_project_env/lib/python3.10/site-packages/cv2/../../lib64:\n",
            "2024-02-24 20:27:37.823162: I tensorflow/stream_executor/cuda/cudart_stub.cc:29] Ignore above cudart dlerror if you do not have a GPU set up on your machine.\n",
            "2024-02-24 20:27:37.838613: E tensorflow/stream_executor/cuda/cuda_blas.cc:2981] Unable to register cuBLAS factory: Attempting to register factory for plugin cuBLAS when one has already been registered\n",
            "2024-02-24 20:27:38.206201: W tensorflow/stream_executor/platform/default/dso_loader.cc:64] Could not load dynamic library 'libnvinfer.so.7'; dlerror: libnvinfer.so.7: cannot open shared object file: No such file or directory; LD_LIBRARY_PATH: /home/guest/my_project_dir/my_project_env/lib/python3.10/site-packages/cv2/../../lib64:\n",
            "2024-02-24 20:27:38.206261: W tensorflow/stream_executor/platform/default/dso_loader.cc:64] Could not load dynamic library 'libnvinfer_plugin.so.7'; dlerror: libnvinfer_plugin.so.7: cannot open shared object file: No such file or directory; LD_LIBRARY_PATH: /home/guest/my_project_dir/my_project_env/lib/python3.10/site-packages/cv2/../../lib64:\n",
            "2024-02-24 20:27:38.206266: W tensorflow/compiler/tf2tensorrt/utils/py_utils.cc:38] TF-TRT Warning: Cannot dlopen some TensorRT libraries. If you would like to use Nvidia GPU with TensorRT, please make sure the missing libraries mentioned above are installed properly.\n"
          ]
        }
      ],
      "source": [
        "import os\n",
        "import cv2\n",
        "import tensorflow as tf\n",
        "import numpy as np\n",
        "from typing import List\n",
        "from matplotlib import pyplot as plt\n",
        "import imageio\n",
        "from tensorflow.keras.optimizers import Adam"
      ]
    },
    {
      "cell_type": "code",
      "execution_count": null,
      "id": "1e3db0b0-e559-4ad6-91fd-e7414b7d75e6",
      "metadata": {
        "colab": {
          "base_uri": "https://localhost:8080/"
        },
        "id": "1e3db0b0-e559-4ad6-91fd-e7414b7d75e6",
        "outputId": "67ec53ce-b65c-4432-ed13-568b60ff7689"
      },
      "outputs": [
        {
          "name": "stderr",
          "output_type": "stream",
          "text": [
            "2024-02-24 20:27:38.832511: I tensorflow/stream_executor/cuda/cuda_gpu_executor.cc:980] successful NUMA node read from SysFS had negative value (-1), but there must be at least one NUMA node, so returning NUMA node zero\n",
            "2024-02-24 20:27:38.832840: I tensorflow/stream_executor/cuda/cuda_gpu_executor.cc:980] successful NUMA node read from SysFS had negative value (-1), but there must be at least one NUMA node, so returning NUMA node zero\n",
            "2024-02-24 20:27:38.833118: I tensorflow/stream_executor/cuda/cuda_gpu_executor.cc:980] successful NUMA node read from SysFS had negative value (-1), but there must be at least one NUMA node, so returning NUMA node zero\n",
            "2024-02-24 20:27:38.833403: I tensorflow/stream_executor/cuda/cuda_gpu_executor.cc:980] successful NUMA node read from SysFS had negative value (-1), but there must be at least one NUMA node, so returning NUMA node zero\n",
            "2024-02-24 20:27:38.833676: I tensorflow/stream_executor/cuda/cuda_gpu_executor.cc:980] successful NUMA node read from SysFS had negative value (-1), but there must be at least one NUMA node, so returning NUMA node zero\n",
            "2024-02-24 20:27:38.833945: I tensorflow/stream_executor/cuda/cuda_gpu_executor.cc:980] successful NUMA node read from SysFS had negative value (-1), but there must be at least one NUMA node, so returning NUMA node zero\n",
            "2024-02-24 20:27:38.834213: I tensorflow/stream_executor/cuda/cuda_gpu_executor.cc:980] successful NUMA node read from SysFS had negative value (-1), but there must be at least one NUMA node, so returning NUMA node zero\n",
            "2024-02-24 20:27:38.834489: I tensorflow/stream_executor/cuda/cuda_gpu_executor.cc:980] successful NUMA node read from SysFS had negative value (-1), but there must be at least one NUMA node, so returning NUMA node zero\n",
            "2024-02-24 20:27:38.834798: W tensorflow/stream_executor/platform/default/dso_loader.cc:64] Could not load dynamic library 'libcudart.so.11.0'; dlerror: libcudart.so.11.0: cannot open shared object file: No such file or directory; LD_LIBRARY_PATH: /home/guest/my_project_dir/my_project_env/lib/python3.10/site-packages/cv2/../../lib64:\n",
            "2024-02-24 20:27:38.834825: W tensorflow/stream_executor/platform/default/dso_loader.cc:64] Could not load dynamic library 'libcublas.so.11'; dlerror: libcublas.so.11: cannot open shared object file: No such file or directory; LD_LIBRARY_PATH: /home/guest/my_project_dir/my_project_env/lib/python3.10/site-packages/cv2/../../lib64:\n",
            "2024-02-24 20:27:38.834848: W tensorflow/stream_executor/platform/default/dso_loader.cc:64] Could not load dynamic library 'libcublasLt.so.11'; dlerror: libcublasLt.so.11: cannot open shared object file: No such file or directory; LD_LIBRARY_PATH: /home/guest/my_project_dir/my_project_env/lib/python3.10/site-packages/cv2/../../lib64:\n",
            "2024-02-24 20:27:38.834871: W tensorflow/stream_executor/platform/default/dso_loader.cc:64] Could not load dynamic library 'libcufft.so.10'; dlerror: libcufft.so.10: cannot open shared object file: No such file or directory; LD_LIBRARY_PATH: /home/guest/my_project_dir/my_project_env/lib/python3.10/site-packages/cv2/../../lib64:\n",
            "2024-02-24 20:27:38.854724: W tensorflow/stream_executor/platform/default/dso_loader.cc:64] Could not load dynamic library 'libcusparse.so.11'; dlerror: libcusparse.so.11: cannot open shared object file: No such file or directory; LD_LIBRARY_PATH: /home/guest/my_project_dir/my_project_env/lib/python3.10/site-packages/cv2/../../lib64:\n",
            "2024-02-24 20:27:38.854768: W tensorflow/stream_executor/platform/default/dso_loader.cc:64] Could not load dynamic library 'libcudnn.so.8'; dlerror: libcudnn.so.8: cannot open shared object file: No such file or directory; LD_LIBRARY_PATH: /home/guest/my_project_dir/my_project_env/lib/python3.10/site-packages/cv2/../../lib64:\n",
            "2024-02-24 20:27:38.854775: W tensorflow/core/common_runtime/gpu/gpu_device.cc:1934] Cannot dlopen some GPU libraries. Please make sure the missing libraries mentioned above are installed properly if you would like to use GPU. Follow the guide at https://www.tensorflow.org/install/gpu for how to download and setup the required libraries for your platform.\n",
            "Skipping registering GPU devices...\n"
          ]
        },
        {
          "data": {
            "text/plain": [
              "[]"
            ]
          },
          "execution_count": 4,
          "metadata": {},
          "output_type": "execute_result"
        }
      ],
      "source": [
        "tf.config.list_physical_devices('GPU')"
      ]
    },
    {
      "cell_type": "code",
      "execution_count": null,
      "id": "378d045a-3003-4f93-b7d2-a25a97774a68",
      "metadata": {
        "id": "378d045a-3003-4f93-b7d2-a25a97774a68",
        "tags": []
      },
      "outputs": [],
      "source": [
        "physical_devices = tf.config.list_physical_devices('GPU')\n",
        "try:\n",
        "    tf.config.experimental.set_memory_growth(physical_devices[0], True)\n",
        "except:\n",
        "    pass"
      ]
    },
    {
      "cell_type": "markdown",
      "id": "7a19e88e-c7b9-45c1-ae1e-f2109329c71b",
      "metadata": {
        "id": "7a19e88e-c7b9-45c1-ae1e-f2109329c71b",
        "tags": []
      },
      "source": [
        "# 1. Build Data Loading Functions"
      ]
    },
    {
      "cell_type": "code",
      "execution_count": null,
      "id": "8fb99c90-e05a-437f-839d-6e772f8c1dd5",
      "metadata": {
        "id": "8fb99c90-e05a-437f-839d-6e772f8c1dd5",
        "tags": []
      },
      "outputs": [],
      "source": [
        "import gdown"
      ]
    },
    {
      "cell_type": "code",
      "execution_count": null,
      "id": "c019e4c6-2af3-4160-99ea-5c8cb009f1a7",
      "metadata": {
        "colab": {
          "base_uri": "https://localhost:8080/"
        },
        "id": "c019e4c6-2af3-4160-99ea-5c8cb009f1a7",
        "outputId": "5b9c8f50-0c55-4462-b141-84ce42169b48",
        "tags": []
      },
      "outputs": [
        {
          "name": "stderr",
          "output_type": "stream",
          "text": [
            "Downloading...\n",
            "From (original): https://drive.google.com/uc?id=1YlvpDLix3S-U8fd-gqRwPcWXAXm8JwjL\n",
            "From (redirected): https://drive.google.com/uc?id=1YlvpDLix3S-U8fd-gqRwPcWXAXm8JwjL&confirm=t&uuid=6cef9731-d0a8-4cf8-8a69-4c605214b143\n",
            "To: /home/guest/my_project_dir/my_project_env/LipNet_master_3DCNN_BiLSTTM_full_4/data.zip\n",
            "100%|█████████████████████████████████████████████████████████████████████████████████| 423M/423M [00:04<00:00, 101MB/s]\n"
          ]
        },
        {
          "data": {
            "text/plain": [
              "['data/',\n",
              " 'data/alignments/',\n",
              " 'data/alignments/s1/',\n",
              " 'data/alignments/s1/bbaf2n.align',\n",
              " 'data/alignments/s1/bbaf3s.align',\n",
              " 'data/alignments/s1/bbaf4p.align',\n",
              " 'data/alignments/s1/bbaf5a.align',\n",
              " 'data/alignments/s1/bbal6n.align',\n",
              " 'data/alignments/s1/bbal7s.align',\n",
              " 'data/alignments/s1/bbal8p.align',\n",
              " 'data/alignments/s1/bbal9a.align',\n",
              " 'data/alignments/s1/bbas1s.align',\n",
              " 'data/alignments/s1/bbas2p.align',\n",
              " 'data/alignments/s1/bbas3a.align',\n",
              " 'data/alignments/s1/bbaszn.align',\n",
              " 'data/alignments/s1/bbaz4n.align',\n",
              " 'data/alignments/s1/bbaz5s.align',\n",
              " 'data/alignments/s1/bbaz6p.align',\n",
              " 'data/alignments/s1/bbaz7a.align',\n",
              " 'data/alignments/s1/bbbf6n.align',\n",
              " 'data/alignments/s1/bbbf7s.align',\n",
              " 'data/alignments/s1/bbbf8p.align',\n",
              " 'data/alignments/s1/bbbf9a.align',\n",
              " 'data/alignments/s1/bbbm1s.align',\n",
              " 'data/alignments/s1/bbbm2p.align',\n",
              " 'data/alignments/s1/bbbm3a.align',\n",
              " 'data/alignments/s1/bbbmzn.align',\n",
              " 'data/alignments/s1/bbbs4n.align',\n",
              " 'data/alignments/s1/bbbs5s.align',\n",
              " 'data/alignments/s1/bbbs6p.align',\n",
              " 'data/alignments/s1/bbbs7a.align',\n",
              " 'data/alignments/s1/bbbz8n.align',\n",
              " 'data/alignments/s1/bbbz9s.align',\n",
              " 'data/alignments/s1/bbie8n.align',\n",
              " 'data/alignments/s1/bbie9s.align',\n",
              " 'data/alignments/s1/bbif1a.align',\n",
              " 'data/alignments/s1/bbifzp.align',\n",
              " 'data/alignments/s1/bbil2n.align',\n",
              " 'data/alignments/s1/bbil3s.align',\n",
              " 'data/alignments/s1/bbil4p.align',\n",
              " 'data/alignments/s1/bbil5a.align',\n",
              " 'data/alignments/s1/bbir6n.align',\n",
              " 'data/alignments/s1/bbir7s.align',\n",
              " 'data/alignments/s1/bbir8p.align',\n",
              " 'data/alignments/s1/bbir9a.align',\n",
              " 'data/alignments/s1/bbiz1s.align',\n",
              " 'data/alignments/s1/bbiz2p.align',\n",
              " 'data/alignments/s1/bbiz3a.align',\n",
              " 'data/alignments/s1/bbizzn.align',\n",
              " 'data/alignments/s1/bbwg1s.align',\n",
              " 'data/alignments/s1/bbwg2p.align',\n",
              " 'data/alignments/s1/bbwg3a.align',\n",
              " 'data/alignments/s1/bbwgzn.align',\n",
              " 'data/alignments/s1/bbwm4n.align',\n",
              " 'data/alignments/s1/bbwm5s.align',\n",
              " 'data/alignments/s1/bbwm6p.align',\n",
              " 'data/alignments/s1/bbwm7a.align',\n",
              " 'data/alignments/s1/bbws8n.align',\n",
              " 'data/alignments/s1/bbws9s.align',\n",
              " 'data/alignments/s1/bbwt1a.align',\n",
              " 'data/alignments/s1/bbwtzp.align',\n",
              " 'data/alignments/s1/bgaa6n.align',\n",
              " 'data/alignments/s1/bgaa7s.align',\n",
              " 'data/alignments/s1/bgaa8p.align',\n",
              " 'data/alignments/s1/bgaa9a.align',\n",
              " 'data/alignments/s1/bgah1s.align',\n",
              " 'data/alignments/s1/bgah2p.align',\n",
              " 'data/alignments/s1/bgah3a.align',\n",
              " 'data/alignments/s1/bgahzn.align',\n",
              " 'data/alignments/s1/bgan4n.align',\n",
              " 'data/alignments/s1/bgan5s.align',\n",
              " 'data/alignments/s1/bgan6p.align',\n",
              " 'data/alignments/s1/bgan7a.align',\n",
              " 'data/alignments/s1/bgat8n.align',\n",
              " 'data/alignments/s1/bgat9s.align',\n",
              " 'data/alignments/s1/bgau1a.align',\n",
              " 'data/alignments/s1/bgauzp.align',\n",
              " 'data/alignments/s1/bgbb1s.align',\n",
              " 'data/alignments/s1/bgbb2p.align',\n",
              " 'data/alignments/s1/bgbb3a.align',\n",
              " 'data/alignments/s1/bgbbzn.align',\n",
              " 'data/alignments/s1/bgbh4n.align',\n",
              " 'data/alignments/s1/bgbh5s.align',\n",
              " 'data/alignments/s1/bgbh6p.align',\n",
              " 'data/alignments/s1/bgbh7a.align',\n",
              " 'data/alignments/s1/bgbn8n.align',\n",
              " 'data/alignments/s1/bgbn9s.align',\n",
              " 'data/alignments/s1/bgbo1a.align',\n",
              " 'data/alignments/s1/bgbozp.align',\n",
              " 'data/alignments/s1/bgbu2n.align',\n",
              " 'data/alignments/s1/bgbu3s.align',\n",
              " 'data/alignments/s1/bgbu4p.align',\n",
              " 'data/alignments/s1/bgbu5a.align',\n",
              " 'data/alignments/s1/bgia2n.align',\n",
              " 'data/alignments/s1/bgia3s.align',\n",
              " 'data/alignments/s1/bgia4p.align',\n",
              " 'data/alignments/s1/bgia5a.align',\n",
              " 'data/alignments/s1/bgig6n.align',\n",
              " 'data/alignments/s1/bgig7s.align',\n",
              " 'data/alignments/s1/bgig8p.align',\n",
              " 'data/alignments/s1/bgig9a.align',\n",
              " 'data/alignments/s1/bgin1s.align',\n",
              " 'data/alignments/s1/bgin2p.align',\n",
              " 'data/alignments/s1/bgin3a.align',\n",
              " 'data/alignments/s1/bginzn.align',\n",
              " 'data/alignments/s1/bgit4n.align',\n",
              " 'data/alignments/s1/bgit5s.align',\n",
              " 'data/alignments/s1/bgit6p.align',\n",
              " 'data/alignments/s1/bgit7a.align',\n",
              " 'data/alignments/s1/bgwb4n.align',\n",
              " 'data/alignments/s1/bgwb5s.align',\n",
              " 'data/alignments/s1/bgwb6p.align',\n",
              " 'data/alignments/s1/bgwb7a.align',\n",
              " 'data/alignments/s1/bgwh8n.align',\n",
              " 'data/alignments/s1/bgwh9s.align',\n",
              " 'data/alignments/s1/bgwi1a.align',\n",
              " 'data/alignments/s1/bgwizp.align',\n",
              " 'data/alignments/s1/bgwo2n.align',\n",
              " 'data/alignments/s1/bgwo3s.align',\n",
              " 'data/alignments/s1/bgwo4p.align',\n",
              " 'data/alignments/s1/bgwo5a.align',\n",
              " 'data/alignments/s1/bgwu6n.align',\n",
              " 'data/alignments/s1/bgwu7s.align',\n",
              " 'data/alignments/s1/bgwu8p.align',\n",
              " 'data/alignments/s1/bgwu9a.align',\n",
              " 'data/alignments/s1/braf8n.align',\n",
              " 'data/alignments/s1/braf9s.align',\n",
              " 'data/alignments/s1/brag1a.align',\n",
              " 'data/alignments/s1/bragzp.align',\n",
              " 'data/alignments/s1/bram2n.align',\n",
              " 'data/alignments/s1/bram3s.align',\n",
              " 'data/alignments/s1/bram4p.align',\n",
              " 'data/alignments/s1/bram5a.align',\n",
              " 'data/alignments/s1/bras6n.align',\n",
              " 'data/alignments/s1/bras7s.align',\n",
              " 'data/alignments/s1/bras8p.align',\n",
              " 'data/alignments/s1/bras9a.align',\n",
              " 'data/alignments/s1/brba1a.align',\n",
              " 'data/alignments/s1/brbazp.align',\n",
              " 'data/alignments/s1/brbg2n.align',\n",
              " 'data/alignments/s1/brbg3s.align',\n",
              " 'data/alignments/s1/brbg4p.align',\n",
              " 'data/alignments/s1/brbg5a.align',\n",
              " 'data/alignments/s1/brbm6n.align',\n",
              " 'data/alignments/s1/brbm7s.align',\n",
              " 'data/alignments/s1/brbm8p.align',\n",
              " 'data/alignments/s1/brbm9a.align',\n",
              " 'data/alignments/s1/brbt1s.align',\n",
              " 'data/alignments/s1/brbt2p.align',\n",
              " 'data/alignments/s1/brbt3a.align',\n",
              " 'data/alignments/s1/brbtzn.align',\n",
              " 'data/alignments/s1/brif4n.align',\n",
              " 'data/alignments/s1/brif5s.align',\n",
              " 'data/alignments/s1/brif6p.align',\n",
              " 'data/alignments/s1/brif7a.align',\n",
              " 'data/alignments/s1/bril8n.align',\n",
              " 'data/alignments/s1/bril9s.align',\n",
              " 'data/alignments/s1/brim1a.align',\n",
              " 'data/alignments/s1/brimzp.align',\n",
              " 'data/alignments/s1/bris2n.align',\n",
              " 'data/alignments/s1/bris3s.align',\n",
              " 'data/alignments/s1/bris4p.align',\n",
              " 'data/alignments/s1/bris5a.align',\n",
              " 'data/alignments/s1/briz6n.align',\n",
              " 'data/alignments/s1/briz7s.align',\n",
              " 'data/alignments/s1/briz8p.align',\n",
              " 'data/alignments/s1/briz9a.align',\n",
              " 'data/alignments/s1/brwa2n.align',\n",
              " 'data/alignments/s1/brwa3s.align',\n",
              " 'data/alignments/s1/brwa4p.align',\n",
              " 'data/alignments/s1/brwa5a.align',\n",
              " 'data/alignments/s1/brwg6n.align',\n",
              " 'data/alignments/s1/brwg7s.align',\n",
              " 'data/alignments/s1/brwg8p.align',\n",
              " 'data/alignments/s1/brwg9a.align',\n",
              " 'data/alignments/s1/brwn1s.align',\n",
              " 'data/alignments/s1/brwn2p.align',\n",
              " 'data/alignments/s1/brwn3a.align',\n",
              " 'data/alignments/s1/brwnzn.align',\n",
              " 'data/alignments/s1/brwt4n.align',\n",
              " 'data/alignments/s1/brwt5s.align',\n",
              " 'data/alignments/s1/brwt6p.align',\n",
              " 'data/alignments/s1/brwt7a.align',\n",
              " 'data/alignments/s1/bwaa1s.align',\n",
              " 'data/alignments/s1/bwaa2p.align',\n",
              " 'data/alignments/s1/bwaa3a.align',\n",
              " 'data/alignments/s1/bwaazn.align',\n",
              " 'data/alignments/s1/bwag4n.align',\n",
              " 'data/alignments/s1/bwag5s.align',\n",
              " 'data/alignments/s1/bwag6p.align',\n",
              " 'data/alignments/s1/bwag7a.align',\n",
              " 'data/alignments/s1/bwam8n.align',\n",
              " 'data/alignments/s1/bwam9s.align',\n",
              " 'data/alignments/s1/bwan1a.align',\n",
              " 'data/alignments/s1/bwanzp.align',\n",
              " 'data/alignments/s1/bwat2n.align',\n",
              " 'data/alignments/s1/bwat3s.align',\n",
              " 'data/alignments/s1/bwat4p.align',\n",
              " 'data/alignments/s1/bwat5a.align',\n",
              " 'data/alignments/s1/bwba4n.align',\n",
              " 'data/alignments/s1/bwba5s.align',\n",
              " 'data/alignments/s1/bwba6p.align',\n",
              " 'data/alignments/s1/bwba7a.align',\n",
              " 'data/alignments/s1/bwbg8n.align',\n",
              " 'data/alignments/s1/bwbg9s.align',\n",
              " 'data/alignments/s1/bwbh1a.align',\n",
              " 'data/alignments/s1/bwbhzp.align',\n",
              " 'data/alignments/s1/bwbn2n.align',\n",
              " 'data/alignments/s1/bwbn3s.align',\n",
              " 'data/alignments/s1/bwbn4p.align',\n",
              " 'data/alignments/s1/bwbn5a.align',\n",
              " 'data/alignments/s1/bwbt6n.align',\n",
              " 'data/alignments/s1/bwbt7s.align',\n",
              " 'data/alignments/s1/bwbt8p.align',\n",
              " 'data/alignments/s1/bwbt9a.align',\n",
              " 'data/alignments/s1/bwig1s.align',\n",
              " 'data/alignments/s1/bwig2p.align',\n",
              " 'data/alignments/s1/bwig3a.align',\n",
              " 'data/alignments/s1/bwigzn.align',\n",
              " 'data/alignments/s1/bwim4n.align',\n",
              " 'data/alignments/s1/bwim5s.align',\n",
              " 'data/alignments/s1/bwim6p.align',\n",
              " 'data/alignments/s1/bwim7a.align',\n",
              " 'data/alignments/s1/bwis8n.align',\n",
              " 'data/alignments/s1/bwis9s.align',\n",
              " 'data/alignments/s1/bwit1a.align',\n",
              " 'data/alignments/s1/bwitzp.align',\n",
              " 'data/alignments/s1/bwwa8n.align',\n",
              " 'data/alignments/s1/bwwa9s.align',\n",
              " 'data/alignments/s1/bwwb1a.align',\n",
              " 'data/alignments/s1/bwwbzp.align',\n",
              " 'data/alignments/s1/bwwh2n.align',\n",
              " 'data/alignments/s1/bwwh3s.align',\n",
              " 'data/alignments/s1/bwwh4p.align',\n",
              " 'data/alignments/s1/bwwh5a.align',\n",
              " 'data/alignments/s1/bwwn6n.align',\n",
              " 'data/alignments/s1/bwwn7s.align',\n",
              " 'data/alignments/s1/bwwn8p.align',\n",
              " 'data/alignments/s1/bwwn9a.align',\n",
              " 'data/alignments/s1/bwwu1s.align',\n",
              " 'data/alignments/s1/bwwu2p.align',\n",
              " 'data/alignments/s1/bwwu3a.align',\n",
              " 'data/alignments/s1/bwwuzn.align',\n",
              " 'data/alignments/s1/lbad6n.align',\n",
              " 'data/alignments/s1/lbad7s.align',\n",
              " 'data/alignments/s1/lbad8p.align',\n",
              " 'data/alignments/s1/lbad9a.align',\n",
              " 'data/alignments/s1/lbak1s.align',\n",
              " 'data/alignments/s1/lbak2p.align',\n",
              " 'data/alignments/s1/lbak3a.align',\n",
              " 'data/alignments/s1/lbakzn.align',\n",
              " 'data/alignments/s1/lbaq4n.align',\n",
              " 'data/alignments/s1/lbaq5s.align',\n",
              " 'data/alignments/s1/lbaq6p.align',\n",
              " 'data/alignments/s1/lbaq7a.align',\n",
              " 'data/alignments/s1/lbax8n.align',\n",
              " 'data/alignments/s1/lbax9s.align',\n",
              " 'data/alignments/s1/lbay1a.align',\n",
              " 'data/alignments/s1/lbayzp.align',\n",
              " 'data/alignments/s1/lbbe1s.align',\n",
              " 'data/alignments/s1/lbbe2p.align',\n",
              " 'data/alignments/s1/lbbe3a.align',\n",
              " 'data/alignments/s1/lbbezn.align',\n",
              " 'data/alignments/s1/lbbk4n.align',\n",
              " 'data/alignments/s1/lbbk5s.align',\n",
              " 'data/alignments/s1/lbbk6p.align',\n",
              " 'data/alignments/s1/lbbk7a.align',\n",
              " 'data/alignments/s1/lbbq8n.align',\n",
              " 'data/alignments/s1/lbbq9s.align',\n",
              " 'data/alignments/s1/lbbr1a.align',\n",
              " 'data/alignments/s1/lbbrzp.align',\n",
              " 'data/alignments/s1/lbby2n.align',\n",
              " 'data/alignments/s1/lbby3s.align',\n",
              " 'data/alignments/s1/lbby4p.align',\n",
              " 'data/alignments/s1/lbby5a.align',\n",
              " 'data/alignments/s1/lbid2n.align',\n",
              " 'data/alignments/s1/lbid3s.align',\n",
              " 'data/alignments/s1/lbid4p.align',\n",
              " 'data/alignments/s1/lbid5a.align',\n",
              " 'data/alignments/s1/lbij6n.align',\n",
              " 'data/alignments/s1/lbij7s.align',\n",
              " 'data/alignments/s1/lbij8p.align',\n",
              " 'data/alignments/s1/lbij9a.align',\n",
              " 'data/alignments/s1/lbiq1s.align',\n",
              " 'data/alignments/s1/lbiq2p.align',\n",
              " 'data/alignments/s1/lbiq3a.align',\n",
              " 'data/alignments/s1/lbiqzn.align',\n",
              " 'data/alignments/s1/lbix4n.align',\n",
              " 'data/alignments/s1/lbix5s.align',\n",
              " 'data/alignments/s1/lbix6p.align',\n",
              " 'data/alignments/s1/lbix7a.align',\n",
              " 'data/alignments/s1/lbwe4n.align',\n",
              " 'data/alignments/s1/lbwe5s.align',\n",
              " 'data/alignments/s1/lbwe6p.align',\n",
              " 'data/alignments/s1/lbwe7a.align',\n",
              " 'data/alignments/s1/lbwk8n.align',\n",
              " 'data/alignments/s1/lbwk9s.align',\n",
              " 'data/alignments/s1/lbwl1a.align',\n",
              " 'data/alignments/s1/lbwlzp.align',\n",
              " 'data/alignments/s1/lbwr2n.align',\n",
              " 'data/alignments/s1/lbwr3s.align',\n",
              " 'data/alignments/s1/lbwr4p.align',\n",
              " 'data/alignments/s1/lbwr5a.align',\n",
              " 'data/alignments/s1/lbwy6n.align',\n",
              " 'data/alignments/s1/lbwy7s.align',\n",
              " 'data/alignments/s1/lbwy8p.align',\n",
              " 'data/alignments/s1/lbwy9a.align',\n",
              " 'data/alignments/s1/lgaf4n.align',\n",
              " 'data/alignments/s1/lgaf5s.align',\n",
              " 'data/alignments/s1/lgaf6p.align',\n",
              " 'data/alignments/s1/lgaf7a.align',\n",
              " 'data/alignments/s1/lgal8n.align',\n",
              " 'data/alignments/s1/lgal9s.align',\n",
              " 'data/alignments/s1/lgam1a.align',\n",
              " 'data/alignments/s1/lgamzp.align',\n",
              " 'data/alignments/s1/lgas2n.align',\n",
              " 'data/alignments/s1/lgas3s.align',\n",
              " 'data/alignments/s1/lgas4p.align',\n",
              " 'data/alignments/s1/lgas5a.align',\n",
              " 'data/alignments/s1/lgaz6n.align',\n",
              " 'data/alignments/s1/lgaz7s.align',\n",
              " 'data/alignments/s1/lgaz8p.align',\n",
              " 'data/alignments/s1/lgaz9a.align',\n",
              " 'data/alignments/s1/lgbf8n.align',\n",
              " 'data/alignments/s1/lgbf9s.align',\n",
              " 'data/alignments/s1/lgbg1a.align',\n",
              " 'data/alignments/s1/lgbgzp.align',\n",
              " 'data/alignments/s1/lgbm2n.align',\n",
              " 'data/alignments/s1/lgbm3s.align',\n",
              " 'data/alignments/s1/lgbm4p.align',\n",
              " 'data/alignments/s1/lgbm5a.align',\n",
              " 'data/alignments/s1/lgbs6n.align',\n",
              " 'data/alignments/s1/lgbs7s.align',\n",
              " 'data/alignments/s1/lgbs8p.align',\n",
              " 'data/alignments/s1/lgbs9a.align',\n",
              " 'data/alignments/s1/lgif1s.align',\n",
              " 'data/alignments/s1/lgif2p.align',\n",
              " 'data/alignments/s1/lgif3a.align',\n",
              " 'data/alignments/s1/lgifzn.align',\n",
              " 'data/alignments/s1/lgil4n.align',\n",
              " 'data/alignments/s1/lgil5s.align',\n",
              " 'data/alignments/s1/lgil6p.align',\n",
              " 'data/alignments/s1/lgil7a.align',\n",
              " 'data/alignments/s1/lgir8n.align',\n",
              " 'data/alignments/s1/lgir9s.align',\n",
              " 'data/alignments/s1/lgis1a.align',\n",
              " 'data/alignments/s1/lgiszp.align',\n",
              " 'data/alignments/s1/lgiz2n.align',\n",
              " 'data/alignments/s1/lgiz3s.align',\n",
              " 'data/alignments/s1/lgiz4p.align',\n",
              " 'data/alignments/s1/lgiz5a.align',\n",
              " 'data/alignments/s1/lgwa1a.align',\n",
              " 'data/alignments/s1/lgwazp.align',\n",
              " 'data/alignments/s1/lgwg2n.align',\n",
              " 'data/alignments/s1/lgwg3s.align',\n",
              " 'data/alignments/s1/lgwg4p.align',\n",
              " 'data/alignments/s1/lgwg5a.align',\n",
              " 'data/alignments/s1/lgwm6n.align',\n",
              " 'data/alignments/s1/lgwm7s.align',\n",
              " 'data/alignments/s1/lgwm8p.align',\n",
              " 'data/alignments/s1/lgwm9a.align',\n",
              " 'data/alignments/s1/lgwt1s.align',\n",
              " 'data/alignments/s1/lgwt2p.align',\n",
              " 'data/alignments/s1/lgwt3a.align',\n",
              " 'data/alignments/s1/lgwtzn.align',\n",
              " 'data/alignments/s1/lrae2n.align',\n",
              " 'data/alignments/s1/lrae3s.align',\n",
              " 'data/alignments/s1/lrae4p.align',\n",
              " 'data/alignments/s1/lrae5a.align',\n",
              " 'data/alignments/s1/lrak6n.align',\n",
              " 'data/alignments/s1/lrak7s.align',\n",
              " 'data/alignments/s1/lrak8p.align',\n",
              " 'data/alignments/s1/lrak9a.align',\n",
              " 'data/alignments/s1/lrar1s.align',\n",
              " 'data/alignments/s1/lrar2p.align',\n",
              " 'data/alignments/s1/lrar3a.align',\n",
              " 'data/alignments/s1/lrarzn.align',\n",
              " 'data/alignments/s1/lray4n.align',\n",
              " 'data/alignments/s1/lray5s.align',\n",
              " 'data/alignments/s1/lray6p.align',\n",
              " 'data/alignments/s1/lray7a.align',\n",
              " 'data/alignments/s1/lrbe6n.align',\n",
              " 'data/alignments/s1/lrbe7s.align',\n",
              " 'data/alignments/s1/lrbe8p.align',\n",
              " 'data/alignments/s1/lrbe9a.align',\n",
              " 'data/alignments/s1/lrbl1s.align',\n",
              " 'data/alignments/s1/lrbl2p.align',\n",
              " 'data/alignments/s1/lrbl3a.align',\n",
              " 'data/alignments/s1/lrblzn.align',\n",
              " 'data/alignments/s1/lrbr4n.align',\n",
              " 'data/alignments/s1/lrbr5s.align',\n",
              " 'data/alignments/s1/lrbr6p.align',\n",
              " 'data/alignments/s1/lrbr7a.align',\n",
              " 'data/alignments/s1/lrby8n.align',\n",
              " 'data/alignments/s1/lrby9s.align',\n",
              " 'data/alignments/s1/lrbz1a.align',\n",
              " 'data/alignments/s1/lrbzzp.align',\n",
              " 'data/alignments/s1/lrid8n.align',\n",
              " 'data/alignments/s1/lrid9s.align',\n",
              " 'data/alignments/s1/lrie1a.align',\n",
              " 'data/alignments/s1/lriezp.align',\n",
              " 'data/alignments/s1/lrik2n.align',\n",
              " 'data/alignments/s1/lrik3s.align',\n",
              " 'data/alignments/s1/lrik4p.align',\n",
              " 'data/alignments/s1/lrik5a.align',\n",
              " 'data/alignments/s1/lriq6n.align',\n",
              " 'data/alignments/s1/lriq7s.align',\n",
              " 'data/alignments/s1/lriq8p.align',\n",
              " 'data/alignments/s1/lriq9a.align',\n",
              " 'data/alignments/s1/lriy1s.align',\n",
              " 'data/alignments/s1/lriy2p.align',\n",
              " 'data/alignments/s1/lriy3a.align',\n",
              " 'data/alignments/s1/lriyzn.align',\n",
              " 'data/alignments/s1/lrwf1s.align',\n",
              " 'data/alignments/s1/lrwf2p.align',\n",
              " 'data/alignments/s1/lrwf3a.align',\n",
              " 'data/alignments/s1/lrwfzn.align',\n",
              " 'data/alignments/s1/lrwl4n.align',\n",
              " 'data/alignments/s1/lrwl5s.align',\n",
              " 'data/alignments/s1/lrwl6p.align',\n",
              " 'data/alignments/s1/lrwl7a.align',\n",
              " 'data/alignments/s1/lrwr8n.align',\n",
              " 'data/alignments/s1/lrwr9s.align',\n",
              " 'data/alignments/s1/lrws1a.align',\n",
              " 'data/alignments/s1/lrwszp.align',\n",
              " 'data/alignments/s1/lrwz2n.align',\n",
              " 'data/alignments/s1/lrwz3s.align',\n",
              " 'data/alignments/s1/lrwz4p.align',\n",
              " 'data/alignments/s1/lrwz5a.align',\n",
              " 'data/alignments/s1/lwae8n.align',\n",
              " 'data/alignments/s1/lwae9s.align',\n",
              " 'data/alignments/s1/lwaf1a.align',\n",
              " 'data/alignments/s1/lwafzp.align',\n",
              " 'data/alignments/s1/lwal2n.align',\n",
              " 'data/alignments/s1/lwal3s.align',\n",
              " 'data/alignments/s1/lwal4p.align',\n",
              " 'data/alignments/s1/lwal5a.align',\n",
              " 'data/alignments/s1/lwar6n.align',\n",
              " 'data/alignments/s1/lwar7s.align',\n",
              " 'data/alignments/s1/lwar8p.align',\n",
              " 'data/alignments/s1/lwar9a.align',\n",
              " 'data/alignments/s1/lwaz1s.align',\n",
              " 'data/alignments/s1/lwaz2p.align',\n",
              " 'data/alignments/s1/lwaz3a.align',\n",
              " 'data/alignments/s1/lwazzn.align',\n",
              " 'data/alignments/s1/lwbf2n.align',\n",
              " 'data/alignments/s1/lwbf3s.align',\n",
              " 'data/alignments/s1/lwbf4p.align',\n",
              " 'data/alignments/s1/lwbf5a.align',\n",
              " 'data/alignments/s1/lwbl6n.align',\n",
              " 'data/alignments/s1/lwbl7s.align',\n",
              " 'data/alignments/s1/lwbl8p.align',\n",
              " 'data/alignments/s1/lwbl9a.align',\n",
              " 'data/alignments/s1/lwbs1s.align',\n",
              " 'data/alignments/s1/lwbs2p.align',\n",
              " 'data/alignments/s1/lwbs3a.align',\n",
              " 'data/alignments/s1/lwbszn.align',\n",
              " 'data/alignments/s1/lwbz4n.align',\n",
              " 'data/alignments/s1/lwbz5s.align',\n",
              " 'data/alignments/s1/lwbz6p.align',\n",
              " 'data/alignments/s1/lwbz7a.align',\n",
              " 'data/alignments/s1/lwie4n.align',\n",
              " 'data/alignments/s1/lwie5s.align',\n",
              " 'data/alignments/s1/lwie6p.align',\n",
              " 'data/alignments/s1/lwie7a.align',\n",
              " 'data/alignments/s1/lwik8n.align',\n",
              " 'data/alignments/s1/lwik9s.align',\n",
              " 'data/alignments/s1/lwil1a.align',\n",
              " 'data/alignments/s1/lwilzp.align',\n",
              " 'data/alignments/s1/lwir2n.align',\n",
              " 'data/alignments/s1/lwir3s.align',\n",
              " 'data/alignments/s1/lwir4p.align',\n",
              " 'data/alignments/s1/lwir5a.align',\n",
              " 'data/alignments/s1/lwiy6n.align',\n",
              " 'data/alignments/s1/lwiy7s.align',\n",
              " 'data/alignments/s1/lwiy8p.align',\n",
              " 'data/alignments/s1/lwiy9a.align',\n",
              " 'data/alignments/s1/lwwf6n.align',\n",
              " 'data/alignments/s1/lwwf7s.align',\n",
              " 'data/alignments/s1/lwwf8p.align',\n",
              " 'data/alignments/s1/lwwf9a.align',\n",
              " 'data/alignments/s1/lwwm1s.align',\n",
              " 'data/alignments/s1/lwwm2p.align',\n",
              " 'data/alignments/s1/lwwm3a.align',\n",
              " 'data/alignments/s1/lwwmzn.align',\n",
              " 'data/alignments/s1/lwws4n.align',\n",
              " 'data/alignments/s1/lwws5s.align',\n",
              " 'data/alignments/s1/lwws6p.align',\n",
              " 'data/alignments/s1/lwws7a.align',\n",
              " 'data/alignments/s1/lwwz8n.align',\n",
              " 'data/alignments/s1/lwwz9s.align',\n",
              " 'data/alignments/s1/pbac1s.align',\n",
              " 'data/alignments/s1/pbac2p.align',\n",
              " 'data/alignments/s1/pbac3a.align',\n",
              " 'data/alignments/s1/pbaczn.align',\n",
              " 'data/alignments/s1/pbai4n.align',\n",
              " 'data/alignments/s1/pbai5s.align',\n",
              " 'data/alignments/s1/pbai6p.align',\n",
              " 'data/alignments/s1/pbai7a.align',\n",
              " 'data/alignments/s1/pbao8n.align',\n",
              " 'data/alignments/s1/pbao9s.align',\n",
              " 'data/alignments/s1/pbap1a.align',\n",
              " 'data/alignments/s1/pbapzp.align',\n",
              " 'data/alignments/s1/pbav2n.align',\n",
              " 'data/alignments/s1/pbav3s.align',\n",
              " 'data/alignments/s1/pbav4p.align',\n",
              " 'data/alignments/s1/pbav5a.align',\n",
              " 'data/alignments/s1/pbbc4n.align',\n",
              " 'data/alignments/s1/pbbc5s.align',\n",
              " 'data/alignments/s1/pbbc6p.align',\n",
              " 'data/alignments/s1/pbbc7a.align',\n",
              " 'data/alignments/s1/pbbi8n.align',\n",
              " 'data/alignments/s1/pbbi9s.align',\n",
              " 'data/alignments/s1/pbbj1a.align',\n",
              " 'data/alignments/s1/pbbjzp.align',\n",
              " 'data/alignments/s1/pbbp2n.align',\n",
              " 'data/alignments/s1/pbbp3s.align',\n",
              " 'data/alignments/s1/pbbp4p.align',\n",
              " 'data/alignments/s1/pbbp5a.align',\n",
              " 'data/alignments/s1/pbbv6n.align',\n",
              " 'data/alignments/s1/pbbv7s.align',\n",
              " 'data/alignments/s1/pbbv8p.align',\n",
              " 'data/alignments/s1/pbbv9a.align',\n",
              " 'data/alignments/s1/pbib6n.align',\n",
              " 'data/alignments/s1/pbib7s.align',\n",
              " 'data/alignments/s1/pbib8p.align',\n",
              " 'data/alignments/s1/pbib9a.align',\n",
              " 'data/alignments/s1/pbii1s.align',\n",
              " 'data/alignments/s1/pbii2p.align',\n",
              " 'data/alignments/s1/pbii3a.align',\n",
              " 'data/alignments/s1/pbiizn.align',\n",
              " 'data/alignments/s1/pbio4n.align',\n",
              " 'data/alignments/s1/pbio5s.align',\n",
              " 'data/alignments/s1/pbio6p.align',\n",
              " 'data/alignments/s1/pbio7a.align',\n",
              " 'data/alignments/s1/pbiu8n.align',\n",
              " 'data/alignments/s1/pbiu9s.align',\n",
              " 'data/alignments/s1/pbiv1a.align',\n",
              " 'data/alignments/s1/pbivzp.align',\n",
              " 'data/alignments/s1/pbwc8n.align',\n",
              " 'data/alignments/s1/pbwc9s.align',\n",
              " 'data/alignments/s1/pbwd1a.align',\n",
              " 'data/alignments/s1/pbwdzp.align',\n",
              " 'data/alignments/s1/pbwj2n.align',\n",
              " 'data/alignments/s1/pbwj3s.align',\n",
              " 'data/alignments/s1/pbwj4p.align',\n",
              " 'data/alignments/s1/pbwj5a.align',\n",
              " 'data/alignments/s1/pbwp6n.align',\n",
              " 'data/alignments/s1/pbwp7s.align',\n",
              " 'data/alignments/s1/pbwp8p.align',\n",
              " 'data/alignments/s1/pbwp9a.align',\n",
              " 'data/alignments/s1/pbwx1s.align',\n",
              " 'data/alignments/s1/pbwx2p.align',\n",
              " 'data/alignments/s1/pbwx3a.align',\n",
              " 'data/alignments/s1/pbwxzn.align',\n",
              " 'data/alignments/s1/pgad8n.align',\n",
              " 'data/alignments/s1/pgad9s.align',\n",
              " 'data/alignments/s1/pgae1a.align',\n",
              " 'data/alignments/s1/pgaezp.align',\n",
              " 'data/alignments/s1/pgak2n.align',\n",
              " 'data/alignments/s1/pgak3s.align',\n",
              " 'data/alignments/s1/pgak4p.align',\n",
              " 'data/alignments/s1/pgak5a.align',\n",
              " 'data/alignments/s1/pgaq6n.align',\n",
              " 'data/alignments/s1/pgaq7s.align',\n",
              " 'data/alignments/s1/pgaq8p.align',\n",
              " 'data/alignments/s1/pgaq9a.align',\n",
              " 'data/alignments/s1/pgay1s.align',\n",
              " 'data/alignments/s1/pgay2p.align',\n",
              " 'data/alignments/s1/pgay3a.align',\n",
              " 'data/alignments/s1/pgayzn.align',\n",
              " 'data/alignments/s1/pgbe2n.align',\n",
              " 'data/alignments/s1/pgbe3s.align',\n",
              " 'data/alignments/s1/pgbe4p.align',\n",
              " 'data/alignments/s1/pgbe5a.align',\n",
              " 'data/alignments/s1/pgbk6n.align',\n",
              " 'data/alignments/s1/pgbk7s.align',\n",
              " 'data/alignments/s1/pgbk8p.align',\n",
              " 'data/alignments/s1/pgbk9a.align',\n",
              " 'data/alignments/s1/pgbr1s.align',\n",
              " 'data/alignments/s1/pgbr2p.align',\n",
              " 'data/alignments/s1/pgbr3a.align',\n",
              " 'data/alignments/s1/pgbrzn.align',\n",
              " 'data/alignments/s1/pgby4n.align',\n",
              " 'data/alignments/s1/pgby5s.align',\n",
              " 'data/alignments/s1/pgby6p.align',\n",
              " 'data/alignments/s1/pgby7a.align',\n",
              " 'data/alignments/s1/pgid4n.align',\n",
              " 'data/alignments/s1/pgid5s.align',\n",
              " 'data/alignments/s1/pgid6p.align',\n",
              " 'data/alignments/s1/pgid7a.align',\n",
              " 'data/alignments/s1/pgij8n.align',\n",
              " 'data/alignments/s1/pgij9s.align',\n",
              " 'data/alignments/s1/pgik1a.align',\n",
              " 'data/alignments/s1/pgikzp.align',\n",
              " 'data/alignments/s1/pgiq2n.align',\n",
              " 'data/alignments/s1/pgiq3s.align',\n",
              " 'data/alignments/s1/pgiq4p.align',\n",
              " 'data/alignments/s1/pgiq5a.align',\n",
              " 'data/alignments/s1/pgix6n.align',\n",
              " 'data/alignments/s1/pgix7s.align',\n",
              " 'data/alignments/s1/pgix8p.align',\n",
              " 'data/alignments/s1/pgix9a.align',\n",
              " 'data/alignments/s1/pgwe6n.align',\n",
              " 'data/alignments/s1/pgwe7s.align',\n",
              " 'data/alignments/s1/pgwe8p.align',\n",
              " 'data/alignments/s1/pgwe9a.align',\n",
              " 'data/alignments/s1/pgwl1s.align',\n",
              " 'data/alignments/s1/pgwl2p.align',\n",
              " 'data/alignments/s1/pgwl3a.align',\n",
              " 'data/alignments/s1/pgwlzn.align',\n",
              " 'data/alignments/s1/pgwr4n.align',\n",
              " 'data/alignments/s1/pgwr5s.align',\n",
              " 'data/alignments/s1/pgwr6p.align',\n",
              " 'data/alignments/s1/pgwr7a.align',\n",
              " 'data/alignments/s1/pgwy8n.align',\n",
              " 'data/alignments/s1/pgwy9s.align',\n",
              " 'data/alignments/s1/pgwz1a.align',\n",
              " 'data/alignments/s1/pgwzzp.align',\n",
              " 'data/alignments/s1/prac6n.align',\n",
              " 'data/alignments/s1/prac7s.align',\n",
              " 'data/alignments/s1/prac8p.align',\n",
              " 'data/alignments/s1/prac9a.align',\n",
              " 'data/alignments/s1/praj1s.align',\n",
              " 'data/alignments/s1/praj2p.align',\n",
              " 'data/alignments/s1/praj3a.align',\n",
              " 'data/alignments/s1/prajzn.align',\n",
              " 'data/alignments/s1/prap4n.align',\n",
              " 'data/alignments/s1/prap5s.align',\n",
              " 'data/alignments/s1/prap6p.align',\n",
              " 'data/alignments/s1/prap7a.align',\n",
              " 'data/alignments/s1/prav8n.align',\n",
              " 'data/alignments/s1/prav9s.align',\n",
              " 'data/alignments/s1/prax1a.align',\n",
              " 'data/alignments/s1/praxzp.align',\n",
              " 'data/alignments/s1/prbd1s.align',\n",
              " 'data/alignments/s1/prbd2p.align',\n",
              " 'data/alignments/s1/prbd3a.align',\n",
              " 'data/alignments/s1/prbdzn.align',\n",
              " 'data/alignments/s1/prbj4n.align',\n",
              " 'data/alignments/s1/prbj5s.align',\n",
              " 'data/alignments/s1/prbj6p.align',\n",
              " 'data/alignments/s1/prbj7a.align',\n",
              " 'data/alignments/s1/prbp8n.align',\n",
              " 'data/alignments/s1/prbp9s.align',\n",
              " 'data/alignments/s1/prbq1a.align',\n",
              " 'data/alignments/s1/prbqzp.align',\n",
              " 'data/alignments/s1/prbx2n.align',\n",
              " 'data/alignments/s1/prbx3s.align',\n",
              " 'data/alignments/s1/prbx4p.align',\n",
              " 'data/alignments/s1/prbx5a.align',\n",
              " 'data/alignments/s1/pric2n.align',\n",
              " 'data/alignments/s1/pric3s.align',\n",
              " 'data/alignments/s1/pric4p.align',\n",
              " 'data/alignments/s1/pric5a.align',\n",
              " 'data/alignments/s1/prii6n.align',\n",
              " 'data/alignments/s1/prii7s.align',\n",
              " 'data/alignments/s1/prii8p.align',\n",
              " 'data/alignments/s1/prii9a.align',\n",
              " 'data/alignments/s1/prip1s.align',\n",
              " 'data/alignments/s1/prip2p.align',\n",
              " 'data/alignments/s1/prip3a.align',\n",
              " 'data/alignments/s1/pripzn.align',\n",
              " 'data/alignments/s1/priv4n.align',\n",
              " 'data/alignments/s1/priv5s.align',\n",
              " 'data/alignments/s1/priv6p.align',\n",
              " 'data/alignments/s1/priv7a.align',\n",
              " 'data/alignments/s1/prwd4n.align',\n",
              " 'data/alignments/s1/prwd5s.align',\n",
              " 'data/alignments/s1/prwd6p.align',\n",
              " 'data/alignments/s1/prwd7a.align',\n",
              " 'data/alignments/s1/prwj8n.align',\n",
              " 'data/alignments/s1/prwj9s.align',\n",
              " 'data/alignments/s1/prwk1a.align',\n",
              " 'data/alignments/s1/prwkzp.align',\n",
              " 'data/alignments/s1/prwq2n.align',\n",
              " 'data/alignments/s1/prwq3s.align',\n",
              " 'data/alignments/s1/prwq4p.align',\n",
              " 'data/alignments/s1/prwq5a.align',\n",
              " 'data/alignments/s1/prwx6n.align',\n",
              " 'data/alignments/s1/prwx7s.align',\n",
              " 'data/alignments/s1/prwx8p.align',\n",
              " 'data/alignments/s1/prwx9a.align',\n",
              " 'data/alignments/s1/pwad2n.align',\n",
              " 'data/alignments/s1/pwad3s.align',\n",
              " 'data/alignments/s1/pwad4p.align',\n",
              " 'data/alignments/s1/pwad5a.align',\n",
              " 'data/alignments/s1/pwaj6n.align',\n",
              " 'data/alignments/s1/pwaj7s.align',\n",
              " 'data/alignments/s1/pwaj8p.align',\n",
              " 'data/alignments/s1/pwaj9a.align',\n",
              " 'data/alignments/s1/pwaq1s.align',\n",
              " 'data/alignments/s1/pwaq2p.align',\n",
              " 'data/alignments/s1/pwaq3a.align',\n",
              " 'data/alignments/s1/pwaqzn.align',\n",
              " 'data/alignments/s1/pwax4n.align',\n",
              " 'data/alignments/s1/pwax5s.align',\n",
              " 'data/alignments/s1/pwax6p.align',\n",
              " 'data/alignments/s1/pwax7a.align',\n",
              " 'data/alignments/s1/pwbd6n.align',\n",
              " 'data/alignments/s1/pwbd7s.align',\n",
              " 'data/alignments/s1/pwbd8p.align',\n",
              " 'data/alignments/s1/pwbd9a.align',\n",
              " 'data/alignments/s1/pwbk1s.align',\n",
              " 'data/alignments/s1/pwbk2p.align',\n",
              " 'data/alignments/s1/pwbk3a.align',\n",
              " 'data/alignments/s1/pwbkzn.align',\n",
              " 'data/alignments/s1/pwbq4n.align',\n",
              " 'data/alignments/s1/pwbq5s.align',\n",
              " 'data/alignments/s1/pwbq6p.align',\n",
              " 'data/alignments/s1/pwbq7a.align',\n",
              " 'data/alignments/s1/pwbx8n.align',\n",
              " 'data/alignments/s1/pwbx9s.align',\n",
              " 'data/alignments/s1/pwby1a.align',\n",
              " 'data/alignments/s1/pwbyzp.align',\n",
              " 'data/alignments/s1/pwic8n.align',\n",
              " 'data/alignments/s1/pwic9s.align',\n",
              " 'data/alignments/s1/pwid1a.align',\n",
              " 'data/alignments/s1/pwidzp.align',\n",
              " 'data/alignments/s1/pwij2n.align',\n",
              " 'data/alignments/s1/pwij3s.align',\n",
              " 'data/alignments/s1/pwij4p.align',\n",
              " 'data/alignments/s1/pwij5a.align',\n",
              " 'data/alignments/s1/pwip6n.align',\n",
              " 'data/alignments/s1/pwip7s.align',\n",
              " 'data/alignments/s1/pwip8p.align',\n",
              " 'data/alignments/s1/pwip9a.align',\n",
              " 'data/alignments/s1/pwix1s.align',\n",
              " 'data/alignments/s1/pwix2p.align',\n",
              " 'data/alignments/s1/pwix3a.align',\n",
              " 'data/alignments/s1/pwixzn.align',\n",
              " 'data/alignments/s1/pwwe1s.align',\n",
              " 'data/alignments/s1/pwwe2p.align',\n",
              " 'data/alignments/s1/pwwe3a.align',\n",
              " 'data/alignments/s1/pwwezn.align',\n",
              " 'data/alignments/s1/pwwk4n.align',\n",
              " 'data/alignments/s1/pwwk5s.align',\n",
              " 'data/alignments/s1/pwwk6p.align',\n",
              " 'data/alignments/s1/pwwk7a.align',\n",
              " 'data/alignments/s1/pwwq8n.align',\n",
              " 'data/alignments/s1/pwwq9s.align',\n",
              " 'data/alignments/s1/pwwr1a.align',\n",
              " 'data/alignments/s1/pwwrzp.align',\n",
              " 'data/alignments/s1/pwwy2n.align',\n",
              " 'data/alignments/s1/pwwy3s.align',\n",
              " 'data/alignments/s1/pwwy4p.align',\n",
              " 'data/alignments/s1/pwwy5a.align',\n",
              " 'data/alignments/s1/sbaa4n.align',\n",
              " 'data/alignments/s1/sbaa5s.align',\n",
              " 'data/alignments/s1/sbaa6p.align',\n",
              " 'data/alignments/s1/sbaa7a.align',\n",
              " 'data/alignments/s1/sbag8n.align',\n",
              " 'data/alignments/s1/sbag9s.align',\n",
              " 'data/alignments/s1/sbah1a.align',\n",
              " 'data/alignments/s1/sbahzp.align',\n",
              " 'data/alignments/s1/sban2n.align',\n",
              " 'data/alignments/s1/sban3s.align',\n",
              " 'data/alignments/s1/sban4p.align',\n",
              " 'data/alignments/s1/sban5a.align',\n",
              " 'data/alignments/s1/sbat6n.align',\n",
              " 'data/alignments/s1/sbat7s.align',\n",
              " 'data/alignments/s1/sbat8p.align',\n",
              " 'data/alignments/s1/sbat9a.align',\n",
              " 'data/alignments/s1/sbba8n.align',\n",
              " 'data/alignments/s1/sbba9s.align',\n",
              " 'data/alignments/s1/sbbb1a.align',\n",
              " 'data/alignments/s1/sbbbzp.align',\n",
              " 'data/alignments/s1/sbbh2n.align',\n",
              " 'data/alignments/s1/sbbh3s.align',\n",
              " 'data/alignments/s1/sbbh4p.align',\n",
              " 'data/alignments/s1/sbbh5a.align',\n",
              " 'data/alignments/s1/sbbn6n.align',\n",
              " 'data/alignments/s1/sbbn7s.align',\n",
              " 'data/alignments/s1/sbbn8p.align',\n",
              " 'data/alignments/s1/sbbn9a.align',\n",
              " 'data/alignments/s1/sbbu1s.align',\n",
              " 'data/alignments/s1/sbbu2p.align',\n",
              " 'data/alignments/s1/sbbu3a.align',\n",
              " 'data/alignments/s1/sbbuzn.align',\n",
              " 'data/alignments/s1/sbia1s.align',\n",
              " 'data/alignments/s1/sbia2p.align',\n",
              " 'data/alignments/s1/sbia3a.align',\n",
              " 'data/alignments/s1/sbiazn.align',\n",
              " 'data/alignments/s1/sbig4n.align',\n",
              " 'data/alignments/s1/sbig5s.align',\n",
              " 'data/alignments/s1/sbig6p.align',\n",
              " 'data/alignments/s1/sbig7a.align',\n",
              " 'data/alignments/s1/sbim8n.align',\n",
              " 'data/alignments/s1/sbim9s.align',\n",
              " 'data/alignments/s1/sbin1a.align',\n",
              " 'data/alignments/s1/sbinzp.align',\n",
              " 'data/alignments/s1/sbit2n.align',\n",
              " 'data/alignments/s1/sbit3s.align',\n",
              " 'data/alignments/s1/sbit4p.align',\n",
              " 'data/alignments/s1/sbit5a.align',\n",
              " 'data/alignments/s1/sbwb2n.align',\n",
              " 'data/alignments/s1/sbwb3s.align',\n",
              " 'data/alignments/s1/sbwb4p.align',\n",
              " 'data/alignments/s1/sbwb5a.align',\n",
              " 'data/alignments/s1/sbwh6n.align',\n",
              " 'data/alignments/s1/sbwh7s.align',\n",
              " 'data/alignments/s1/sbwh8p.align',\n",
              " 'data/alignments/s1/sbwh9a.align',\n",
              " 'data/alignments/s1/sbwo1s.align',\n",
              " 'data/alignments/s1/sbwo2p.align',\n",
              " 'data/alignments/s1/sbwo3a.align',\n",
              " 'data/alignments/s1/sbwozn.align',\n",
              " 'data/alignments/s1/sbwu4n.align',\n",
              " 'data/alignments/s1/sbwu5s.align',\n",
              " 'data/alignments/s1/sbwu6p.align',\n",
              " 'data/alignments/s1/sbwu7a.align',\n",
              " 'data/alignments/s1/sgac2n.align',\n",
              " 'data/alignments/s1/sgac3s.align',\n",
              " 'data/alignments/s1/sgac4p.align',\n",
              " 'data/alignments/s1/sgac5a.align',\n",
              " 'data/alignments/s1/sgai6n.align',\n",
              " 'data/alignments/s1/sgai7s.align',\n",
              " 'data/alignments/s1/sgai8p.align',\n",
              " 'data/alignments/s1/sgai9a.align',\n",
              " 'data/alignments/s1/sgap1s.align',\n",
              " 'data/alignments/s1/sgap2p.align',\n",
              " 'data/alignments/s1/sgap3a.align',\n",
              " 'data/alignments/s1/sgapzn.align',\n",
              " 'data/alignments/s1/sgav4n.align',\n",
              " 'data/alignments/s1/sgav5s.align',\n",
              " 'data/alignments/s1/sgav6p.align',\n",
              " 'data/alignments/s1/sgav7a.align',\n",
              " 'data/alignments/s1/sgbc6n.align',\n",
              " 'data/alignments/s1/sgbc7s.align',\n",
              " 'data/alignments/s1/sgbc8p.align',\n",
              " 'data/alignments/s1/sgbc9a.align',\n",
              " 'data/alignments/s1/sgbj1s.align',\n",
              " 'data/alignments/s1/sgbj2p.align',\n",
              " 'data/alignments/s1/sgbj3a.align',\n",
              " 'data/alignments/s1/sgbjzn.align',\n",
              " 'data/alignments/s1/sgbp4n.align',\n",
              " 'data/alignments/s1/sgbp5s.align',\n",
              " 'data/alignments/s1/sgbp6p.align',\n",
              " 'data/alignments/s1/sgbp7a.align',\n",
              " 'data/alignments/s1/sgbv8n.align',\n",
              " 'data/alignments/s1/sgbv9s.align',\n",
              " 'data/alignments/s1/sgbx1a.align',\n",
              " 'data/alignments/s1/sgbxzp.align',\n",
              " 'data/alignments/s1/sgib8n.align',\n",
              " 'data/alignments/s1/sgib9s.align',\n",
              " 'data/alignments/s1/sgic1a.align',\n",
              " 'data/alignments/s1/sgiczp.align',\n",
              " 'data/alignments/s1/sgii2n.align',\n",
              " 'data/alignments/s1/sgii3s.align',\n",
              " 'data/alignments/s1/sgii4p.align',\n",
              " 'data/alignments/s1/sgii5a.align',\n",
              " 'data/alignments/s1/sgio6n.align',\n",
              " 'data/alignments/s1/sgio7s.align',\n",
              " 'data/alignments/s1/sgio8p.align',\n",
              " 'data/alignments/s1/sgio9a.align',\n",
              " 'data/alignments/s1/sgiv1s.align',\n",
              " 'data/alignments/s1/sgiv2p.align',\n",
              " 'data/alignments/s1/sgiv3a.align',\n",
              " 'data/alignments/s1/sgivzn.align',\n",
              " 'data/alignments/s1/sgwd1s.align',\n",
              " 'data/alignments/s1/sgwd2p.align',\n",
              " 'data/alignments/s1/sgwd3a.align',\n",
              " 'data/alignments/s1/sgwdzn.align',\n",
              " 'data/alignments/s1/sgwj4n.align',\n",
              " 'data/alignments/s1/sgwj5s.align',\n",
              " 'data/alignments/s1/sgwj6p.align',\n",
              " 'data/alignments/s1/sgwj7a.align',\n",
              " 'data/alignments/s1/sgwp8n.align',\n",
              " 'data/alignments/s1/sgwp9s.align',\n",
              " 'data/alignments/s1/sgwq1a.align',\n",
              " 'data/alignments/s1/sgwqzp.align',\n",
              " 'data/alignments/s1/sgwx2n.align',\n",
              " 'data/alignments/s1/sgwx3s.align',\n",
              " 'data/alignments/s1/sgwx4p.align',\n",
              " 'data/alignments/s1/sgwx5a.align',\n",
              " 'data/alignments/s1/srab1s.align',\n",
              " 'data/alignments/s1/srab2p.align',\n",
              " 'data/alignments/s1/srab3a.align',\n",
              " 'data/alignments/s1/srabzn.align',\n",
              " 'data/alignments/s1/srah4n.align',\n",
              " 'data/alignments/s1/srah5s.align',\n",
              " 'data/alignments/s1/srah6p.align',\n",
              " 'data/alignments/s1/srah7a.align',\n",
              " 'data/alignments/s1/sran8n.align',\n",
              " 'data/alignments/s1/sran9s.align',\n",
              " 'data/alignments/s1/srao1a.align',\n",
              " 'data/alignments/s1/sraozp.align',\n",
              " 'data/alignments/s1/srau2n.align',\n",
              " 'data/alignments/s1/srau3s.align',\n",
              " 'data/alignments/s1/srau4p.align',\n",
              " 'data/alignments/s1/srau5a.align',\n",
              " 'data/alignments/s1/srbb4n.align',\n",
              " 'data/alignments/s1/srbb5s.align',\n",
              " 'data/alignments/s1/srbb6p.align',\n",
              " 'data/alignments/s1/srbb7a.align',\n",
              " 'data/alignments/s1/srbh8n.align',\n",
              " 'data/alignments/s1/srbh9s.align',\n",
              " 'data/alignments/s1/srbi1a.align',\n",
              " 'data/alignments/s1/srbizp.align',\n",
              " 'data/alignments/s1/srbo2n.align',\n",
              " 'data/alignments/s1/srbo3s.align',\n",
              " 'data/alignments/s1/srbo4p.align',\n",
              " 'data/alignments/s1/srbo5a.align',\n",
              " 'data/alignments/s1/srbu6n.align',\n",
              " 'data/alignments/s1/srbu7s.align',\n",
              " 'data/alignments/s1/srbu8p.align',\n",
              " 'data/alignments/s1/srbu9a.align',\n",
              " 'data/alignments/s1/sria6n.align',\n",
              " 'data/alignments/s1/sria7s.align',\n",
              " 'data/alignments/s1/sria8p.align',\n",
              " 'data/alignments/s1/sria9a.align',\n",
              " 'data/alignments/s1/srih1s.align',\n",
              " 'data/alignments/s1/srih2p.align',\n",
              " 'data/alignments/s1/srih3a.align',\n",
              " 'data/alignments/s1/srihzn.align',\n",
              " 'data/alignments/s1/srin4n.align',\n",
              " 'data/alignments/s1/srin5s.align',\n",
              " 'data/alignments/s1/srin6p.align',\n",
              " 'data/alignments/s1/srin7a.align',\n",
              " 'data/alignments/s1/srit8n.align',\n",
              " 'data/alignments/s1/srit9s.align',\n",
              " 'data/alignments/s1/sriu1a.align',\n",
              " 'data/alignments/s1/sriuzp.align',\n",
              " 'data/alignments/s1/srwb8n.align',\n",
              " 'data/alignments/s1/srwb9s.align',\n",
              " 'data/alignments/s1/srwc1a.align',\n",
              " 'data/alignments/s1/srwczp.align',\n",
              " 'data/alignments/s1/srwi2n.align',\n",
              " 'data/alignments/s1/srwi3s.align',\n",
              " 'data/alignments/s1/srwi4p.align',\n",
              " 'data/alignments/s1/srwi5a.align',\n",
              " 'data/alignments/s1/srwo6n.align',\n",
              " 'data/alignments/s1/srwo7s.align',\n",
              " 'data/alignments/s1/srwo8p.align',\n",
              " 'data/alignments/s1/srwo9a.align',\n",
              " 'data/alignments/s1/srwv1s.align',\n",
              " 'data/alignments/s1/srwv2p.align',\n",
              " 'data/alignments/s1/srwv3a.align',\n",
              " 'data/alignments/s1/srwvzn.align',\n",
              " 'data/alignments/s1/swab6n.align',\n",
              " 'data/alignments/s1/swab7s.align',\n",
              " 'data/alignments/s1/swab8p.align',\n",
              " 'data/alignments/s1/swab9a.align',\n",
              " 'data/alignments/s1/swai1s.align',\n",
              " 'data/alignments/s1/swai2p.align',\n",
              " 'data/alignments/s1/swai3a.align',\n",
              " 'data/alignments/s1/swaizn.align',\n",
              " 'data/alignments/s1/swao4n.align',\n",
              " 'data/alignments/s1/swao5s.align',\n",
              " 'data/alignments/s1/swao6p.align',\n",
              " 'data/alignments/s1/swao7a.align',\n",
              " 'data/alignments/s1/swau8n.align',\n",
              " 'data/alignments/s1/swau9s.align',\n",
              " 'data/alignments/s1/swav1a.align',\n",
              " 'data/alignments/s1/swavzp.align',\n",
              " 'data/alignments/s1/swbc1s.align',\n",
              " 'data/alignments/s1/swbc2p.align',\n",
              " 'data/alignments/s1/swbc3a.align',\n",
              " 'data/alignments/s1/swbczn.align',\n",
              " 'data/alignments/s1/swbi4n.align',\n",
              " 'data/alignments/s1/swbi5s.align',\n",
              " 'data/alignments/s1/swbi6p.align',\n",
              " 'data/alignments/s1/swbi7a.align',\n",
              " 'data/alignments/s1/swbo8n.align',\n",
              " 'data/alignments/s1/swbo9s.align',\n",
              " 'data/alignments/s1/swbp1a.align',\n",
              " 'data/alignments/s1/swbpzp.align',\n",
              " 'data/alignments/s1/swbv2n.align',\n",
              " 'data/alignments/s1/swbv3s.align',\n",
              " 'data/alignments/s1/swbv4p.align',\n",
              " 'data/alignments/s1/swbv5a.align',\n",
              " 'data/alignments/s1/swib2n.align',\n",
              " 'data/alignments/s1/swib3s.align',\n",
              " 'data/alignments/s1/swib4p.align',\n",
              " 'data/alignments/s1/swib5a.align',\n",
              " 'data/alignments/s1/swih6n.align',\n",
              " 'data/alignments/s1/swih7s.align',\n",
              " 'data/alignments/s1/swih8p.align',\n",
              " 'data/alignments/s1/swih9a.align',\n",
              " 'data/alignments/s1/swio1s.align',\n",
              " 'data/alignments/s1/swio2p.align',\n",
              " 'data/alignments/s1/swio3a.align',\n",
              " 'data/alignments/s1/swiozn.align',\n",
              " 'data/alignments/s1/swiu4n.align',\n",
              " 'data/alignments/s1/swiu5s.align',\n",
              " 'data/alignments/s1/swiu6p.align',\n",
              " 'data/alignments/s1/swiu7a.align',\n",
              " 'data/alignments/s1/swwc4n.align',\n",
              " 'data/alignments/s1/swwc5s.align',\n",
              " 'data/alignments/s1/swwc6p.align',\n",
              " 'data/alignments/s1/swwc7a.align',\n",
              " 'data/alignments/s1/swwi8n.align',\n",
              " 'data/alignments/s1/swwi9s.align',\n",
              " 'data/alignments/s1/swwj1a.align',\n",
              " 'data/alignments/s1/swwjzp.align',\n",
              " 'data/alignments/s1/swwp2n.align',\n",
              " 'data/alignments/s1/swwp3s.align',\n",
              " 'data/alignments/s1/swwp4p.align',\n",
              " 'data/alignments/s1/swwp5a.align',\n",
              " 'data/alignments/s1/swwv6n.align',\n",
              " ...]"
            ]
          },
          "execution_count": 7,
          "metadata": {},
          "output_type": "execute_result"
        }
      ],
      "source": [
        "url = 'https://drive.google.com/uc?id=1YlvpDLix3S-U8fd-gqRwPcWXAXm8JwjL'\n",
        "output = 'data.zip'\n",
        "gdown.download(url, output, quiet=False)\n",
        "gdown.extractall('data.zip')"
      ]
    },
    {
      "cell_type": "code",
      "execution_count": null,
      "id": "8548cc59-6dfc-4acc-abc3-3e65212db02e",
      "metadata": {
        "id": "8548cc59-6dfc-4acc-abc3-3e65212db02e",
        "tags": []
      },
      "outputs": [],
      "source": [
        "def load_video(path:str) -> List[float]:\n",
        "\n",
        "    cap = cv2.VideoCapture(path)\n",
        "    frames = []\n",
        "    for _ in range(int(cap.get(cv2.CAP_PROP_FRAME_COUNT))):\n",
        "        ret, frame = cap.read()\n",
        "        frame = tf.image.rgb_to_grayscale(frame)\n",
        "        frames.append(frame[190:236,80:220,:])\n",
        "    cap.release()\n",
        "\n",
        "    mean = tf.math.reduce_mean(frames)\n",
        "    std = tf.math.reduce_std(tf.cast(frames, tf.float32))\n",
        "    return tf.cast((frames - mean), tf.float32) / std"
      ]
    },
    {
      "cell_type": "code",
      "execution_count": null,
      "id": "ec735e0b-ec98-4eb0-8f49-c35527d6670a",
      "metadata": {
        "id": "ec735e0b-ec98-4eb0-8f49-c35527d6670a",
        "tags": []
      },
      "outputs": [],
      "source": [
        "vocab = [x for x in \"abcdefghijklmnopqrstuvwxyz'?!123456789 \"]"
      ]
    },
    {
      "cell_type": "code",
      "execution_count": null,
      "id": "be04e972-d7a5-4a72-82d8-a6bdde1f3ce6",
      "metadata": {
        "colab": {
          "base_uri": "https://localhost:8080/"
        },
        "id": "be04e972-d7a5-4a72-82d8-a6bdde1f3ce6",
        "outputId": "be8d7818-74ce-45f8-8c21-f8bdcf51f72e",
        "tags": []
      },
      "outputs": [
        {
          "name": "stdout",
          "output_type": "stream",
          "text": [
            "The vocabulary is: ['', 'a', 'b', 'c', 'd', 'e', 'f', 'g', 'h', 'i', 'j', 'k', 'l', 'm', 'n', 'o', 'p', 'q', 'r', 's', 't', 'u', 'v', 'w', 'x', 'y', 'z', \"'\", '?', '!', '1', '2', '3', '4', '5', '6', '7', '8', '9', ' '] (size =40)\n"
          ]
        },
        {
          "name": "stderr",
          "output_type": "stream",
          "text": [
            "2024-02-24 20:27:45.420495: I tensorflow/core/platform/cpu_feature_guard.cc:193] This TensorFlow binary is optimized with oneAPI Deep Neural Network Library (oneDNN) to use the following CPU instructions in performance-critical operations:  AVX2 AVX512F AVX512_VNNI AVX512_BF16 FMA\n",
            "To enable them in other operations, rebuild TensorFlow with the appropriate compiler flags.\n"
          ]
        }
      ],
      "source": [
        "char_to_num = tf.keras.layers.StringLookup(vocabulary=vocab, oov_token=\"\")\n",
        "num_to_char = tf.keras.layers.StringLookup(\n",
        "    vocabulary=char_to_num.get_vocabulary(), oov_token=\"\", invert=True\n",
        ")\n",
        "\n",
        "print(\n",
        "    f\"The vocabulary is: {char_to_num.get_vocabulary()} \"\n",
        "    f\"(size ={char_to_num.vocabulary_size()})\"\n",
        ")"
      ]
    },
    {
      "cell_type": "code",
      "execution_count": null,
      "id": "559f7420-6802-45fa-9ca0-b1ff209b461c",
      "metadata": {
        "colab": {
          "base_uri": "https://localhost:8080/"
        },
        "id": "559f7420-6802-45fa-9ca0-b1ff209b461c",
        "outputId": "5cf796f8-bb53-47f1-9cab-515a85e262d0",
        "tags": []
      },
      "outputs": [
        {
          "data": {
            "text/plain": [
              "['',\n",
              " 'a',\n",
              " 'b',\n",
              " 'c',\n",
              " 'd',\n",
              " 'e',\n",
              " 'f',\n",
              " 'g',\n",
              " 'h',\n",
              " 'i',\n",
              " 'j',\n",
              " 'k',\n",
              " 'l',\n",
              " 'm',\n",
              " 'n',\n",
              " 'o',\n",
              " 'p',\n",
              " 'q',\n",
              " 'r',\n",
              " 's',\n",
              " 't',\n",
              " 'u',\n",
              " 'v',\n",
              " 'w',\n",
              " 'x',\n",
              " 'y',\n",
              " 'z',\n",
              " \"'\",\n",
              " '?',\n",
              " '!',\n",
              " '1',\n",
              " '2',\n",
              " '3',\n",
              " '4',\n",
              " '5',\n",
              " '6',\n",
              " '7',\n",
              " '8',\n",
              " '9',\n",
              " ' ']"
            ]
          },
          "execution_count": 11,
          "metadata": {},
          "output_type": "execute_result"
        }
      ],
      "source": [
        "char_to_num.get_vocabulary()"
      ]
    },
    {
      "cell_type": "code",
      "execution_count": null,
      "id": "9491bab5-6a3c-4f79-879a-8f9fbe73ae2e",
      "metadata": {
        "id": "9491bab5-6a3c-4f79-879a-8f9fbe73ae2e",
        "tags": []
      },
      "outputs": [],
      "source": [
        "def load_alignments(path:str) -> List[str]:\n",
        "    with open(path, 'r') as f:\n",
        "        lines = f.readlines()\n",
        "    tokens = []\n",
        "    for line in lines:\n",
        "        line = line.split()\n",
        "        if line[2] != 'sil':\n",
        "            tokens = [*tokens,' ',line[2]]\n",
        "    return char_to_num(tf.reshape(tf.strings.unicode_split(tokens, input_encoding='UTF-8'), (-1)))[1:]"
      ]
    },
    {
      "cell_type": "code",
      "execution_count": null,
      "id": "dd01ca9f-77fb-4643-a2aa-47dd82c5d66b",
      "metadata": {
        "id": "dd01ca9f-77fb-4643-a2aa-47dd82c5d66b",
        "tags": []
      },
      "outputs": [],
      "source": [
        "def load_data(path: str):\n",
        "    path = bytes.decode(path.numpy())\n",
        "    # Use os.path for cross-platform compatibility\n",
        "    file_name = os.path.splitext(os.path.basename(path))[0]\n",
        "    video_path = os.path.join('data', 's1', f'{file_name}.mpg')\n",
        "    alignment_path = os.path.join('data', 'alignments', 's1', f'{file_name}.align')\n",
        "    frames = load_video(video_path)\n",
        "    alignments = load_alignments(alignment_path)\n",
        "\n",
        "    return frames, alignments"
      ]
    },
    {
      "cell_type": "code",
      "execution_count": null,
      "id": "8cb7cc58-31ae-4904-a805-1177a82717d2",
      "metadata": {
        "id": "8cb7cc58-31ae-4904-a805-1177a82717d2",
        "tags": []
      },
      "outputs": [],
      "source": [
        "test_path = 'bbal6n.mpg'"
      ]
    },
    {
      "cell_type": "code",
      "execution_count": null,
      "id": "76aa964f-0c84-490d-897a-d00e3966e2c9",
      "metadata": {
        "colab": {
          "base_uri": "https://localhost:8080/",
          "height": 36
        },
        "id": "76aa964f-0c84-490d-897a-d00e3966e2c9",
        "outputId": "5b52f523-e5cb-4eca-d7f3-245fc020fa95"
      },
      "outputs": [
        {
          "data": {
            "text/plain": [
              "'bbal6n'"
            ]
          },
          "execution_count": 15,
          "metadata": {},
          "output_type": "execute_result"
        }
      ],
      "source": [
        "tf.convert_to_tensor(test_path).numpy().decode('utf-8').split('\\\\')[-1].split('.')[0]"
      ]
    },
    {
      "cell_type": "code",
      "execution_count": null,
      "id": "eb602c71-8560-4f9e-b26b-08202febb937",
      "metadata": {
        "id": "eb602c71-8560-4f9e-b26b-08202febb937",
        "scrolled": true,
        "tags": []
      },
      "outputs": [],
      "source": [
        "frames, alignments = load_data(tf.convert_to_tensor(test_path))"
      ]
    },
    {
      "cell_type": "code",
      "execution_count": null,
      "id": "0e3184a1-6b02-4b4f-84a8-a0a65f951ea2",
      "metadata": {
        "colab": {
          "base_uri": "https://localhost:8080/",
          "height": 244
        },
        "id": "0e3184a1-6b02-4b4f-84a8-a0a65f951ea2",
        "outputId": "103e575d-b5a1-49ca-87e9-157d9ce14160"
      },
      "outputs": [
        {
          "data": {
            "text/plain": [
              "<matplotlib.image.AxesImage at 0x7fdf924b8610>"
            ]
          },
          "execution_count": 17,
          "metadata": {},
          "output_type": "execute_result"
        },
        {
          "data": {
            "image/png": "[encoded data removed]",
            "text/plain": [
              "<Figure size 640x480 with 1 Axes>"
            ]
          },
          "metadata": {},
          "output_type": "display_data"
        }
      ],
      "source": [
        "plt.imshow(frames[40])"
      ]
    },
    {
      "cell_type": "code",
      "execution_count": null,
      "id": "d7ec0833-d54b-4073-84cf-92d011c60ec1",
      "metadata": {
        "colab": {
          "base_uri": "https://localhost:8080/"
        },
        "id": "d7ec0833-d54b-4073-84cf-92d011c60ec1",
        "outputId": "eeda03c5-fa7d-4019-d7f5-6d4332976284"
      },
      "outputs": [
        {
          "data": {
            "text/plain": [
              "<tf.Tensor: shape=(21,), dtype=int64, numpy=\n",
              "array([ 2,  9, 14, 39,  2, 12, 21,  5, 39,  1, 20, 39, 12, 39, 19,  9, 24,\n",
              "       39, 14, 15, 23])>"
            ]
          },
          "execution_count": 18,
          "metadata": {},
          "output_type": "execute_result"
        }
      ],
      "source": [
        "alignments"
      ]
    },
    {
      "cell_type": "code",
      "execution_count": null,
      "id": "fe1ad370-b287-4b46-85a2-7c45b0bd9b10",
      "metadata": {
        "colab": {
          "base_uri": "https://localhost:8080/"
        },
        "id": "fe1ad370-b287-4b46-85a2-7c45b0bd9b10",
        "outputId": "375ac910-d14d-40c8-f19a-5f03ca99277c"
      },
      "outputs": [
        {
          "data": {
            "text/plain": [
              "<tf.Tensor: shape=(), dtype=string, numpy=b'bin blue at l six now'>"
            ]
          },
          "execution_count": 19,
          "metadata": {},
          "output_type": "execute_result"
        }
      ],
      "source": [
        "tf.strings.reduce_join([bytes.decode(x) for x in num_to_char(alignments.numpy()).numpy()])"
      ]
    },
    {
      "cell_type": "code",
      "execution_count": null,
      "id": "6871031a-b0ba-4c76-a852-f6329b0f2606",
      "metadata": {
        "id": "6871031a-b0ba-4c76-a852-f6329b0f2606",
        "tags": []
      },
      "outputs": [],
      "source": [
        "def mappable_function(path:str) ->List[str]:\n",
        "    result = tf.py_function(load_data, [path], (tf.float32, tf.int64))\n",
        "    return result"
      ]
    },
    {
      "cell_type": "markdown",
      "id": "c40a7eb4-0c3e-4eab-9291-5611cb68ce08",
      "metadata": {
        "id": "c40a7eb4-0c3e-4eab-9291-5611cb68ce08",
        "tags": []
      },
      "source": [
        "# 2. Create Data Pipeline"
      ]
    },
    {
      "cell_type": "code",
      "execution_count": null,
      "id": "7686355d-45aa-4c85-ad9c-053e6a9b4d81",
      "metadata": {
        "id": "7686355d-45aa-4c85-ad9c-053e6a9b4d81",
        "tags": []
      },
      "outputs": [],
      "source": [
        "from matplotlib import pyplot as plt"
      ]
    },
    {
      "cell_type": "code",
      "execution_count": null,
      "id": "f066fea2-91b1-42ed-a67d-00566a1a53ff",
      "metadata": {
        "id": "f066fea2-91b1-42ed-a67d-00566a1a53ff",
        "tags": []
      },
      "outputs": [],
      "source": [
        "data = tf.data.Dataset.list_files('./data/s1/*.mpg')\n",
        "data = data.shuffle(500, reshuffle_each_iteration=False)\n",
        "data = data.map(mappable_function)\n",
        "data = data.padded_batch(2, padded_shapes=([75,None,None,None],[40]))\n",
        "data = data.prefetch(tf.data.AUTOTUNE)\n",
        "# Added for split\n",
        "train = data.take(450)\n",
        "test = data.skip(450)"
      ]
    },
    {
      "cell_type": "code",
      "execution_count": null,
      "id": "6b1365bd-7742-41d1-95d4-247021751c3a",
      "metadata": {
        "colab": {
          "base_uri": "https://localhost:8080/"
        },
        "id": "6b1365bd-7742-41d1-95d4-247021751c3a",
        "outputId": "8dadfb29-f3ec-4b1c-b8a1-309a6aed9299"
      },
      "outputs": [
        {
          "data": {
            "text/plain": [
              "50"
            ]
          },
          "execution_count": 23,
          "metadata": {},
          "output_type": "execute_result"
        }
      ],
      "source": [
        "len(test)"
      ]
    },
    {
      "cell_type": "code",
      "execution_count": null,
      "id": "5281bde8-fdc8-4da1-bd55-5a7929a9e80c",
      "metadata": {
        "id": "5281bde8-fdc8-4da1-bd55-5a7929a9e80c"
      },
      "outputs": [],
      "source": [
        "frames, alignments = data.as_numpy_iterator().next()"
      ]
    },
    {
      "cell_type": "code",
      "execution_count": null,
      "id": "cbebe683-6afd-47fd-bba4-c83b4b13bb32",
      "metadata": {
        "colab": {
          "base_uri": "https://localhost:8080/"
        },
        "id": "cbebe683-6afd-47fd-bba4-c83b4b13bb32",
        "outputId": "f06e5150-e951-46ef-e514-b95f4b5ad833"
      },
      "outputs": [
        {
          "data": {
            "text/plain": [
              "2"
            ]
          },
          "execution_count": 25,
          "metadata": {},
          "output_type": "execute_result"
        }
      ],
      "source": [
        "len(frames)"
      ]
    },
    {
      "cell_type": "code",
      "execution_count": null,
      "id": "5cf2d676-93a9-434c-b3c7-bdcc2577b2e7",
      "metadata": {
        "id": "5cf2d676-93a9-434c-b3c7-bdcc2577b2e7",
        "tags": []
      },
      "outputs": [],
      "source": [
        "sample = data.as_numpy_iterator()"
      ]
    },
    {
      "cell_type": "code",
      "execution_count": null,
      "id": "efa6cd46-7079-46c0-b45b-832f339f6cb0",
      "metadata": {
        "colab": {
          "base_uri": "https://localhost:8080/"
        },
        "id": "efa6cd46-7079-46c0-b45b-832f339f6cb0",
        "outputId": "444000c9-db2d-4107-e93b-7b77a9c7f009",
        "scrolled": true,
        "tags": []
      },
      "outputs": [
        {
          "data": {
            "text/plain": [
              "array([[[[[ 1.4715209 ],\n",
              "          [ 1.4715209 ],\n",
              "          [ 1.3919792 ],\n",
              "          ...,\n",
              "          [ 9.50523   ],\n",
              "          [10.062021  ],\n",
              "          [10.062021  ]],\n",
              "\n",
              "         [[ 1.4715209 ],\n",
              "          [ 1.4715209 ],\n",
              "          [ 1.3919792 ],\n",
              "          ...,\n",
              "          [ 9.465459  ],\n",
              "          [ 0.        ],\n",
              "          [ 9.98248   ]],\n",
              "\n",
              "         [[ 1.3522085 ],\n",
              "          [ 1.3522085 ],\n",
              "          [ 1.3522085 ],\n",
              "          ...,\n",
              "          [ 9.98248   ],\n",
              "          [ 0.11931251],\n",
              "          [ 0.11931251]],\n",
              "\n",
              "         ...,\n",
              "\n",
              "         [[ 0.9942709 ],\n",
              "          [ 0.9942709 ],\n",
              "          [ 0.9545001 ],\n",
              "          ...,\n",
              "          [10.141563  ],\n",
              "          [10.101792  ],\n",
              "          [10.101792  ]],\n",
              "\n",
              "         [[ 0.9942709 ],\n",
              "          [ 0.9942709 ],\n",
              "          [ 0.9545001 ],\n",
              "          ...,\n",
              "          [10.062021  ],\n",
              "          [10.022251  ],\n",
              "          [10.022251  ]],\n",
              "\n",
              "         [[ 0.9942709 ],\n",
              "          [ 0.9942709 ],\n",
              "          [ 0.9545001 ],\n",
              "          ...,\n",
              "          [10.062021  ],\n",
              "          [10.022251  ],\n",
              "          [10.022251  ]]],\n",
              "\n",
              "\n",
              "        [[[ 1.43175   ],\n",
              "          [ 1.43175   ],\n",
              "          [ 1.43175   ],\n",
              "          ...,\n",
              "          [ 9.346147  ],\n",
              "          [10.062021  ],\n",
              "          [ 9.98248   ]],\n",
              "\n",
              "         [[ 1.43175   ],\n",
              "          [ 1.43175   ],\n",
              "          [ 1.43175   ],\n",
              "          ...,\n",
              "          [ 9.465459  ],\n",
              "          [ 9.942709  ],\n",
              "          [10.101792  ]],\n",
              "\n",
              "         [[ 1.3522085 ],\n",
              "          [ 1.3522085 ],\n",
              "          [ 1.3522085 ],\n",
              "          ...,\n",
              "          [10.062021  ],\n",
              "          [ 0.11931251],\n",
              "          [ 0.11931251]],\n",
              "\n",
              "         ...,\n",
              "\n",
              "         [[ 0.9545001 ],\n",
              "          [ 0.9545001 ],\n",
              "          [ 0.91472924],\n",
              "          ...,\n",
              "          [10.141563  ],\n",
              "          [10.062021  ],\n",
              "          [10.062021  ]],\n",
              "\n",
              "         [[ 0.9545001 ],\n",
              "          [ 0.9545001 ],\n",
              "          [ 0.91472924],\n",
              "          ...,\n",
              "          [10.062021  ],\n",
              "          [10.022251  ],\n",
              "          [10.022251  ]],\n",
              "\n",
              "         [[ 0.9545001 ],\n",
              "          [ 0.9545001 ],\n",
              "          [ 0.91472924],\n",
              "          ...,\n",
              "          [10.062021  ],\n",
              "          [10.022251  ],\n",
              "          [10.022251  ]]],\n",
              "\n",
              "\n",
              "        [[[ 1.43175   ],\n",
              "          [ 1.43175   ],\n",
              "          [ 1.43175   ],\n",
              "          ...,\n",
              "          [ 9.226834  ],\n",
              "          [ 9.98248   ],\n",
              "          [10.101792  ]],\n",
              "\n",
              "         [[ 1.43175   ],\n",
              "          [ 1.43175   ],\n",
              "          [ 1.43175   ],\n",
              "          ...,\n",
              "          [ 9.266604  ],\n",
              "          [ 9.98248   ],\n",
              "          [10.101792  ]],\n",
              "\n",
              "         [[ 1.3522085 ],\n",
              "          [ 1.3522085 ],\n",
              "          [ 1.3522085 ],\n",
              "          ...,\n",
              "          [10.062021  ],\n",
              "          [ 0.11931251],\n",
              "          [ 0.11931251]],\n",
              "\n",
              "         ...,\n",
              "\n",
              "         [[ 0.9545001 ],\n",
              "          [ 0.9942709 ],\n",
              "          [ 0.9545001 ],\n",
              "          ...,\n",
              "          [10.062021  ],\n",
              "          [10.022251  ],\n",
              "          [10.022251  ]],\n",
              "\n",
              "         [[ 0.9545001 ],\n",
              "          [ 0.9942709 ],\n",
              "          [ 0.91472924],\n",
              "          ...,\n",
              "          [10.022251  ],\n",
              "          [ 9.98248   ],\n",
              "          [ 9.98248   ]],\n",
              "\n",
              "         [[ 0.91472924],\n",
              "          [ 0.9545001 ],\n",
              "          [ 0.91472924],\n",
              "          ...,\n",
              "          [10.022251  ],\n",
              "          [ 9.98248   ],\n",
              "          [ 9.98248   ]]],\n",
              "\n",
              "\n",
              "        ...,\n",
              "\n",
              "\n",
              "        [[[ 1.3919792 ],\n",
              "          [ 1.3919792 ],\n",
              "          [ 1.3919792 ],\n",
              "          ...,\n",
              "          [ 9.942709  ],\n",
              "          [ 0.15908335],\n",
              "          [ 0.19885418]],\n",
              "\n",
              "         [[ 1.3919792 ],\n",
              "          [ 1.3919792 ],\n",
              "          [ 1.3919792 ],\n",
              "          ...,\n",
              "          [ 9.942709  ],\n",
              "          [ 0.07954168],\n",
              "          [ 0.23862502]],\n",
              "\n",
              "         [[ 1.3522085 ],\n",
              "          [ 1.3522085 ],\n",
              "          [ 1.3522085 ],\n",
              "          ...,\n",
              "          [ 0.        ],\n",
              "          [ 0.19885418],\n",
              "          [ 0.15908335]],\n",
              "\n",
              "         ...,\n",
              "\n",
              "         [[ 0.9545001 ],\n",
              "          [ 0.9545001 ],\n",
              "          [ 0.9545001 ],\n",
              "          ...,\n",
              "          [10.101792  ],\n",
              "          [10.101792  ],\n",
              "          [10.101792  ]],\n",
              "\n",
              "         [[ 0.9545001 ],\n",
              "          [ 0.9545001 ],\n",
              "          [ 0.9545001 ],\n",
              "          ...,\n",
              "          [10.101792  ],\n",
              "          [10.101792  ],\n",
              "          [10.101792  ]],\n",
              "\n",
              "         [[ 0.9545001 ],\n",
              "          [ 0.9545001 ],\n",
              "          [ 0.9545001 ],\n",
              "          ...,\n",
              "          [10.101792  ],\n",
              "          [10.101792  ],\n",
              "          [10.062021  ]]],\n",
              "\n",
              "\n",
              "        [[[ 1.3124377 ],\n",
              "          [ 1.3124377 ],\n",
              "          [ 1.3522085 ],\n",
              "          ...,\n",
              "          [ 9.98248   ],\n",
              "          [ 0.11931251],\n",
              "          [ 0.15908335]],\n",
              "\n",
              "         [[ 1.3124377 ],\n",
              "          [ 1.3124377 ],\n",
              "          [ 1.3522085 ],\n",
              "          ...,\n",
              "          [ 9.783626  ],\n",
              "          [ 0.11931251],\n",
              "          [ 0.03977084]],\n",
              "\n",
              "         [[ 1.3522085 ],\n",
              "          [ 1.3522085 ],\n",
              "          [ 1.3522085 ],\n",
              "          ...,\n",
              "          [ 0.07954168],\n",
              "          [ 0.19885418],\n",
              "          [ 0.15908335]],\n",
              "\n",
              "         ...,\n",
              "\n",
              "         [[ 0.91472924],\n",
              "          [ 0.91472924],\n",
              "          [ 0.91472924],\n",
              "          ...,\n",
              "          [10.101792  ],\n",
              "          [10.101792  ],\n",
              "          [10.101792  ]],\n",
              "\n",
              "         [[ 0.91472924],\n",
              "          [ 0.91472924],\n",
              "          [ 0.91472924],\n",
              "          ...,\n",
              "          [10.101792  ],\n",
              "          [10.101792  ],\n",
              "          [10.101792  ]],\n",
              "\n",
              "         [[ 0.91472924],\n",
              "          [ 0.91472924],\n",
              "          [ 0.91472924],\n",
              "          ...,\n",
              "          [10.101792  ],\n",
              "          [10.062021  ],\n",
              "          [10.062021  ]]],\n",
              "\n",
              "\n",
              "        [[[ 1.2726668 ],\n",
              "          [ 1.2726668 ],\n",
              "          [ 1.3919792 ],\n",
              "          ...,\n",
              "          [ 9.942709  ],\n",
              "          [ 0.15908335],\n",
              "          [ 0.11931251]],\n",
              "\n",
              "         [[ 1.2726668 ],\n",
              "          [ 1.2726668 ],\n",
              "          [ 1.3919792 ],\n",
              "          ...,\n",
              "          [ 9.7438545 ],\n",
              "          [ 0.15908335],\n",
              "          [ 0.        ]],\n",
              "\n",
              "         [[ 1.3919792 ],\n",
              "          [ 1.3919792 ],\n",
              "          [ 1.3919792 ],\n",
              "          ...,\n",
              "          [ 0.03977084],\n",
              "          [ 0.15908335],\n",
              "          [ 0.07954168]],\n",
              "\n",
              "         ...,\n",
              "\n",
              "         [[ 0.9545001 ],\n",
              "          [ 0.9545001 ],\n",
              "          [ 0.9545001 ],\n",
              "          ...,\n",
              "          [10.101792  ],\n",
              "          [10.141563  ],\n",
              "          [10.101792  ]],\n",
              "\n",
              "         [[ 0.91472924],\n",
              "          [ 0.91472924],\n",
              "          [ 0.91472924],\n",
              "          ...,\n",
              "          [10.141563  ],\n",
              "          [10.062021  ],\n",
              "          [10.062021  ]],\n",
              "\n",
              "         [[ 0.91472924],\n",
              "          [ 0.91472924],\n",
              "          [ 0.91472924],\n",
              "          ...,\n",
              "          [10.101792  ],\n",
              "          [10.022251  ],\n",
              "          [10.022251  ]]]],\n",
              "\n",
              "\n",
              "\n",
              "       [[[[ 1.4258646 ],\n",
              "          [ 1.4258646 ],\n",
              "          [ 1.3893039 ],\n",
              "          ...,\n",
              "          [ 0.29248506],\n",
              "          [ 0.21936378],\n",
              "          [ 0.21936378]],\n",
              "\n",
              "         [[ 1.4258646 ],\n",
              "          [ 1.4258646 ],\n",
              "          [ 1.3527434 ],\n",
              "          ...,\n",
              "          [ 0.29248506],\n",
              "          [ 0.21936378],\n",
              "          [ 0.21936378]],\n",
              "\n",
              "         [[ 1.5355465 ],\n",
              "          [ 1.5355465 ],\n",
              "          [ 1.4258646 ],\n",
              "          ...,\n",
              "          [ 0.40216693],\n",
              "          [ 0.32904568],\n",
              "          [ 0.32904568]],\n",
              "\n",
              "         ...,\n",
              "\n",
              "         [[ 1.0602583 ],\n",
              "          [ 1.0236976 ],\n",
              "          [ 1.0236976 ],\n",
              "          ...,\n",
              "          [ 0.14624253],\n",
              "          [ 0.10968189],\n",
              "          [ 0.07312126]],\n",
              "\n",
              "         [[ 1.0236976 ],\n",
              "          [ 1.0236976 ],\n",
              "          [ 1.0236976 ],\n",
              "          ...,\n",
              "          [ 0.14624253],\n",
              "          [ 0.10968189],\n",
              "          [ 0.07312126]],\n",
              "\n",
              "         [[ 1.0236976 ],\n",
              "          [ 1.0236976 ],\n",
              "          [ 1.0236976 ],\n",
              "          ...,\n",
              "          [ 0.14624253],\n",
              "          [ 0.07312126],\n",
              "          [ 0.07312126]]],\n",
              "\n",
              "\n",
              "        [[[ 1.3893039 ],\n",
              "          [ 1.4624252 ],\n",
              "          [ 1.3893039 ],\n",
              "          ...,\n",
              "          [ 0.29248506],\n",
              "          [ 0.21936378],\n",
              "          [ 0.21936378]],\n",
              "\n",
              "         [[ 1.4624252 ],\n",
              "          [ 1.5355465 ],\n",
              "          [ 1.3893039 ],\n",
              "          ...,\n",
              "          [ 0.29248506],\n",
              "          [ 0.21936378],\n",
              "          [ 0.21936378]],\n",
              "\n",
              "         [[ 1.4624252 ],\n",
              "          [ 1.4624252 ],\n",
              "          [ 1.4624252 ],\n",
              "          ...,\n",
              "          [ 0.32904568],\n",
              "          [ 0.29248506],\n",
              "          [ 0.29248506]],\n",
              "\n",
              "         ...,\n",
              "\n",
              "         [[ 1.0602583 ],\n",
              "          [ 1.0236976 ],\n",
              "          [ 1.0236976 ],\n",
              "          ...,\n",
              "          [ 0.14624253],\n",
              "          [ 0.14624253],\n",
              "          [ 0.10968189]],\n",
              "\n",
              "         [[ 1.0236976 ],\n",
              "          [ 1.0236976 ],\n",
              "          [ 1.0236976 ],\n",
              "          ...,\n",
              "          [ 0.14624253],\n",
              "          [ 0.07312126],\n",
              "          [ 0.07312126]],\n",
              "\n",
              "         [[ 1.0236976 ],\n",
              "          [ 1.0236976 ],\n",
              "          [ 1.0236976 ],\n",
              "          ...,\n",
              "          [ 0.10968189],\n",
              "          [ 0.07312126],\n",
              "          [ 0.03656063]]],\n",
              "\n",
              "\n",
              "        [[[ 1.4258646 ],\n",
              "          [ 1.5355465 ],\n",
              "          [ 1.4989859 ],\n",
              "          ...,\n",
              "          [ 0.29248506],\n",
              "          [ 0.21936378],\n",
              "          [ 0.21936378]],\n",
              "\n",
              "         [[ 1.5355465 ],\n",
              "          [ 1.5721071 ],\n",
              "          [ 1.4989859 ],\n",
              "          ...,\n",
              "          [ 0.29248506],\n",
              "          [ 0.21936378],\n",
              "          [ 0.21936378]],\n",
              "\n",
              "         [[ 1.4989859 ],\n",
              "          [ 1.4989859 ],\n",
              "          [ 1.4624252 ],\n",
              "          ...,\n",
              "          [ 0.32904568],\n",
              "          [ 0.21936378],\n",
              "          [ 0.21936378]],\n",
              "\n",
              "         ...,\n",
              "\n",
              "         [[ 1.0602583 ],\n",
              "          [ 1.0236976 ],\n",
              "          [ 1.0236976 ],\n",
              "          ...,\n",
              "          [ 0.14624253],\n",
              "          [ 0.07312126],\n",
              "          [ 0.07312126]],\n",
              "\n",
              "         [[ 1.0236976 ],\n",
              "          [ 1.0236976 ],\n",
              "          [ 1.0236976 ],\n",
              "          ...,\n",
              "          [ 0.10968189],\n",
              "          [ 0.07312126],\n",
              "          [ 0.03656063]],\n",
              "\n",
              "         [[ 1.0236976 ],\n",
              "          [ 1.0236976 ],\n",
              "          [ 1.0236976 ],\n",
              "          ...,\n",
              "          [ 0.10968189],\n",
              "          [ 0.07312126],\n",
              "          [ 0.03656063]]],\n",
              "\n",
              "\n",
              "        ...,\n",
              "\n",
              "\n",
              "        [[[ 1.3893039 ],\n",
              "          [ 1.3527434 ],\n",
              "          [ 1.3893039 ],\n",
              "          ...,\n",
              "          [ 0.2559244 ],\n",
              "          [ 0.29248506],\n",
              "          [ 0.29248506]],\n",
              "\n",
              "         [[ 1.3527434 ],\n",
              "          [ 1.3527434 ],\n",
              "          [ 1.3893039 ],\n",
              "          ...,\n",
              "          [ 0.2559244 ],\n",
              "          [ 0.29248506],\n",
              "          [ 0.29248506]],\n",
              "\n",
              "         [[ 1.3161827 ],\n",
              "          [ 1.3161827 ],\n",
              "          [ 1.3161827 ],\n",
              "          ...,\n",
              "          [ 0.21936378],\n",
              "          [ 0.18280315],\n",
              "          [ 0.18280315]],\n",
              "\n",
              "         ...,\n",
              "\n",
              "         [[ 0.91401577],\n",
              "          [ 0.91401577],\n",
              "          [ 0.91401577],\n",
              "          ...,\n",
              "          [ 0.10968189],\n",
              "          [ 0.07312126],\n",
              "          [ 0.07312126]],\n",
              "\n",
              "         [[ 0.91401577],\n",
              "          [ 0.91401577],\n",
              "          [ 0.91401577],\n",
              "          ...,\n",
              "          [ 0.14624253],\n",
              "          [ 0.07312126],\n",
              "          [ 0.03656063]],\n",
              "\n",
              "         [[ 0.91401577],\n",
              "          [ 0.91401577],\n",
              "          [ 0.91401577],\n",
              "          ...,\n",
              "          [ 0.10968189],\n",
              "          [ 0.03656063],\n",
              "          [ 0.03656063]]],\n",
              "\n",
              "\n",
              "        [[[ 1.4258646 ],\n",
              "          [ 1.3893039 ],\n",
              "          [ 1.3893039 ],\n",
              "          ...,\n",
              "          [ 0.21936378],\n",
              "          [ 0.2559244 ],\n",
              "          [ 0.2559244 ]],\n",
              "\n",
              "         [[ 1.3893039 ],\n",
              "          [ 1.3893039 ],\n",
              "          [ 1.3893039 ],\n",
              "          ...,\n",
              "          [ 0.21936378],\n",
              "          [ 0.2559244 ],\n",
              "          [ 0.2559244 ]],\n",
              "\n",
              "         [[ 1.3527434 ],\n",
              "          [ 1.3527434 ],\n",
              "          [ 1.3893039 ],\n",
              "          ...,\n",
              "          [ 0.21936378],\n",
              "          [ 0.18280315],\n",
              "          [ 0.18280315]],\n",
              "\n",
              "         ...,\n",
              "\n",
              "         [[ 0.987137  ],\n",
              "          [ 0.9505764 ],\n",
              "          [ 0.91401577],\n",
              "          ...,\n",
              "          [ 0.07312126],\n",
              "          [ 0.07312126],\n",
              "          [ 0.07312126]],\n",
              "\n",
              "         [[ 0.987137  ],\n",
              "          [ 0.9505764 ],\n",
              "          [ 0.91401577],\n",
              "          ...,\n",
              "          [ 0.07312126],\n",
              "          [ 0.07312126],\n",
              "          [ 0.03656063]],\n",
              "\n",
              "         [[ 0.987137  ],\n",
              "          [ 0.9505764 ],\n",
              "          [ 0.91401577],\n",
              "          ...,\n",
              "          [ 0.03656063],\n",
              "          [ 0.03656063],\n",
              "          [ 0.03656063]]],\n",
              "\n",
              "\n",
              "        [[[ 1.4258646 ],\n",
              "          [ 1.3893039 ],\n",
              "          [ 1.3893039 ],\n",
              "          ...,\n",
              "          [ 0.2559244 ],\n",
              "          [ 0.21936378],\n",
              "          [ 0.21936378]],\n",
              "\n",
              "         [[ 1.3893039 ],\n",
              "          [ 1.3893039 ],\n",
              "          [ 1.3893039 ],\n",
              "          ...,\n",
              "          [ 0.2559244 ],\n",
              "          [ 0.21936378],\n",
              "          [ 0.21936378]],\n",
              "\n",
              "         [[ 1.4258646 ],\n",
              "          [ 1.4258646 ],\n",
              "          [ 1.3893039 ],\n",
              "          ...,\n",
              "          [ 0.29248506],\n",
              "          [ 0.18280315],\n",
              "          [ 0.18280315]],\n",
              "\n",
              "         ...,\n",
              "\n",
              "         [[ 0.987137  ],\n",
              "          [ 0.9505764 ],\n",
              "          [ 0.91401577],\n",
              "          ...,\n",
              "          [ 0.10968189],\n",
              "          [ 0.07312126],\n",
              "          [ 0.07312126]],\n",
              "\n",
              "         [[ 0.987137  ],\n",
              "          [ 0.9505764 ],\n",
              "          [ 0.91401577],\n",
              "          ...,\n",
              "          [ 0.07312126],\n",
              "          [ 0.07312126],\n",
              "          [ 0.07312126]],\n",
              "\n",
              "         [[ 0.987137  ],\n",
              "          [ 0.9505764 ],\n",
              "          [ 0.91401577],\n",
              "          ...,\n",
              "          [ 0.07312126],\n",
              "          [ 0.07312126],\n",
              "          [ 0.03656063]]]]], dtype=float32)"
            ]
          },
          "execution_count": 27,
          "metadata": {},
          "output_type": "execute_result"
        }
      ],
      "source": [
        "val = sample.next(); val[0]"
      ]
    },
    {
      "cell_type": "code",
      "execution_count": null,
      "id": "acf5eb4f-a0da-4a9a-bf24-af13e9cc2fbe",
      "metadata": {
        "id": "acf5eb4f-a0da-4a9a-bf24-af13e9cc2fbe",
        "tags": []
      },
      "outputs": [],
      "source": [
        "# Assuming `val[0][0]` is your image data\n",
        "image_data = val[0][0]\n",
        "\n",
        "# Normalize your data to be between 0 and 255\n",
        "normalized_data = np.clip(image_data, 0, 255)\n",
        "\n",
        "# Convert to uint8\n",
        "uint8_data = normalized_data.astype(np.uint8)\n",
        "\n",
        "# Remove the last dimension since it's grayscale\n",
        "squeezed_data = uint8_data.squeeze(-1)\n",
        "\n",
        "# Calculate duration based on fps\n",
        "duration = 1000 / 10  # for fps=10\n",
        "\n",
        "# Save the image sequence as a GIF\n",
        "imageio.mimsave('./animation.gif', squeezed_data, duration=duration)"
      ]
    },
    {
      "cell_type": "code",
      "execution_count": null,
      "id": "c33a87a2-d5e0-4ec9-b174-73ebf41bf03a",
      "metadata": {
        "colab": {
          "base_uri": "https://localhost:8080/",
          "height": 244
        },
        "id": "c33a87a2-d5e0-4ec9-b174-73ebf41bf03a",
        "outputId": "10e12ffd-4fdb-49a4-b34f-b5399b84a903",
        "tags": []
      },
      "outputs": [
        {
          "data": {
            "text/plain": [
              "<matplotlib.image.AxesImage at 0x7fdf799127d0>"
            ]
          },
          "execution_count": 29,
          "metadata": {},
          "output_type": "execute_result"
        },
        {
          "data": {
            "image/png": "[encoded data removed]",
            "text/plain": [
              "<Figure size 640x480 with 1 Axes>"
            ]
          },
          "metadata": {},
          "output_type": "display_data"
        }
      ],
      "source": [
        "# 0:videos, 0: 1st video out of the batch,  0: return the first frame in the video\n",
        "plt.imshow(val[0][0][35])"
      ]
    },
    {
      "cell_type": "code",
      "execution_count": null,
      "id": "84593332-133c-4205-b7a6-8e235d5e2b3b",
      "metadata": {
        "colab": {
          "base_uri": "https://localhost:8080/"
        },
        "id": "84593332-133c-4205-b7a6-8e235d5e2b3b",
        "outputId": "f71c5e4f-6875-4cd2-f4c2-897172330677",
        "tags": []
      },
      "outputs": [
        {
          "data": {
            "text/plain": [
              "<tf.Tensor: shape=(), dtype=string, numpy=b'lay green with g two now'>"
            ]
          },
          "execution_count": 30,
          "metadata": {},
          "output_type": "execute_result"
        }
      ],
      "source": [
        "tf.strings.reduce_join([num_to_char(word) for word in val[1][0]])"
      ]
    },
    {
      "cell_type": "markdown",
      "id": "0f47733c-83bc-465c-b118-b198b492ad37",
      "metadata": {
        "id": "0f47733c-83bc-465c-b118-b198b492ad37",
        "tags": []
      },
      "source": [
        "# 3. Design the Deep Neural Network"
      ]
    },
    {
      "cell_type": "code",
      "execution_count": null,
      "id": "d8e9a497-191b-4842-afbd-26f5e13c43ba",
      "metadata": {
        "id": "d8e9a497-191b-4842-afbd-26f5e13c43ba",
        "tags": []
      },
      "outputs": [],
      "source": [
        "from tensorflow.keras.models import Model\n",
        "from tensorflow.keras.layers import Input, Conv3D, MaxPool3D, Flatten, Dense, TimeDistributed, Dropout, Bidirectional, LSTM, concatenate, BatchNormalization, Lambda\n",
        "from tensorflow.keras.optimizers import Adam\n",
        "from tensorflow.keras.applications import EfficientNetB0\n",
        "from tensorflow.keras.callbacks import ModelCheckpoint, LearningRateScheduler"
      ]
    },
    {
      "cell_type": "code",
      "execution_count": null,
      "id": "3f753ed2-70b9-4236-8c1c-08ca065dc8bf",
      "metadata": {
        "colab": {
          "base_uri": "https://localhost:8080/"
        },
        "id": "3f753ed2-70b9-4236-8c1c-08ca065dc8bf",
        "outputId": "6f74d015-3dea-48d0-db99-ef41914e5a30"
      },
      "outputs": [
        {
          "data": {
            "text/plain": [
              "(75, 46, 140, 1)"
            ]
          },
          "execution_count": 32,
          "metadata": {},
          "output_type": "execute_result"
        }
      ],
      "source": [
        "data.as_numpy_iterator().next()[0][0].shape"
      ]
    },
    {
      "cell_type": "code",
      "execution_count": null,
      "id": "2eb9777f-b8da-4eee-a4b6-4b273846152c",
      "metadata": {
        "id": "2eb9777f-b8da-4eee-a4b6-4b273846152c",
        "outputId": "b6e35f78-eea8-472b-bc37-907dd4b72853"
      },
      "outputs": [
        {
          "name": "stdout",
          "output_type": "stream",
          "text": [
            "Model: \"model\"\n",
            "__________________________________________________________________________________________________\n",
            " Layer (type)                   Output Shape         Param #     Connected to                     \n",
            "==================================================================================================\n",
            " input_1 (InputLayer)           [(None, 75, 46, 140  0           []                               \n",
            "                                , 1)]                                                             \n",
            "                                                                                                  \n",
            " conv3d (Conv3D)                (None, 75, 46, 140,  1792        ['input_1[0][0]']                \n",
            "                                 64)                                                              \n",
            "                                                                                                  \n",
            " batch_normalization (BatchNorm  (None, 75, 46, 140,  256        ['conv3d[0][0]']                 \n",
            " alization)                      64)                                                              \n",
            "                                                                                                  \n",
            " max_pooling3d (MaxPooling3D)   (None, 75, 23, 70,   0           ['batch_normalization[0][0]']    \n",
            "                                64)                                                               \n",
            "                                                                                                  \n",
            " conv3d_1 (Conv3D)              (None, 75, 23, 70,   221312      ['max_pooling3d[0][0]']          \n",
            "                                128)                                                              \n",
            "                                                                                                  \n",
            " batch_normalization_1 (BatchNo  (None, 75, 23, 70,   512        ['conv3d_1[0][0]']               \n",
            " rmalization)                   128)                                                              \n",
            "                                                                                                  \n",
            " max_pooling3d_1 (MaxPooling3D)  (None, 75, 11, 35,   0          ['batch_normalization_1[0][0]']  \n",
            "                                128)                                                              \n",
            "                                                                                                  \n",
            " conv3d_2 (Conv3D)              (None, 75, 11, 35,   884992      ['max_pooling3d_1[0][0]']        \n",
            "                                256)                                                              \n",
            "                                                                                                  \n",
            " batch_normalization_2 (BatchNo  (None, 75, 11, 35,   1024       ['conv3d_2[0][0]']               \n",
            " rmalization)                   256)                                                              \n",
            "                                                                                                  \n",
            " max_pooling3d_2 (MaxPooling3D)  (None, 75, 5, 17, 2  0          ['batch_normalization_2[0][0]']  \n",
            "                                56)                                                               \n",
            "                                                                                                  \n",
            " conv3d_3 (Conv3D)              (None, 75, 5, 17, 5  3539456     ['max_pooling3d_2[0][0]']        \n",
            "                                12)                                                               \n",
            "                                                                                                  \n",
            " lambda (Lambda)                (None, 75, 46, 140,  0           ['input_1[0][0]']                \n",
            "                                 3)                                                               \n",
            "                                                                                                  \n",
            " batch_normalization_3 (BatchNo  (None, 75, 5, 17, 5  2048       ['conv3d_3[0][0]']               \n",
            " rmalization)                   12)                                                               \n",
            "                                                                                                  \n",
            " time_distributed_1 (TimeDistri  (None, 75, 224, 224  0          ['lambda[0][0]']                 \n",
            " buted)                         , 3)                                                              \n",
            "                                                                                                  \n",
            " max_pooling3d_3 (MaxPooling3D)  (None, 75, 2, 8, 51  0          ['batch_normalization_3[0][0]']  \n",
            "                                2)                                                                \n",
            "                                                                                                  \n",
            " time_distributed_2 (TimeDistri  (None, 75, 7, 7, 12  4049571    ['time_distributed_1[0][0]']     \n",
            " buted)                         80)                                                               \n",
            "                                                                                                  \n",
            " time_distributed (TimeDistribu  (None, 75, 8192)    0           ['max_pooling3d_3[0][0]']        \n",
            " ted)                                                                                             \n",
            "                                                                                                  \n",
            " time_distributed_3 (TimeDistri  (None, 75, 62720)   0           ['time_distributed_2[0][0]']     \n",
            " buted)                                                                                           \n",
            "                                                                                                  \n",
            " concatenate (Concatenate)      (None, 75, 70912)    0           ['time_distributed[0][0]',       \n",
            "                                                                  'time_distributed_3[0][0]']     \n",
            "                                                                                                  \n",
            " bidirectional (Bidirectional)  (None, 75, 1024)     292556800   ['concatenate[0][0]']            \n",
            "                                                                                                  \n",
            " dropout (Dropout)              (None, 75, 1024)     0           ['bidirectional[0][0]']          \n",
            "                                                                                                  \n",
            " bidirectional_1 (Bidirectional  (None, 75, 1024)    6295552     ['dropout[0][0]']                \n",
            " )                                                                                                \n",
            "                                                                                                  \n",
            " dropout_1 (Dropout)            (None, 75, 1024)     0           ['bidirectional_1[0][0]']        \n",
            "                                                                                                  \n",
            " time_distributed_4 (TimeDistri  (None, 75, 41)      42025       ['dropout_1[0][0]']              \n",
            " buted)                                                                                           \n",
            "                                                                                                  \n",
            "==================================================================================================\n",
            "Total params: 307,595,340\n",
            "Trainable params: 304,894,809\n",
            "Non-trainable params: 2,700,531\n",
            "__________________________________________________________________________________________________\n"
          ]
        }
      ],
      "source": [
        "input_shape = (75, 46, 140, 1)  # Original input shape\n",
        "\n",
        "# Input layer\n",
        "input_layer = Input(shape=input_shape)\n",
        "\n",
        "# 3D Convolutional layers with BatchNormalization\n",
        "conv3d_1 = Conv3D(64, (3, 3, 3), padding='same', activation='relu')(input_layer)\n",
        "bn1 = BatchNormalization()(conv3d_1)\n",
        "maxpool3d_1 = MaxPool3D((1,2,2))(bn1)\n",
        "\n",
        "conv3d_2 = Conv3D(128, (3, 3, 3), padding='same', activation='relu')(maxpool3d_1)\n",
        "bn2 = BatchNormalization()(conv3d_2)\n",
        "maxpool3d_2 = MaxPool3D((1,2,2))(bn2)\n",
        "\n",
        "conv3d_3 = Conv3D(256, (3, 3, 3), padding='same', activation='relu')(maxpool3d_2)\n",
        "bn3 = BatchNormalization()(conv3d_3)\n",
        "maxpool3d_3 = MaxPool3D((1,2,2))(bn3)\n",
        "\n",
        "conv3d_4 = Conv3D(512, (3, 3, 3), padding='same', activation='relu')(maxpool3d_3)\n",
        "bn4 = BatchNormalization()(conv3d_4)\n",
        "maxpool3d_4 = MaxPool3D((1,2,2))(bn4)\n",
        "\n",
        "# Flatten the output of the 3D conv layers\n",
        "flattened_3d_conv_output = TimeDistributed(Flatten())(maxpool3d_4)\n",
        "\n",
        "# Prepare input for EfficientNetB0\n",
        "efficientnet_input_adjusted = Lambda(lambda x: tf.repeat(x, 3, -1))(input_layer)\n",
        "efficientnet_input_adjusted = TimeDistributed(Lambda(lambda x: tf.image.resize(x, (224, 224))))(efficientnet_input_adjusted)\n",
        "\n",
        "# EfficientNetB0 feature extraction\n",
        "efficientnet = EfficientNetB0(include_top=False, weights='imagenet', input_shape=(224, 224, 3))\n",
        "# Fine-tuning: Unfreeze the top 20 layers\n",
        "efficientnet.trainable = True\n",
        "for layer in efficientnet.layers[:-20]:\n",
        "    layer.trainable = False\n",
        "\n",
        "efficientnet_features = TimeDistributed(efficientnet)(efficientnet_input_adjusted)\n",
        "flattened_efficientnet_output = TimeDistributed(Flatten())(efficientnet_features)\n",
        "\n",
        "# Concatenate the features from 3D Conv and EfficientNetB0\n",
        "concatenated_features = concatenate([flattened_3d_conv_output, flattened_efficientnet_output])\n",
        "\n",
        "# BiLSTM layers\n",
        "bilstm_1 = Bidirectional(LSTM(512, return_sequences=True))(concatenated_features)  # Increased units\n",
        "dropout_1 = Dropout(0.3)(bilstm_1)  # Adjusted dropout rate\n",
        "bilstm_2 = Bidirectional(LSTM(512, return_sequences=True))(dropout_1)  # Increased units, ensure return_sequences=True\n",
        "dropout_2 = Dropout(0.3)(bilstm_2)  # Adjusted dropout rate\n",
        "\n",
        "# Output layer: Assuming `num_classes` is defined based on your dataset\n",
        "output_layer = TimeDistributed(Dense(char_to_num.vocabulary_size()+1, activation='softmax'))(dropout_2)\n",
        "\n",
        "# Create the model\n",
        "model = Model(inputs=input_layer, outputs=output_layer)\n",
        "\n",
        "# Model summary to inspect the final output shape\n",
        "# Model summary to inspect the final output shape\n",
        "model.summary()"
      ]
    },
    {
      "cell_type": "code",
      "execution_count": null,
      "id": "f4b4798c-a65a-4c47-9e2a-3b09dc98d320",
      "metadata": {
        "colab": {
          "base_uri": "https://localhost:8080/"
        },
        "id": "f4b4798c-a65a-4c47-9e2a-3b09dc98d320",
        "outputId": "71111427-577b-46e9-bfc0-b5709ee10156"
      },
      "outputs": [
        {
          "data": {
            "text/plain": [
              "6375"
            ]
          },
          "execution_count": 34,
          "metadata": {},
          "output_type": "execute_result"
        }
      ],
      "source": [
        "5*17*75"
      ]
    },
    {
      "cell_type": "code",
      "execution_count": null,
      "id": "e5c2eae0-c359-41a4-97a0-75c44dccb7d1",
      "metadata": {
        "colab": {
          "base_uri": "https://localhost:8080/"
        },
        "id": "e5c2eae0-c359-41a4-97a0-75c44dccb7d1",
        "outputId": "7f9be0ac-7bf9-4262-c4f3-d2bab272e743",
        "tags": []
      },
      "outputs": [
        {
          "name": "stdout",
          "output_type": "stream",
          "text": [
            "1/1 [==============================] - 3s 3s/step\n"
          ]
        }
      ],
      "source": [
        "yhat = model.predict(val[0])"
      ]
    },
    {
      "cell_type": "code",
      "execution_count": null,
      "id": "ffdc7319-0d69-4f7e-a6d4-ce72deb81c0b",
      "metadata": {
        "colab": {
          "base_uri": "https://localhost:8080/"
        },
        "id": "ffdc7319-0d69-4f7e-a6d4-ce72deb81c0b",
        "outputId": "47f65a3f-7834-47dd-a525-b863147ac114"
      },
      "outputs": [
        {
          "data": {
            "text/plain": [
              "<tf.Tensor: shape=(), dtype=string, numpy=b'6666666666666666666666666666666666666666666666666666666666666666666666666pp'>"
            ]
          },
          "execution_count": 36,
          "metadata": {},
          "output_type": "execute_result"
        }
      ],
      "source": [
        "tf.strings.reduce_join([num_to_char(x) for x in tf.argmax(yhat[0],axis=1)])"
      ]
    },
    {
      "cell_type": "code",
      "execution_count": null,
      "id": "6ed47531-8317-4255-9a12-b757642258e6",
      "metadata": {
        "colab": {
          "base_uri": "https://localhost:8080/"
        },
        "id": "6ed47531-8317-4255-9a12-b757642258e6",
        "outputId": "6b464af9-aca2-464a-eb8e-cfdf01f93085",
        "tags": []
      },
      "outputs": [
        {
          "data": {
            "text/plain": [
              "<tf.Tensor: shape=(), dtype=string, numpy=b'6666666666666666666666666666666666666666666666666666666666666666666666666pp'>"
            ]
          },
          "execution_count": 37,
          "metadata": {},
          "output_type": "execute_result"
        }
      ],
      "source": [
        "tf.strings.reduce_join([num_to_char(tf.argmax(x)) for x in yhat[0]])"
      ]
    },
    {
      "cell_type": "code",
      "execution_count": null,
      "id": "7c37b9b9-5298-4038-9c33-5031d1b457f0",
      "metadata": {
        "colab": {
          "base_uri": "https://localhost:8080/"
        },
        "id": "7c37b9b9-5298-4038-9c33-5031d1b457f0",
        "outputId": "d5290306-c23d-4662-c2b4-0b18163cb165",
        "tags": []
      },
      "outputs": [
        {
          "data": {
            "text/plain": [
              "(None, 75, 46, 140, 1)"
            ]
          },
          "execution_count": 38,
          "metadata": {},
          "output_type": "execute_result"
        }
      ],
      "source": [
        "model.input_shape"
      ]
    },
    {
      "cell_type": "code",
      "execution_count": null,
      "id": "98b316a4-5322-4782-8e36-4b3c1a696d85",
      "metadata": {
        "colab": {
          "base_uri": "https://localhost:8080/"
        },
        "id": "98b316a4-5322-4782-8e36-4b3c1a696d85",
        "outputId": "1ef2085e-9111-4be5-b02f-6019166d1c37",
        "tags": []
      },
      "outputs": [
        {
          "data": {
            "text/plain": [
              "(None, 75, 41)"
            ]
          },
          "execution_count": 39,
          "metadata": {},
          "output_type": "execute_result"
        }
      ],
      "source": [
        "model.output_shape"
      ]
    },
    {
      "cell_type": "markdown",
      "id": "2ec02176-5c26-46c3-aff7-8352e6563c7d",
      "metadata": {
        "id": "2ec02176-5c26-46c3-aff7-8352e6563c7d",
        "tags": []
      },
      "source": [
        "# 4. Setup Training Options and Train"
      ]
    },
    {
      "cell_type": "code",
      "execution_count": null,
      "id": "ab015fd0-7fb4-4d5d-9fa2-30a05dbd515a",
      "metadata": {
        "id": "ab015fd0-7fb4-4d5d-9fa2-30a05dbd515a",
        "tags": []
      },
      "outputs": [],
      "source": [
        "def scheduler(epoch, lr):\n",
        "    if epoch < 30:\n",
        "        return lr\n",
        "    else:\n",
        "        return lr * tf.math.exp(-0.1)"
      ]
    },
    {
      "cell_type": "code",
      "execution_count": null,
      "id": "c564d5c9-db54-4e88-b311-9aeab7fb3e69",
      "metadata": {
        "id": "c564d5c9-db54-4e88-b311-9aeab7fb3e69",
        "tags": []
      },
      "outputs": [],
      "source": [
        "# Compile the model with a custom CTC loss function\n",
        "def CTCLoss(y_true, y_pred):\n",
        "    batch_len = tf.cast(tf.shape(y_true)[0], dtype=\"int64\")\n",
        "    input_length = tf.cast(tf.shape(y_pred)[1], dtype=\"int64\")\n",
        "    label_length = tf.cast(tf.shape(y_true)[1], dtype=\"int64\")\n",
        "\n",
        "    input_length = input_length * tf.ones(shape=(batch_len, 1), dtype=\"int64\")\n",
        "    label_length = label_length * tf.ones(shape=(batch_len, 1), dtype=\"int64\")\n",
        "\n",
        "    loss = tf.keras.backend.ctc_batch_cost(y_true, y_pred, input_length, label_length)\n",
        "    return loss"
      ]
    },
    {
      "cell_type": "code",
      "execution_count": null,
      "id": "a26dc3fc-a19c-4378-bd8c-e2b597a1d15c",
      "metadata": {
        "id": "a26dc3fc-a19c-4378-bd8c-e2b597a1d15c",
        "tags": []
      },
      "outputs": [],
      "source": [
        "class ProduceExample(tf.keras.callbacks.Callback):\n",
        "    def __init__(self, dataset) -> None:\n",
        "        self.original_dataset = dataset\n",
        "        self.reset_iterator()\n",
        "\n",
        "    def reset_iterator(self):\n",
        "        # Reset the iterator to the beginning of the dataset\n",
        "        self.iterator = iter(self.original_dataset)\n",
        "\n",
        "    def on_epoch_end(self, epoch, logs=None) -> None:\n",
        "        try:\n",
        "            data = next(self.iterator)\n",
        "        except StopIteration:\n",
        "            # If the iterator is exhausted, reset it and try again\n",
        "            self.reset_iterator()\n",
        "            data = next(self.iterator)\n",
        "\n",
        "        yhat = self.model.predict(data[0])\n",
        "        decoded = tf.keras.backend.ctc_decode(yhat, [75,75], greedy=False)[0][0].numpy()\n",
        "        for x in range(len(yhat)):\n",
        "            print('Original:', tf.strings.reduce_join(num_to_char(data[1][x])).numpy().decode('utf-8'))\n",
        "            print('Prediction:', tf.strings.reduce_join(num_to_char(decoded[x])).numpy().decode('utf-8'))\n",
        "            print('~'*100)"
      ]
    },
    {
      "cell_type": "code",
      "execution_count": null,
      "id": "04be90d8-2482-46f9-b513-d5f4f8001c7e",
      "metadata": {
        "id": "04be90d8-2482-46f9-b513-d5f4f8001c7e",
        "tags": []
      },
      "outputs": [],
      "source": [
        "model.compile(optimizer=Adam(learning_rate=0.0001), loss=CTCLoss)"
      ]
    },
    {
      "cell_type": "code",
      "execution_count": null,
      "id": "eab49367-3f1e-4464-ae76-dbd07549d97e",
      "metadata": {
        "id": "eab49367-3f1e-4464-ae76-dbd07549d97e",
        "tags": []
      },
      "outputs": [],
      "source": [
        "checkpoint_callback = ModelCheckpoint(os.path.join('models','checkpoint'), monitor='loss', save_weights_only=True)"
      ]
    },
    {
      "cell_type": "code",
      "execution_count": null,
      "id": "e085a632-d464-46ef-8777-959cad4adb2c",
      "metadata": {
        "id": "e085a632-d464-46ef-8777-959cad4adb2c",
        "tags": []
      },
      "outputs": [],
      "source": [
        "schedule_callback = LearningRateScheduler(scheduler)"
      ]
    },
    {
      "cell_type": "code",
      "execution_count": null,
      "id": "48eca991-90ab-4592-8a79-b50e9ca015b6",
      "metadata": {
        "id": "48eca991-90ab-4592-8a79-b50e9ca015b6",
        "tags": []
      },
      "outputs": [],
      "source": [
        "example_callback = ProduceExample(test)"
      ]
    },
    {
      "cell_type": "code",
      "execution_count": null,
      "id": "8ffba483-aa61-4bbe-a15f-a73e1ddf097c",
      "metadata": {
        "id": "8ffba483-aa61-4bbe-a15f-a73e1ddf097c",
        "outputId": "dbf6b59c-44f6-400b-cf8f-e7bb8558dcfd",
        "tags": []
      },
      "outputs": [
        {
          "name": "stdout",
          "output_type": "stream",
          "text": [
            "Epoch 1/100\n",
            "336/450 [=====================>........] - ETA: 5:27 - loss: 77.7943"
          ]
        },
        {
          "name": "stderr",
          "output_type": "stream",
          "text": [
            "[mpeg1video @ 0x7fd140067180] ac-tex damaged at 22 17\n",
            "[mpeg1video @ 0x7fd140067180] Warning MVs not available\n"
          ]
        },
        {
          "name": "stdout",
          "output_type": "stream",
          "text": [
            "450/450 [==============================] - ETA: 0s - loss: 74.7773"
          ]
        },
        {
          "name": "stderr",
          "output_type": "stream",
          "text": [
            "[mpeg1video @ 0x7fbe381529c0] ac-tex damaged at 22 17\n",
            "[mpeg1video @ 0x7fbe381529c0] Warning MVs not available\n",
            "[mpeg1video @ 0x7fd758088a40] ac-tex damaged at 22 17\n",
            "[mpeg1video @ 0x7fd758088a40] Warning MVs not available\n"
          ]
        },
        {
          "name": "stdout",
          "output_type": "stream",
          "text": [
            "1/1 [==============================] - 3s 3s/step\n",
            "Original: place white in x zero now\n",
            "Prediction: la e e e an\n",
            "~~~~~~~~~~~~~~~~~~~~~~~~~~~~~~~~~~~~~~~~~~~~~~~~~~~~~~~~~~~~~~~~~~~~~~~~~~~~~~~~~~~~~~~~~~~~~~~~~~~~\n",
            "Original: set white in b five again\n",
            "Prediction: la e e e a\n",
            "~~~~~~~~~~~~~~~~~~~~~~~~~~~~~~~~~~~~~~~~~~~~~~~~~~~~~~~~~~~~~~~~~~~~~~~~~~~~~~~~~~~~~~~~~~~~~~~~~~~~\n",
            "450/450 [==============================] - 1689s 4s/step - loss: 74.7773 - val_loss: 62.9759 - lr: 1.0000e-04\n",
            "Epoch 2/100\n",
            "407/450 [==========================>...] - ETA: 2:13 - loss: 60.3969"
          ]
        },
        {
          "name": "stderr",
          "output_type": "stream",
          "text": [
            "[mpeg1video @ 0x7fbe8c04e2c0] ac-tex damaged at 22 17\n",
            "[mpeg1video @ 0x7fbe8c04e2c0] Warning MVs not available\n"
          ]
        },
        {
          "name": "stdout",
          "output_type": "stream",
          "text": [
            "450/450 [==============================] - ETA: 0s - loss: 60.1633"
          ]
        },
        {
          "name": "stderr",
          "output_type": "stream",
          "text": [
            "[mpeg1video @ 0x7fd554053500] ac-tex damaged at 22 17\n",
            "[mpeg1video @ 0x7fd554053500] Warning MVs not available\n"
          ]
        },
        {
          "name": "stdout",
          "output_type": "stream",
          "text": [
            "1/1 [==============================] - 1s 804ms/step\n",
            "Original: bin red in s four please\n",
            "Prediction: la re t e ean\n",
            "~~~~~~~~~~~~~~~~~~~~~~~~~~~~~~~~~~~~~~~~~~~~~~~~~~~~~~~~~~~~~~~~~~~~~~~~~~~~~~~~~~~~~~~~~~~~~~~~~~~~\n",
            "Original: lay blue in d five again\n",
            "Prediction: la re t e ea\n",
            "~~~~~~~~~~~~~~~~~~~~~~~~~~~~~~~~~~~~~~~~~~~~~~~~~~~~~~~~~~~~~~~~~~~~~~~~~~~~~~~~~~~~~~~~~~~~~~~~~~~~\n",
            "450/450 [==============================] - 1656s 4s/step - loss: 60.1633 - val_loss: 55.9329 - lr: 1.0000e-04\n",
            "Epoch 3/100\n",
            "119/450 [======>.......................] - ETA: 16:31 - loss: 56.6788"
          ]
        },
        {
          "name": "stderr",
          "output_type": "stream",
          "text": [
            "[mpeg1video @ 0x7fd520043180] ac-tex damaged at 22 17\n",
            "[mpeg1video @ 0x7fd520043180] Warning MVs not available\n"
          ]
        },
        {
          "name": "stdout",
          "output_type": "stream",
          "text": [
            "450/450 [==============================] - ETA: 0s - loss: 55.1903"
          ]
        },
        {
          "name": "stderr",
          "output_type": "stream",
          "text": [
            "[mpeg1video @ 0x7fd268024240] ac-tex damaged at 22 17\n",
            "[mpeg1video @ 0x7fd268024240] Warning MVs not available\n"
          ]
        },
        {
          "name": "stdout",
          "output_type": "stream",
          "text": [
            "1/1 [==============================] - 1s 790ms/step\n",
            "Original: set green at p one soon\n",
            "Prediction: la re t e on\n",
            "~~~~~~~~~~~~~~~~~~~~~~~~~~~~~~~~~~~~~~~~~~~~~~~~~~~~~~~~~~~~~~~~~~~~~~~~~~~~~~~~~~~~~~~~~~~~~~~~~~~~\n",
            "Original: set red in n five soon\n",
            "Prediction: la re t e ao\n",
            "~~~~~~~~~~~~~~~~~~~~~~~~~~~~~~~~~~~~~~~~~~~~~~~~~~~~~~~~~~~~~~~~~~~~~~~~~~~~~~~~~~~~~~~~~~~~~~~~~~~~\n",
            "450/450 [==============================] - 1661s 4s/step - loss: 55.1903 - val_loss: 51.1851 - lr: 1.0000e-04\n",
            "Epoch 4/100\n",
            "209/450 [============>.................] - ETA: 12:49 - loss: 52.1710"
          ]
        },
        {
          "name": "stderr",
          "output_type": "stream",
          "text": [
            "[mpeg1video @ 0x7fd148080bc0] ac-tex damaged at 22 17\n",
            "[mpeg1video @ 0x7fd148080bc0] Warning MVs not available\n"
          ]
        },
        {
          "name": "stdout",
          "output_type": "stream",
          "text": [
            "450/450 [==============================] - ETA: 0s - loss: 51.3854"
          ]
        },
        {
          "name": "stderr",
          "output_type": "stream",
          "text": [
            "[mpeg1video @ 0x7fbe68087fc0] ac-tex damaged at 22 17\n",
            "[mpeg1video @ 0x7fbe68087fc0] Warning MVs not available\n"
          ]
        },
        {
          "name": "stdout",
          "output_type": "stream",
          "text": [
            "1/1 [==============================] - 1s 1s/step\n",
            "Original: lay white in y six now\n",
            "Prediction: sla re it ie on\n",
            "~~~~~~~~~~~~~~~~~~~~~~~~~~~~~~~~~~~~~~~~~~~~~~~~~~~~~~~~~~~~~~~~~~~~~~~~~~~~~~~~~~~~~~~~~~~~~~~~~~~~\n",
            "Original: lay white at z two please\n",
            "Prediction: sla re it ie on\n",
            "~~~~~~~~~~~~~~~~~~~~~~~~~~~~~~~~~~~~~~~~~~~~~~~~~~~~~~~~~~~~~~~~~~~~~~~~~~~~~~~~~~~~~~~~~~~~~~~~~~~~\n",
            "450/450 [==============================] - 1701s 4s/step - loss: 51.3854 - val_loss: 48.6296 - lr: 1.0000e-04\n",
            "Epoch 5/100\n",
            "211/450 [=============>................] - ETA: 13:05 - loss: 49.8116"
          ]
        },
        {
          "name": "stderr",
          "output_type": "stream",
          "text": [
            "[mpeg1video @ 0x7fbfb402c000] ac-tex damaged at 22 17\n",
            "[mpeg1video @ 0x7fbfb402c000] Warning MVs not available\n"
          ]
        },
        {
          "name": "stdout",
          "output_type": "stream",
          "text": [
            "450/450 [==============================] - ETA: 0s - loss: 48.2306"
          ]
        },
        {
          "name": "stderr",
          "output_type": "stream",
          "text": [
            "[mpeg1video @ 0x7fd4a408c740] ac-tex damaged at 22 17\n",
            "[mpeg1video @ 0x7fd4a408c740] Warning MVs not available\n"
          ]
        },
        {
          "name": "stdout",
          "output_type": "stream",
          "text": [
            "1/1 [==============================] - 1s 1s/step\n",
            "Original: lay green by f eight now\n",
            "Prediction: bla re iy ie aon\n",
            "~~~~~~~~~~~~~~~~~~~~~~~~~~~~~~~~~~~~~~~~~~~~~~~~~~~~~~~~~~~~~~~~~~~~~~~~~~~~~~~~~~~~~~~~~~~~~~~~~~~~\n",
            "Original: lay red at y seven again\n",
            "Prediction: bla grie iy ie aon\n",
            "~~~~~~~~~~~~~~~~~~~~~~~~~~~~~~~~~~~~~~~~~~~~~~~~~~~~~~~~~~~~~~~~~~~~~~~~~~~~~~~~~~~~~~~~~~~~~~~~~~~~\n",
            "450/450 [==============================] - 1719s 4s/step - loss: 48.2306 - val_loss: 44.7169 - lr: 1.0000e-04\n",
            "Epoch 6/100\n",
            "312/450 [===================>..........] - ETA: 7:03 - loss: 44.8052"
          ]
        },
        {
          "name": "stderr",
          "output_type": "stream",
          "text": [
            "[mpeg1video @ 0x7fd3c808f800] ac-tex damaged at 22 17\n",
            "[mpeg1video @ 0x7fd3c808f800] Warning MVs not available\n"
          ]
        },
        {
          "name": "stdout",
          "output_type": "stream",
          "text": [
            "450/450 [==============================] - ETA: 0s - loss: 44.4642"
          ]
        },
        {
          "name": "stderr",
          "output_type": "stream",
          "text": [
            "[mpeg1video @ 0x7fd25806a640] ac-tex damaged at 22 17\n",
            "[mpeg1video @ 0x7fd25806a640] Warning MVs not available\n"
          ]
        },
        {
          "name": "stdout",
          "output_type": "stream",
          "text": [
            "1/1 [==============================] - 1s 789ms/step\n",
            "Original: bin blue in f one again\n",
            "Prediction: la gre it e ao\n",
            "~~~~~~~~~~~~~~~~~~~~~~~~~~~~~~~~~~~~~~~~~~~~~~~~~~~~~~~~~~~~~~~~~~~~~~~~~~~~~~~~~~~~~~~~~~~~~~~~~~~~\n",
            "Original: bin blue with t zero please\n",
            "Prediction: la gre it oe aon\n",
            "~~~~~~~~~~~~~~~~~~~~~~~~~~~~~~~~~~~~~~~~~~~~~~~~~~~~~~~~~~~~~~~~~~~~~~~~~~~~~~~~~~~~~~~~~~~~~~~~~~~~\n",
            "450/450 [==============================] - 1691s 4s/step - loss: 44.4642 - val_loss: 42.0644 - lr: 1.0000e-04\n",
            "Epoch 7/100\n",
            "387/450 [========================>.....] - ETA: 3:16 - loss: 42.6508"
          ]
        },
        {
          "name": "stderr",
          "output_type": "stream",
          "text": [
            "[mpeg1video @ 0x7fd1f403e340] ac-tex damaged at 22 17\n",
            "[mpeg1video @ 0x7fd1f403e340] Warning MVs not available\n"
          ]
        },
        {
          "name": "stdout",
          "output_type": "stream",
          "text": [
            "450/450 [==============================] - ETA: 0s - loss: 42.5481"
          ]
        },
        {
          "name": "stderr",
          "output_type": "stream",
          "text": [
            "[mpeg1video @ 0x7fbe14052900] ac-tex damaged at 22 17\n",
            "[mpeg1video @ 0x7fbe14052900] Warning MVs not available\n"
          ]
        },
        {
          "name": "stdout",
          "output_type": "stream",
          "text": [
            "1/1 [==============================] - 1s 795ms/step\n",
            "Original: lay red at r two please\n",
            "Prediction: sla wre it ie gow\n",
            "~~~~~~~~~~~~~~~~~~~~~~~~~~~~~~~~~~~~~~~~~~~~~~~~~~~~~~~~~~~~~~~~~~~~~~~~~~~~~~~~~~~~~~~~~~~~~~~~~~~~\n",
            "Original: bin green in n two please\n",
            "Prediction: sla wre it ie aow\n",
            "~~~~~~~~~~~~~~~~~~~~~~~~~~~~~~~~~~~~~~~~~~~~~~~~~~~~~~~~~~~~~~~~~~~~~~~~~~~~~~~~~~~~~~~~~~~~~~~~~~~~\n",
            "450/450 [==============================] - 1671s 4s/step - loss: 42.5481 - val_loss: 39.8996 - lr: 1.0000e-04\n",
            "Epoch 8/100\n",
            "132/450 [=======>......................] - ETA: 17:03 - loss: 41.3542"
          ]
        },
        {
          "name": "stderr",
          "output_type": "stream",
          "text": [
            "[mpeg1video @ 0x7fbf5c052640] ac-tex damaged at 22 17\n",
            "[mpeg1video @ 0x7fbf5c052640] Warning MVs not available\n"
          ]
        },
        {
          "name": "stdout",
          "output_type": "stream",
          "text": [
            "450/450 [==============================] - ETA: 0s - loss: 40.6342"
          ]
        },
        {
          "name": "stderr",
          "output_type": "stream",
          "text": [
            "[mpeg1video @ 0x7fd3cc0aa3c0] ac-tex damaged at 22 17\n",
            "[mpeg1video @ 0x7fd3cc0aa3c0] Warning MVs not available\n"
          ]
        },
        {
          "name": "stdout",
          "output_type": "stream",
          "text": [
            "1/1 [==============================] - 1s 1s/step\n",
            "Original: place blue by c five soon\n",
            "Prediction: bla bre it ie no\n",
            "~~~~~~~~~~~~~~~~~~~~~~~~~~~~~~~~~~~~~~~~~~~~~~~~~~~~~~~~~~~~~~~~~~~~~~~~~~~~~~~~~~~~~~~~~~~~~~~~~~~~\n",
            "Original: place blue with p eight please\n",
            "Prediction: bla bre it ie no\n",
            "~~~~~~~~~~~~~~~~~~~~~~~~~~~~~~~~~~~~~~~~~~~~~~~~~~~~~~~~~~~~~~~~~~~~~~~~~~~~~~~~~~~~~~~~~~~~~~~~~~~~\n",
            "450/450 [==============================] - 1715s 4s/step - loss: 40.6342 - val_loss: 38.8771 - lr: 1.0000e-04\n",
            "Epoch 9/100\n",
            "365/450 [=======================>......] - ETA: 4:30 - loss: 39.0555"
          ]
        },
        {
          "name": "stderr",
          "output_type": "stream",
          "text": [
            "[mpeg1video @ 0x7fd25404bd80] ac-tex damaged at 22 17\n",
            "[mpeg1video @ 0x7fd25404bd80] Warning MVs not available\n"
          ]
        },
        {
          "name": "stdout",
          "output_type": "stream",
          "text": [
            "450/450 [==============================] - ETA: 0s - loss: 38.9670"
          ]
        },
        {
          "name": "stderr",
          "output_type": "stream",
          "text": [
            "[mpeg1video @ 0x7fd340083640] ac-tex damaged at 22 17\n",
            "[mpeg1video @ 0x7fd340083640] Warning MVs not available\n"
          ]
        },
        {
          "name": "stdout",
          "output_type": "stream",
          "text": [
            "1/1 [==============================] - 1s 1s/step\n",
            "Original: bin green at h two please\n",
            "Prediction: pla wre it ire non\n",
            "~~~~~~~~~~~~~~~~~~~~~~~~~~~~~~~~~~~~~~~~~~~~~~~~~~~~~~~~~~~~~~~~~~~~~~~~~~~~~~~~~~~~~~~~~~~~~~~~~~~~\n",
            "Original: bin green with o two now\n",
            "Prediction: pla wre it ine non\n",
            "~~~~~~~~~~~~~~~~~~~~~~~~~~~~~~~~~~~~~~~~~~~~~~~~~~~~~~~~~~~~~~~~~~~~~~~~~~~~~~~~~~~~~~~~~~~~~~~~~~~~\n",
            "450/450 [==============================] - 1720s 4s/step - loss: 38.9670 - val_loss: 36.2353 - lr: 1.0000e-04\n",
            "Epoch 10/100\n",
            "154/450 [=========>....................] - ETA: 15:11 - loss: 38.0807"
          ]
        },
        {
          "name": "stderr",
          "output_type": "stream",
          "text": [
            "[mpeg1video @ 0x7fd1ec03f500] ac-tex damaged at 22 17\n",
            "[mpeg1video @ 0x7fd1ec03f500] Warning MVs not available\n"
          ]
        },
        {
          "name": "stdout",
          "output_type": "stream",
          "text": [
            "450/450 [==============================] - ETA: 0s - loss: 38.0016"
          ]
        },
        {
          "name": "stderr",
          "output_type": "stream",
          "text": [
            "[mpeg1video @ 0x7fbfe40f0140] ac-tex damaged at 22 17\n",
            "[mpeg1video @ 0x7fbfe40f0140] Warning MVs not available\n"
          ]
        },
        {
          "name": "stdout",
          "output_type": "stream",
          "text": [
            "1/1 [==============================] - 1s 783ms/step\n",
            "Original: place blue in b nine again\n",
            "Prediction: sea rue wit ine loain\n",
            "~~~~~~~~~~~~~~~~~~~~~~~~~~~~~~~~~~~~~~~~~~~~~~~~~~~~~~~~~~~~~~~~~~~~~~~~~~~~~~~~~~~~~~~~~~~~~~~~~~~~\n",
            "Original: place green with y nine soon\n",
            "Prediction: set rue it ine leain\n",
            "~~~~~~~~~~~~~~~~~~~~~~~~~~~~~~~~~~~~~~~~~~~~~~~~~~~~~~~~~~~~~~~~~~~~~~~~~~~~~~~~~~~~~~~~~~~~~~~~~~~~\n",
            "450/450 [==============================] - 1681s 4s/step - loss: 38.0016 - val_loss: 37.3021 - lr: 1.0000e-04\n",
            "Epoch 11/100\n",
            "310/450 [===================>..........] - ETA: 7:20 - loss: 37.8957"
          ]
        },
        {
          "name": "stderr",
          "output_type": "stream",
          "text": [
            "[mpeg1video @ 0x7fbe20089140] ac-tex damaged at 22 17\n",
            "[mpeg1video @ 0x7fbe20089140] Warning MVs not available\n"
          ]
        },
        {
          "name": "stdout",
          "output_type": "stream",
          "text": [
            "450/450 [==============================] - ETA: 0s - loss: 37.6828"
          ]
        },
        {
          "name": "stderr",
          "output_type": "stream",
          "text": [
            "[mpeg1video @ 0x7fd32408f180] ac-tex damaged at 22 17\n",
            "[mpeg1video @ 0x7fd32408f180] Warning MVs not available\n"
          ]
        },
        {
          "name": "stdout",
          "output_type": "stream",
          "text": [
            "1/1 [==============================] - 1s 1s/step\n",
            "Original: place white with e three again\n",
            "Prediction: la wre it fire aoain\n",
            "~~~~~~~~~~~~~~~~~~~~~~~~~~~~~~~~~~~~~~~~~~~~~~~~~~~~~~~~~~~~~~~~~~~~~~~~~~~~~~~~~~~~~~~~~~~~~~~~~~~~\n",
            "Original: bin blue with s nine soon\n",
            "Prediction: pla gre it fire aoin\n",
            "~~~~~~~~~~~~~~~~~~~~~~~~~~~~~~~~~~~~~~~~~~~~~~~~~~~~~~~~~~~~~~~~~~~~~~~~~~~~~~~~~~~~~~~~~~~~~~~~~~~~\n",
            "450/450 [==============================] - 1680s 4s/step - loss: 37.6828 - val_loss: 36.2467 - lr: 1.0000e-04\n",
            "Epoch 12/100\n",
            "173/450 [==========>...................] - ETA: 15:10 - loss: 36.7852"
          ]
        },
        {
          "name": "stderr",
          "output_type": "stream",
          "text": [
            "[mpeg1video @ 0x7fd3d407f580] ac-tex damaged at 22 17\n",
            "[mpeg1video @ 0x7fd3d407f580] Warning MVs not available\n"
          ]
        },
        {
          "name": "stdout",
          "output_type": "stream",
          "text": [
            "450/450 [==============================] - ETA: 0s - loss: 36.9098"
          ]
        },
        {
          "name": "stderr",
          "output_type": "stream",
          "text": [
            "[mpeg1video @ 0x7fd428019400] ac-tex damaged at 22 17\n",
            "[mpeg1video @ 0x7fd428019400] Warning MVs not available\n"
          ]
        },
        {
          "name": "stdout",
          "output_type": "stream",
          "text": [
            "1/1 [==============================] - 1s 1s/step\n",
            "Original: lay white with z nine soon\n",
            "Prediction: pla wre it fire aoawn\n",
            "~~~~~~~~~~~~~~~~~~~~~~~~~~~~~~~~~~~~~~~~~~~~~~~~~~~~~~~~~~~~~~~~~~~~~~~~~~~~~~~~~~~~~~~~~~~~~~~~~~~~\n",
            "Original: bin white with a nine soon\n",
            "Prediction: pla wre it tire nown\n",
            "~~~~~~~~~~~~~~~~~~~~~~~~~~~~~~~~~~~~~~~~~~~~~~~~~~~~~~~~~~~~~~~~~~~~~~~~~~~~~~~~~~~~~~~~~~~~~~~~~~~~\n",
            "450/450 [==============================] - 1721s 4s/step - loss: 36.9098 - val_loss: 33.7753 - lr: 1.0000e-04\n",
            "Epoch 13/100\n",
            "268/450 [================>.............] - ETA: 9:41 - loss: 36.0139"
          ]
        },
        {
          "name": "stderr",
          "output_type": "stream",
          "text": [
            "[mpeg1video @ 0x7fd148010dc0] ac-tex damaged at 22 17\n",
            "[mpeg1video @ 0x7fd148010dc0] Warning MVs not available\n"
          ]
        },
        {
          "name": "stdout",
          "output_type": "stream",
          "text": [
            "450/450 [==============================] - ETA: 0s - loss: 35.7515"
          ]
        },
        {
          "name": "stderr",
          "output_type": "stream",
          "text": [
            "[mpeg1video @ 0x7fbf3c084400] ac-tex damaged at 22 17\n",
            "[mpeg1video @ 0x7fbf3c084400] Warning MVs not available\n"
          ]
        },
        {
          "name": "stdout",
          "output_type": "stream",
          "text": [
            "1/1 [==============================] - 1s 804ms/step\n",
            "Original: set green by v eight now\n",
            "Prediction: sla gre it k fie lon\n",
            "~~~~~~~~~~~~~~~~~~~~~~~~~~~~~~~~~~~~~~~~~~~~~~~~~~~~~~~~~~~~~~~~~~~~~~~~~~~~~~~~~~~~~~~~~~~~~~~~~~~~\n",
            "Original: lay white in r five again\n",
            "Prediction: bla wre it k fine loain\n",
            "~~~~~~~~~~~~~~~~~~~~~~~~~~~~~~~~~~~~~~~~~~~~~~~~~~~~~~~~~~~~~~~~~~~~~~~~~~~~~~~~~~~~~~~~~~~~~~~~~~~~\n",
            "450/450 [==============================] - 1714s 4s/step - loss: 35.7515 - val_loss: 32.7130 - lr: 1.0000e-04\n",
            "Epoch 14/100\n",
            "117/450 [======>.......................] - ETA: 16:00 - loss: 35.4415"
          ]
        },
        {
          "name": "stderr",
          "output_type": "stream",
          "text": [
            "[mpeg1video @ 0x7fbec4035fc0] ac-tex damaged at 22 17\n",
            "[mpeg1video @ 0x7fbec4035fc0] Warning MVs not available\n"
          ]
        },
        {
          "name": "stdout",
          "output_type": "stream",
          "text": [
            "450/450 [==============================] - ETA: 0s - loss: 35.0425"
          ]
        },
        {
          "name": "stderr",
          "output_type": "stream",
          "text": [
            "[mpeg1video @ 0x7fbf800a9980] ac-tex damaged at 22 17\n",
            "[mpeg1video @ 0x7fbf800a9980] Warning MVs not available\n"
          ]
        },
        {
          "name": "stdout",
          "output_type": "stream",
          "text": [
            "1/1 [==============================] - 1s 798ms/step\n",
            "Original: place blue at o nine soon\n",
            "Prediction: sla re it o ine aoain\n",
            "~~~~~~~~~~~~~~~~~~~~~~~~~~~~~~~~~~~~~~~~~~~~~~~~~~~~~~~~~~~~~~~~~~~~~~~~~~~~~~~~~~~~~~~~~~~~~~~~~~~~\n",
            "Original: bin blue in e nine soon\n",
            "Prediction: sla wre it o one son\n",
            "~~~~~~~~~~~~~~~~~~~~~~~~~~~~~~~~~~~~~~~~~~~~~~~~~~~~~~~~~~~~~~~~~~~~~~~~~~~~~~~~~~~~~~~~~~~~~~~~~~~~\n",
            "450/450 [==============================] - 1661s 4s/step - loss: 35.0425 - val_loss: 33.2950 - lr: 1.0000e-04\n",
            "Epoch 15/100\n",
            "251/450 [===============>..............] - ETA: 10:38 - loss: 34.1093"
          ]
        },
        {
          "name": "stderr",
          "output_type": "stream",
          "text": [
            "[mpeg1video @ 0x7fd404074580] ac-tex damaged at 22 17\n",
            "[mpeg1video @ 0x7fd404074580] Warning MVs not available\n"
          ]
        },
        {
          "name": "stdout",
          "output_type": "stream",
          "text": [
            "450/450 [==============================] - ETA: 0s - loss: 33.9436"
          ]
        },
        {
          "name": "stderr",
          "output_type": "stream",
          "text": [
            "[mpeg1video @ 0x7fd26c073380] ac-tex damaged at 22 17\n",
            "[mpeg1video @ 0x7fd26c073380] Warning MVs not available\n"
          ]
        },
        {
          "name": "stdout",
          "output_type": "stream",
          "text": [
            "1/1 [==============================] - 1s 968ms/step\n",
            "Original: bin green by b three again\n",
            "Prediction: bin wre it o fio son\n",
            "~~~~~~~~~~~~~~~~~~~~~~~~~~~~~~~~~~~~~~~~~~~~~~~~~~~~~~~~~~~~~~~~~~~~~~~~~~~~~~~~~~~~~~~~~~~~~~~~~~~~\n",
            "Original: lay white at e nine soon\n",
            "Prediction: bla bre by i fie now\n",
            "~~~~~~~~~~~~~~~~~~~~~~~~~~~~~~~~~~~~~~~~~~~~~~~~~~~~~~~~~~~~~~~~~~~~~~~~~~~~~~~~~~~~~~~~~~~~~~~~~~~~\n",
            "450/450 [==============================] - 1705s 4s/step - loss: 33.9436 - val_loss: 32.1403 - lr: 1.0000e-04\n",
            "Epoch 16/100\n",
            " 49/450 [==>...........................] - ETA: 21:58 - loss: 33.3607"
          ]
        },
        {
          "name": "stderr",
          "output_type": "stream",
          "text": [
            "[mpeg1video @ 0x7fd21008c8c0] ac-tex damaged at 22 17\n",
            "[mpeg1video @ 0x7fd21008c8c0] Warning MVs not available\n"
          ]
        },
        {
          "name": "stdout",
          "output_type": "stream",
          "text": [
            "450/450 [==============================] - ETA: 0s - loss: 33.2424"
          ]
        },
        {
          "name": "stderr",
          "output_type": "stream",
          "text": [
            "[mpeg1video @ 0x7fbe2804bb40] ac-tex damaged at 22 17\n",
            "[mpeg1video @ 0x7fbe2804bb40] Warning MVs not available\n"
          ]
        },
        {
          "name": "stdout",
          "output_type": "stream",
          "text": [
            "1/1 [==============================] - 1s 968ms/step\n",
            "Original: lay white with f seven soon\n",
            "Prediction: la gre it m fire nown\n",
            "~~~~~~~~~~~~~~~~~~~~~~~~~~~~~~~~~~~~~~~~~~~~~~~~~~~~~~~~~~~~~~~~~~~~~~~~~~~~~~~~~~~~~~~~~~~~~~~~~~~~\n",
            "Original: place blue by v seven soon\n",
            "Prediction: la bre it l five nown\n",
            "~~~~~~~~~~~~~~~~~~~~~~~~~~~~~~~~~~~~~~~~~~~~~~~~~~~~~~~~~~~~~~~~~~~~~~~~~~~~~~~~~~~~~~~~~~~~~~~~~~~~\n",
            "450/450 [==============================] - 1718s 4s/step - loss: 33.2424 - val_loss: 30.8084 - lr: 1.0000e-04\n",
            "Epoch 17/100\n",
            " 17/450 [>.............................] - ETA: 23:41 - loss: 35.5407"
          ]
        },
        {
          "name": "stderr",
          "output_type": "stream",
          "text": [
            "[mpeg1video @ 0x7fbebc0129c0] ac-tex damaged at 22 17\n",
            "[mpeg1video @ 0x7fbebc0129c0] Warning MVs not available\n"
          ]
        },
        {
          "name": "stdout",
          "output_type": "stream",
          "text": [
            "450/450 [==============================] - ETA: 0s - loss: 32.3918"
          ]
        },
        {
          "name": "stderr",
          "output_type": "stream",
          "text": [
            "[mpeg1video @ 0x7fd4a4026d80] ac-tex damaged at 22 17\n",
            "[mpeg1video @ 0x7fd4a4026d80] Warning MVs not available\n"
          ]
        },
        {
          "name": "stdout",
          "output_type": "stream",
          "text": [
            "1/1 [==============================] - 1s 801ms/step\n",
            "Original: bin blue with t one again\n",
            "Prediction: sla gre it o sie plgasn\n",
            "~~~~~~~~~~~~~~~~~~~~~~~~~~~~~~~~~~~~~~~~~~~~~~~~~~~~~~~~~~~~~~~~~~~~~~~~~~~~~~~~~~~~~~~~~~~~~~~~~~~~\n",
            "Original: place green in q five again\n",
            "Prediction: pla gre it m five pagasn\n",
            "~~~~~~~~~~~~~~~~~~~~~~~~~~~~~~~~~~~~~~~~~~~~~~~~~~~~~~~~~~~~~~~~~~~~~~~~~~~~~~~~~~~~~~~~~~~~~~~~~~~~\n",
            "450/450 [==============================] - 1693s 4s/step - loss: 32.3918 - val_loss: 31.5019 - lr: 1.0000e-04\n",
            "Epoch 18/100\n",
            "106/450 [======>.......................] - ETA: 16:33 - loss: 31.3846"
          ]
        },
        {
          "name": "stderr",
          "output_type": "stream",
          "text": [
            "[mpeg1video @ 0x7fd37c022540] ac-tex damaged at 22 17\n",
            "[mpeg1video @ 0x7fd37c022540] Warning MVs not available\n"
          ]
        },
        {
          "name": "stdout",
          "output_type": "stream",
          "text": [
            "450/450 [==============================] - ETA: 0s - loss: 33.5771"
          ]
        },
        {
          "name": "stderr",
          "output_type": "stream",
          "text": [
            "[mpeg1video @ 0x7fd2940a1280] ac-tex damaged at 22 17\n",
            "[mpeg1video @ 0x7fd2940a1280] Warning MVs not available\n"
          ]
        },
        {
          "name": "stdout",
          "output_type": "stream",
          "text": [
            "1/1 [==============================] - 1s 791ms/step\n",
            "Original: lay white with s seven again\n",
            "Prediction: bla wre it s sive now\n",
            "~~~~~~~~~~~~~~~~~~~~~~~~~~~~~~~~~~~~~~~~~~~~~~~~~~~~~~~~~~~~~~~~~~~~~~~~~~~~~~~~~~~~~~~~~~~~~~~~~~~~\n",
            "Original: place red in p zero now\n",
            "Prediction: plac ble by b five nown\n",
            "~~~~~~~~~~~~~~~~~~~~~~~~~~~~~~~~~~~~~~~~~~~~~~~~~~~~~~~~~~~~~~~~~~~~~~~~~~~~~~~~~~~~~~~~~~~~~~~~~~~~\n",
            "450/450 [==============================] - 1671s 4s/step - loss: 33.5771 - val_loss: 30.6180 - lr: 1.0000e-04\n",
            "Epoch 19/100\n",
            "141/450 [========>.....................] - ETA: 16:46 - loss: 32.1590"
          ]
        },
        {
          "name": "stderr",
          "output_type": "stream",
          "text": [
            "[mpeg1video @ 0x7fd158071680] ac-tex damaged at 22 17\n",
            "[mpeg1video @ 0x7fd158071680] Warning MVs not available\n"
          ]
        },
        {
          "name": "stdout",
          "output_type": "stream",
          "text": [
            "450/450 [==============================] - ETA: 0s - loss: 31.9335"
          ]
        },
        {
          "name": "stderr",
          "output_type": "stream",
          "text": [
            "[mpeg1video @ 0x7fbf680e5d40] ac-tex damaged at 22 17\n",
            "[mpeg1video @ 0x7fbf680e5d40] Warning MVs not available\n"
          ]
        },
        {
          "name": "stdout",
          "output_type": "stream",
          "text": [
            "1/1 [==============================] - 1s 1s/step\n",
            "Original: lay blue at q seven again\n",
            "Prediction: pla ble it o tire please\n",
            "~~~~~~~~~~~~~~~~~~~~~~~~~~~~~~~~~~~~~~~~~~~~~~~~~~~~~~~~~~~~~~~~~~~~~~~~~~~~~~~~~~~~~~~~~~~~~~~~~~~~\n",
            "Original: bin white at m eight now\n",
            "Prediction: set bre by b five aeain\n",
            "~~~~~~~~~~~~~~~~~~~~~~~~~~~~~~~~~~~~~~~~~~~~~~~~~~~~~~~~~~~~~~~~~~~~~~~~~~~~~~~~~~~~~~~~~~~~~~~~~~~~\n",
            "450/450 [==============================] - 1705s 4s/step - loss: 31.9335 - val_loss: 30.0059 - lr: 1.0000e-04\n",
            "Epoch 20/100\n",
            "171/450 [==========>...................] - ETA: 15:18 - loss: 30.7883"
          ]
        },
        {
          "name": "stderr",
          "output_type": "stream",
          "text": [
            "[mpeg1video @ 0x7fbf400bf040] ac-tex damaged at 22 17\n",
            "[mpeg1video @ 0x7fbf400bf040] Warning MVs not available\n"
          ]
        },
        {
          "name": "stdout",
          "output_type": "stream",
          "text": [
            "450/450 [==============================] - ETA: 0s - loss: 31.0505"
          ]
        },
        {
          "name": "stderr",
          "output_type": "stream",
          "text": [
            "[mpeg1video @ 0x7fd3b0096a00] ac-tex damaged at 22 17\n",
            "[mpeg1video @ 0x7fd3b0096a00] Warning MVs not available\n"
          ]
        },
        {
          "name": "stdout",
          "output_type": "stream",
          "text": [
            "1/1 [==============================] - 1s 995ms/step\n",
            "Original: bin white at a one soon\n",
            "Prediction: la bre it u fine no\n",
            "~~~~~~~~~~~~~~~~~~~~~~~~~~~~~~~~~~~~~~~~~~~~~~~~~~~~~~~~~~~~~~~~~~~~~~~~~~~~~~~~~~~~~~~~~~~~~~~~~~~~\n",
            "Original: lay white with m two please\n",
            "Prediction: plac bre it u fire please\n",
            "~~~~~~~~~~~~~~~~~~~~~~~~~~~~~~~~~~~~~~~~~~~~~~~~~~~~~~~~~~~~~~~~~~~~~~~~~~~~~~~~~~~~~~~~~~~~~~~~~~~~\n",
            "450/450 [==============================] - 1719s 4s/step - loss: 31.0505 - val_loss: 28.1903 - lr: 1.0000e-04\n",
            "Epoch 21/100\n",
            "355/450 [======================>.......] - ETA: 4:50 - loss: 29.9867"
          ]
        },
        {
          "name": "stderr",
          "output_type": "stream",
          "text": [
            "[mpeg1video @ 0x7fd44c040040] ac-tex damaged at 22 17\n",
            "[mpeg1video @ 0x7fd44c040040] Warning MVs not available\n"
          ]
        },
        {
          "name": "stdout",
          "output_type": "stream",
          "text": [
            "450/450 [==============================] - ETA: 0s - loss: 29.8479"
          ]
        },
        {
          "name": "stderr",
          "output_type": "stream",
          "text": [
            "[mpeg1video @ 0x7fd138067480] ac-tex damaged at 22 17\n",
            "[mpeg1video @ 0x7fd138067480] Warning MVs not available\n"
          ]
        },
        {
          "name": "stdout",
          "output_type": "stream",
          "text": [
            "1/1 [==============================] - 1s 799ms/step\n",
            "Original: bin white in g zero now\n",
            "Prediction: bia wre wit o tono now\n",
            "~~~~~~~~~~~~~~~~~~~~~~~~~~~~~~~~~~~~~~~~~~~~~~~~~~~~~~~~~~~~~~~~~~~~~~~~~~~~~~~~~~~~~~~~~~~~~~~~~~~~\n",
            "Original: set white in o zero now\n",
            "Prediction: set wre it o zoro sow\n",
            "~~~~~~~~~~~~~~~~~~~~~~~~~~~~~~~~~~~~~~~~~~~~~~~~~~~~~~~~~~~~~~~~~~~~~~~~~~~~~~~~~~~~~~~~~~~~~~~~~~~~\n",
            "450/450 [==============================] - 1679s 4s/step - loss: 29.8479 - val_loss: 29.2706 - lr: 1.0000e-04\n",
            "Epoch 22/100\n",
            "281/450 [=================>............] - ETA: 8:49 - loss: 29.1583"
          ]
        },
        {
          "name": "stderr",
          "output_type": "stream",
          "text": [
            "[mpeg1video @ 0x7fd31002e600] ac-tex damaged at 22 17\n",
            "[mpeg1video @ 0x7fd31002e600] Warning MVs not available\n"
          ]
        },
        {
          "name": "stdout",
          "output_type": "stream",
          "text": [
            "450/450 [==============================] - ETA: 0s - loss: 29.2273"
          ]
        },
        {
          "name": "stderr",
          "output_type": "stream",
          "text": [
            "[mpeg1video @ 0x7fd3e0058240] ac-tex damaged at 22 17\n",
            "[mpeg1video @ 0x7fd3e0058240] Warning MVs not available\n"
          ]
        },
        {
          "name": "stdout",
          "output_type": "stream",
          "text": [
            "1/1 [==============================] - 1s 1s/step\n",
            "Original: place blue with d zero please\n",
            "Prediction: lay blue it l zore please\n",
            "~~~~~~~~~~~~~~~~~~~~~~~~~~~~~~~~~~~~~~~~~~~~~~~~~~~~~~~~~~~~~~~~~~~~~~~~~~~~~~~~~~~~~~~~~~~~~~~~~~~~\n",
            "Original: bin red with a five again\n",
            "Prediction: plac gre it h teve again\n",
            "~~~~~~~~~~~~~~~~~~~~~~~~~~~~~~~~~~~~~~~~~~~~~~~~~~~~~~~~~~~~~~~~~~~~~~~~~~~~~~~~~~~~~~~~~~~~~~~~~~~~\n",
            "450/450 [==============================] - 1680s 4s/step - loss: 29.2273 - val_loss: 26.0498 - lr: 1.0000e-04\n",
            "Epoch 23/100\n",
            " 54/450 [==>...........................] - ETA: 21:41 - loss: 28.5863"
          ]
        },
        {
          "name": "stderr",
          "output_type": "stream",
          "text": [
            "[mpeg1video @ 0x7fbf680df740] ac-tex damaged at 22 17\n",
            "[mpeg1video @ 0x7fbf680df740] Warning MVs not available\n"
          ]
        },
        {
          "name": "stdout",
          "output_type": "stream",
          "text": [
            "450/450 [==============================] - ETA: 0s - loss: 27.7377"
          ]
        },
        {
          "name": "stderr",
          "output_type": "stream",
          "text": [
            "[mpeg1video @ 0x7fbe4003f500] ac-tex damaged at 22 17\n",
            "[mpeg1video @ 0x7fbe4003f500] Warning MVs not available\n"
          ]
        },
        {
          "name": "stdout",
          "output_type": "stream",
          "text": [
            "1/1 [==============================] - 1s 1s/step\n",
            "Original: place red with q three soon\n",
            "Prediction: bia wre it o toro son\n",
            "~~~~~~~~~~~~~~~~~~~~~~~~~~~~~~~~~~~~~~~~~~~~~~~~~~~~~~~~~~~~~~~~~~~~~~~~~~~~~~~~~~~~~~~~~~~~~~~~~~~~\n",
            "Original: set red at h seven again\n",
            "Prediction: set re it i sive agaie\n",
            "~~~~~~~~~~~~~~~~~~~~~~~~~~~~~~~~~~~~~~~~~~~~~~~~~~~~~~~~~~~~~~~~~~~~~~~~~~~~~~~~~~~~~~~~~~~~~~~~~~~~\n",
            "450/450 [==============================] - 1718s 4s/step - loss: 27.7377 - val_loss: 24.8384 - lr: 1.0000e-04\n",
            "Epoch 24/100\n",
            "292/450 [==================>...........] - ETA: 8:25 - loss: 26.6543"
          ]
        },
        {
          "name": "stderr",
          "output_type": "stream",
          "text": [
            "[mpeg1video @ 0x7fd3b009c940] ac-tex damaged at 22 17\n",
            "[mpeg1video @ 0x7fd3b009c940] Warning MVs not available\n"
          ]
        },
        {
          "name": "stdout",
          "output_type": "stream",
          "text": [
            "450/450 [==============================] - ETA: 0s - loss: 26.4607"
          ]
        },
        {
          "name": "stderr",
          "output_type": "stream",
          "text": [
            "[mpeg1video @ 0x7fd46c0281c0] ac-tex damaged at 22 17\n",
            "[mpeg1video @ 0x7fd46c0281c0] Warning MVs not available\n"
          ]
        },
        {
          "name": "stdout",
          "output_type": "stream",
          "text": [
            "1/1 [==============================] - 1s 1s/step\n",
            "Original: bin blue in l two now\n",
            "Prediction: bin blue bn m toe now\n",
            "~~~~~~~~~~~~~~~~~~~~~~~~~~~~~~~~~~~~~~~~~~~~~~~~~~~~~~~~~~~~~~~~~~~~~~~~~~~~~~~~~~~~~~~~~~~~~~~~~~~~\n",
            "Original: set blue by b one again\n",
            "Prediction: set blue by b feue please\n",
            "~~~~~~~~~~~~~~~~~~~~~~~~~~~~~~~~~~~~~~~~~~~~~~~~~~~~~~~~~~~~~~~~~~~~~~~~~~~~~~~~~~~~~~~~~~~~~~~~~~~~\n",
            "450/450 [==============================] - 1720s 4s/step - loss: 26.4607 - val_loss: 25.9556 - lr: 1.0000e-04\n",
            "Epoch 25/100\n",
            "249/450 [===============>..............] - ETA: 10:18 - loss: 28.4189"
          ]
        },
        {
          "name": "stderr",
          "output_type": "stream",
          "text": [
            "[mpeg1video @ 0x7fd1d808abc0] ac-tex damaged at 22 17\n",
            "[mpeg1video @ 0x7fd1d808abc0] Warning MVs not available\n"
          ]
        },
        {
          "name": "stdout",
          "output_type": "stream",
          "text": [
            "450/450 [==============================] - ETA: 0s - loss: 28.0131"
          ]
        },
        {
          "name": "stderr",
          "output_type": "stream",
          "text": [
            "[mpeg1video @ 0x7fbf0003c1c0] ac-tex damaged at 22 17\n",
            "[mpeg1video @ 0x7fbf0003c1c0] Warning MVs not available\n"
          ]
        },
        {
          "name": "stdout",
          "output_type": "stream",
          "text": [
            "1/1 [==============================] - 1s 800ms/step\n",
            "Original: set green by c eight please\n",
            "Prediction: set wre by b eige please\n",
            "~~~~~~~~~~~~~~~~~~~~~~~~~~~~~~~~~~~~~~~~~~~~~~~~~~~~~~~~~~~~~~~~~~~~~~~~~~~~~~~~~~~~~~~~~~~~~~~~~~~~\n",
            "Original: bin green in a five again\n",
            "Prediction: bln wre it g nive again\n",
            "~~~~~~~~~~~~~~~~~~~~~~~~~~~~~~~~~~~~~~~~~~~~~~~~~~~~~~~~~~~~~~~~~~~~~~~~~~~~~~~~~~~~~~~~~~~~~~~~~~~~\n",
            "450/450 [==============================] - 1714s 4s/step - loss: 28.0131 - val_loss: 23.4679 - lr: 1.0000e-04\n",
            "Epoch 26/100\n",
            "262/450 [================>.............] - ETA: 10:08 - loss: 24.0951"
          ]
        },
        {
          "name": "stderr",
          "output_type": "stream",
          "text": [
            "[mpeg1video @ 0x7fbec009f640] ac-tex damaged at 22 17\n",
            "[mpeg1video @ 0x7fbec009f640] Warning MVs not available\n"
          ]
        },
        {
          "name": "stdout",
          "output_type": "stream",
          "text": [
            "450/450 [==============================] - ETA: 0s - loss: 24.4081"
          ]
        },
        {
          "name": "stderr",
          "output_type": "stream",
          "text": [
            "[mpeg1video @ 0x7fd4c4013b40] ac-tex damaged at 22 17\n",
            "[mpeg1video @ 0x7fd4c4013b40] Warning MVs not available\n"
          ]
        },
        {
          "name": "stdout",
          "output_type": "stream",
          "text": [
            "1/1 [==============================] - 1s 1s/step\n",
            "Original: set white at b nine again\n",
            "Prediction: set whie bt p sie please\n",
            "~~~~~~~~~~~~~~~~~~~~~~~~~~~~~~~~~~~~~~~~~~~~~~~~~~~~~~~~~~~~~~~~~~~~~~~~~~~~~~~~~~~~~~~~~~~~~~~~~~~~\n",
            "Original: lay red with s zero please\n",
            "Prediction: lay re it j zorx please\n",
            "~~~~~~~~~~~~~~~~~~~~~~~~~~~~~~~~~~~~~~~~~~~~~~~~~~~~~~~~~~~~~~~~~~~~~~~~~~~~~~~~~~~~~~~~~~~~~~~~~~~~\n",
            "450/450 [==============================] - 1738s 4s/step - loss: 24.4081 - val_loss: 20.6898 - lr: 1.0000e-04\n",
            "Epoch 27/100\n",
            "444/450 [============================>.] - ETA: 19s - loss: 22.5314"
          ]
        },
        {
          "name": "stderr",
          "output_type": "stream",
          "text": [
            "[mpeg1video @ 0x7fd3f8086340] ac-tex damaged at 22 17\n",
            "[mpeg1video @ 0x7fd3f8086340] Warning MVs not available\n"
          ]
        },
        {
          "name": "stdout",
          "output_type": "stream",
          "text": [
            "450/450 [==============================] - ETA: 0s - loss: 22.5739"
          ]
        },
        {
          "name": "stderr",
          "output_type": "stream",
          "text": [
            "[mpeg1video @ 0x7fd16c0d8f00] ac-tex damaged at 22 17\n",
            "[mpeg1video @ 0x7fd16c0d8f00] Warning MVs not available\n"
          ]
        },
        {
          "name": "stdout",
          "output_type": "stream",
          "text": [
            "1/1 [==============================] - 1s 1s/step\n",
            "Original: place blue in u eight now\n",
            "Prediction: plac blue it o tigh now\n",
            "~~~~~~~~~~~~~~~~~~~~~~~~~~~~~~~~~~~~~~~~~~~~~~~~~~~~~~~~~~~~~~~~~~~~~~~~~~~~~~~~~~~~~~~~~~~~~~~~~~~~\n",
            "Original: lay red by l two please\n",
            "Prediction: lay brue by r toe please\n",
            "~~~~~~~~~~~~~~~~~~~~~~~~~~~~~~~~~~~~~~~~~~~~~~~~~~~~~~~~~~~~~~~~~~~~~~~~~~~~~~~~~~~~~~~~~~~~~~~~~~~~\n",
            "450/450 [==============================] - 1770s 4s/step - loss: 22.5739 - val_loss: 19.4618 - lr: 1.0000e-04\n",
            "Epoch 28/100\n",
            "305/450 [===================>..........] - ETA: 7:48 - loss: 21.0530"
          ]
        },
        {
          "name": "stderr",
          "output_type": "stream",
          "text": [
            "[mpeg1video @ 0x7fd1a00bd500] ac-tex damaged at 22 17\n",
            "[mpeg1video @ 0x7fd1a00bd500] Warning MVs not available\n"
          ]
        },
        {
          "name": "stdout",
          "output_type": "stream",
          "text": [
            "450/450 [==============================] - ETA: 0s - loss: 21.1139"
          ]
        },
        {
          "name": "stderr",
          "output_type": "stream",
          "text": [
            "[mpeg1video @ 0x7fd4dc00ebc0] ac-tex damaged at 22 17\n",
            "[mpeg1video @ 0x7fd4dc00ebc0] Warning MVs not available\n"
          ]
        },
        {
          "name": "stdout",
          "output_type": "stream",
          "text": [
            "1/1 [==============================] - 1s 988ms/step\n",
            "Original: place green in x six now\n",
            "Prediction: place wre it i tigx now\n",
            "~~~~~~~~~~~~~~~~~~~~~~~~~~~~~~~~~~~~~~~~~~~~~~~~~~~~~~~~~~~~~~~~~~~~~~~~~~~~~~~~~~~~~~~~~~~~~~~~~~~~\n",
            "Original: lay blue by y five again\n",
            "Prediction: blac blue by b sive again\n",
            "~~~~~~~~~~~~~~~~~~~~~~~~~~~~~~~~~~~~~~~~~~~~~~~~~~~~~~~~~~~~~~~~~~~~~~~~~~~~~~~~~~~~~~~~~~~~~~~~~~~~\n",
            "450/450 [==============================] - 1765s 4s/step - loss: 21.1139 - val_loss: 18.9784 - lr: 1.0000e-04\n",
            "Epoch 29/100\n",
            " 84/450 [====>.........................] - ETA: 18:00 - loss: 19.6478"
          ]
        },
        {
          "name": "stderr",
          "output_type": "stream",
          "text": [
            "[mpeg1video @ 0x7fbefc017200] ac-tex damaged at 22 17\n",
            "[mpeg1video @ 0x7fbefc017200] Warning MVs not available\n"
          ]
        },
        {
          "name": "stdout",
          "output_type": "stream",
          "text": [
            "450/450 [==============================] - ETA: 0s - loss: 23.1677"
          ]
        },
        {
          "name": "stderr",
          "output_type": "stream",
          "text": [
            "[mpeg1video @ 0x7fd39c09ad40] ac-tex damaged at 22 17\n",
            "[mpeg1video @ 0x7fd39c09ad40] Warning MVs not available\n"
          ]
        },
        {
          "name": "stdout",
          "output_type": "stream",
          "text": [
            "1/1 [==============================] - 1s 805ms/step\n",
            "Original: lay green in z two now\n",
            "Prediction: lay ren it z two now\n",
            "~~~~~~~~~~~~~~~~~~~~~~~~~~~~~~~~~~~~~~~~~~~~~~~~~~~~~~~~~~~~~~~~~~~~~~~~~~~~~~~~~~~~~~~~~~~~~~~~~~~~\n",
            "Original: bin green with o five again\n",
            "Prediction: bin wrue with t sive again\n",
            "~~~~~~~~~~~~~~~~~~~~~~~~~~~~~~~~~~~~~~~~~~~~~~~~~~~~~~~~~~~~~~~~~~~~~~~~~~~~~~~~~~~~~~~~~~~~~~~~~~~~\n",
            "450/450 [==============================] - 1713s 4s/step - loss: 23.1677 - val_loss: 20.6841 - lr: 1.0000e-04\n",
            "Epoch 30/100\n",
            "274/450 [=================>............] - ETA: 9:30 - loss: 22.6318"
          ]
        },
        {
          "name": "stderr",
          "output_type": "stream",
          "text": [
            "[mpeg1video @ 0x7fbe080cec80] ac-tex damaged at 22 17\n",
            "[mpeg1video @ 0x7fbe080cec80] Warning MVs not available\n"
          ]
        },
        {
          "name": "stdout",
          "output_type": "stream",
          "text": [
            "450/450 [==============================] - ETA: 0s - loss: 22.6456"
          ]
        },
        {
          "name": "stderr",
          "output_type": "stream",
          "text": [
            "[mpeg1video @ 0x7fd170036800] ac-tex damaged at 22 17\n",
            "[mpeg1video @ 0x7fd170036800] Warning MVs not available\n"
          ]
        },
        {
          "name": "stdout",
          "output_type": "stream",
          "text": [
            "1/1 [==============================] - 1s 1s/step\n",
            "Original: place white in x three again\n",
            "Prediction: place wre iy a ere again\n",
            "~~~~~~~~~~~~~~~~~~~~~~~~~~~~~~~~~~~~~~~~~~~~~~~~~~~~~~~~~~~~~~~~~~~~~~~~~~~~~~~~~~~~~~~~~~~~~~~~~~~~\n",
            "Original: place red by p nine soon\n",
            "Prediction: bin red by b sive seon\n",
            "~~~~~~~~~~~~~~~~~~~~~~~~~~~~~~~~~~~~~~~~~~~~~~~~~~~~~~~~~~~~~~~~~~~~~~~~~~~~~~~~~~~~~~~~~~~~~~~~~~~~\n",
            "450/450 [==============================] - 1737s 4s/step - loss: 22.6456 - val_loss: 19.2576 - lr: 1.0000e-04\n",
            "Epoch 31/100\n",
            "450/450 [==============================] - ETA: 0s - loss: 20.9635"
          ]
        },
        {
          "name": "stderr",
          "output_type": "stream",
          "text": [
            "[mpeg1video @ 0x7fbe8c024040] ac-tex damaged at 22 17\n",
            "[mpeg1video @ 0x7fbe8c024040] Warning MVs not available\n"
          ]
        },
        {
          "name": "stdout",
          "output_type": "stream",
          "text": [
            "1/1 [==============================] - 1s 1s/step\n",
            "Original: bin green in a two now\n",
            "Prediction: bin whe ith h two now\n",
            "~~~~~~~~~~~~~~~~~~~~~~~~~~~~~~~~~~~~~~~~~~~~~~~~~~~~~~~~~~~~~~~~~~~~~~~~~~~~~~~~~~~~~~~~~~~~~~~~~~~~\n",
            "Original: set blue in a zero now\n",
            "Prediction: set blue bt o zoro now\n",
            "~~~~~~~~~~~~~~~~~~~~~~~~~~~~~~~~~~~~~~~~~~~~~~~~~~~~~~~~~~~~~~~~~~~~~~~~~~~~~~~~~~~~~~~~~~~~~~~~~~~~\n",
            "450/450 [==============================] - 1768s 4s/step - loss: 20.9635 - val_loss: 18.7621 - lr: 9.0484e-05\n",
            "Epoch 32/100\n",
            "450/450 [==============================] - ETA: 0s - loss: 20.5437"
          ]
        },
        {
          "name": "stderr",
          "output_type": "stream",
          "text": [
            "[mpeg1video @ 0x7fbe7c009600] ac-tex damaged at 22 17\n",
            "[mpeg1video @ 0x7fbe7c009600] Warning MVs not available\n"
          ]
        },
        {
          "name": "stdout",
          "output_type": "stream",
          "text": [
            "1/1 [==============================] - 1s 856ms/step\n",
            "Original: lay blue in d three soon\n",
            "Prediction: lay blue it n thre son\n",
            "~~~~~~~~~~~~~~~~~~~~~~~~~~~~~~~~~~~~~~~~~~~~~~~~~~~~~~~~~~~~~~~~~~~~~~~~~~~~~~~~~~~~~~~~~~~~~~~~~~~~\n",
            "Original: place green with r five soon\n",
            "Prediction: place grenwith q five son\n",
            "~~~~~~~~~~~~~~~~~~~~~~~~~~~~~~~~~~~~~~~~~~~~~~~~~~~~~~~~~~~~~~~~~~~~~~~~~~~~~~~~~~~~~~~~~~~~~~~~~~~~\n",
            "450/450 [==============================] - 1763s 4s/step - loss: 20.5437 - val_loss: 15.3082 - lr: 8.1873e-05\n",
            "Epoch 33/100\n",
            "250/450 [===============>..............] - ETA: 10:07 - loss: 19.5905"
          ]
        },
        {
          "name": "stderr",
          "output_type": "stream",
          "text": [
            "[mpeg1video @ 0x7fbf800aaf00] ac-tex damaged at 22 17\n",
            "[mpeg1video @ 0x7fbf800aaf00] Warning MVs not available\n"
          ]
        },
        {
          "name": "stdout",
          "output_type": "stream",
          "text": [
            "450/450 [==============================] - ETA: 0s - loss: 19.3531"
          ]
        },
        {
          "name": "stderr",
          "output_type": "stream",
          "text": [
            "[mpeg1video @ 0x7fd4dc034a00] ac-tex damaged at 22 17\n",
            "[mpeg1video @ 0x7fd4dc034a00] Warning MVs not available\n"
          ]
        },
        {
          "name": "stdout",
          "output_type": "stream",
          "text": [
            "1/1 [==============================] - 1s 865ms/step\n",
            "Original: place white by k zero now\n",
            "Prediction: place red by c zoro now\n",
            "~~~~~~~~~~~~~~~~~~~~~~~~~~~~~~~~~~~~~~~~~~~~~~~~~~~~~~~~~~~~~~~~~~~~~~~~~~~~~~~~~~~~~~~~~~~~~~~~~~~~\n",
            "Original: place red at j three again\n",
            "Prediction: place re at k tere again\n",
            "~~~~~~~~~~~~~~~~~~~~~~~~~~~~~~~~~~~~~~~~~~~~~~~~~~~~~~~~~~~~~~~~~~~~~~~~~~~~~~~~~~~~~~~~~~~~~~~~~~~~\n",
            "450/450 [==============================] - 1713s 4s/step - loss: 19.3531 - val_loss: 17.0266 - lr: 7.4082e-05\n",
            "Epoch 34/100\n",
            "405/450 [==========================>...] - ETA: 2:29 - loss: 17.1665"
          ]
        },
        {
          "name": "stderr",
          "output_type": "stream",
          "text": [
            "[mpeg1video @ 0x7fd3a80410c0] ac-tex damaged at 22 17\n",
            "[mpeg1video @ 0x7fd3a80410c0] Warning MVs not available\n"
          ]
        },
        {
          "name": "stdout",
          "output_type": "stream",
          "text": [
            "450/450 [==============================] - ETA: 0s - loss: 17.1141"
          ]
        },
        {
          "name": "stderr",
          "output_type": "stream",
          "text": [
            "[mpeg1video @ 0x7fbfac00dbc0] ac-tex damaged at 22 17\n",
            "[mpeg1video @ 0x7fbfac00dbc0] Warning MVs not available\n"
          ]
        },
        {
          "name": "stdout",
          "output_type": "stream",
          "text": [
            "1/1 [==============================] - 1s 1s/step\n",
            "Original: lay blue in x six please\n",
            "Prediction: lay blue in x six please\n",
            "~~~~~~~~~~~~~~~~~~~~~~~~~~~~~~~~~~~~~~~~~~~~~~~~~~~~~~~~~~~~~~~~~~~~~~~~~~~~~~~~~~~~~~~~~~~~~~~~~~~~\n",
            "Original: set red with o seven soon\n",
            "Prediction: set gre wit n enene son\n",
            "~~~~~~~~~~~~~~~~~~~~~~~~~~~~~~~~~~~~~~~~~~~~~~~~~~~~~~~~~~~~~~~~~~~~~~~~~~~~~~~~~~~~~~~~~~~~~~~~~~~~\n",
            "450/450 [==============================] - 1754s 4s/step - loss: 17.1141 - val_loss: 14.2846 - lr: 6.7032e-05\n",
            "Epoch 35/100\n",
            " 33/450 [=>............................] - ETA: 23:44 - loss: 16.6459"
          ]
        },
        {
          "name": "stderr",
          "output_type": "stream",
          "text": [
            "[mpeg1video @ 0x7fbf7004ecc0] ac-tex damaged at 22 17\n",
            "[mpeg1video @ 0x7fbf7004ecc0] Warning MVs not available\n"
          ]
        },
        {
          "name": "stdout",
          "output_type": "stream",
          "text": [
            "450/450 [==============================] - ETA: 0s - loss: 15.7636"
          ]
        },
        {
          "name": "stderr",
          "output_type": "stream",
          "text": [
            "[mpeg1video @ 0x7fc02c04e980] ac-tex damaged at 22 17\n",
            "[mpeg1video @ 0x7fc02c04e980] Warning MVs not available\n"
          ]
        },
        {
          "name": "stdout",
          "output_type": "stream",
          "text": [
            "1/1 [==============================] - 1s 1s/step\n",
            "Original: set red at h six please\n",
            "Prediction: set red at a six please\n",
            "~~~~~~~~~~~~~~~~~~~~~~~~~~~~~~~~~~~~~~~~~~~~~~~~~~~~~~~~~~~~~~~~~~~~~~~~~~~~~~~~~~~~~~~~~~~~~~~~~~~~\n",
            "Original: place blue with j four please\n",
            "Prediction: place blue it q fouo please\n",
            "~~~~~~~~~~~~~~~~~~~~~~~~~~~~~~~~~~~~~~~~~~~~~~~~~~~~~~~~~~~~~~~~~~~~~~~~~~~~~~~~~~~~~~~~~~~~~~~~~~~~\n",
            "450/450 [==============================] - 1767s 4s/step - loss: 15.7636 - val_loss: 12.4465 - lr: 6.0653e-05\n",
            "Epoch 36/100\n",
            "450/450 [==============================] - ETA: 0s - loss: 14.2919"
          ]
        },
        {
          "name": "stderr",
          "output_type": "stream",
          "text": [
            "[mpeg1video @ 0x7fd15c065840] ac-tex damaged at 22 17\n",
            "[mpeg1video @ 0x7fd15c065840] Warning MVs not available\n"
          ]
        },
        {
          "name": "stdout",
          "output_type": "stream",
          "text": [
            "1/1 [==============================] - 1s 866ms/step\n",
            "Original: place green in q four please\n",
            "Prediction: place ren in r fouo please\n",
            "~~~~~~~~~~~~~~~~~~~~~~~~~~~~~~~~~~~~~~~~~~~~~~~~~~~~~~~~~~~~~~~~~~~~~~~~~~~~~~~~~~~~~~~~~~~~~~~~~~~~\n",
            "Original: set white at o five soon\n",
            "Prediction: set white an v fene son\n",
            "~~~~~~~~~~~~~~~~~~~~~~~~~~~~~~~~~~~~~~~~~~~~~~~~~~~~~~~~~~~~~~~~~~~~~~~~~~~~~~~~~~~~~~~~~~~~~~~~~~~~\n",
            "450/450 [==============================] - 1750s 4s/step - loss: 14.2919 - val_loss: 11.8318 - lr: 5.4881e-05\n",
            "Epoch 37/100\n",
            "231/450 [==============>...............] - ETA: 11:11 - loss: 13.1745"
          ]
        },
        {
          "name": "stderr",
          "output_type": "stream",
          "text": [
            "[mpeg1video @ 0x7fd334065e80] ac-tex damaged at 22 17\n",
            "[mpeg1video @ 0x7fd334065e80] Warning MVs not available\n"
          ]
        },
        {
          "name": "stdout",
          "output_type": "stream",
          "text": [
            "450/450 [==============================] - ETA: 0s - loss: 13.6253"
          ]
        },
        {
          "name": "stderr",
          "output_type": "stream",
          "text": [
            "[mpeg1video @ 0x7fbe5c088640] ac-tex damaged at 22 17\n",
            "[mpeg1video @ 0x7fbe5c088640] Warning MVs not available\n"
          ]
        },
        {
          "name": "stdout",
          "output_type": "stream",
          "text": [
            "1/1 [==============================] - 1s 863ms/step\n",
            "Original: bin red in l eight now\n",
            "Prediction: bin red in a eight now\n",
            "~~~~~~~~~~~~~~~~~~~~~~~~~~~~~~~~~~~~~~~~~~~~~~~~~~~~~~~~~~~~~~~~~~~~~~~~~~~~~~~~~~~~~~~~~~~~~~~~~~~~\n",
            "Original: set blue by u one soon\n",
            "Prediction: set blue by u one son\n",
            "~~~~~~~~~~~~~~~~~~~~~~~~~~~~~~~~~~~~~~~~~~~~~~~~~~~~~~~~~~~~~~~~~~~~~~~~~~~~~~~~~~~~~~~~~~~~~~~~~~~~\n",
            "450/450 [==============================] - 1718s 4s/step - loss: 13.6253 - val_loss: 10.9104 - lr: 4.9659e-05\n",
            "Epoch 38/100\n"
          ]
        },
        {
          "name": "stderr",
          "output_type": "stream",
          "text": [
            "[mpeg1video @ 0x7fd23c08eec0] ac-tex damaged at 22 17\n",
            "[mpeg1video @ 0x7fd23c08eec0] Warning MVs not available\n"
          ]
        },
        {
          "name": "stdout",
          "output_type": "stream",
          "text": [
            "450/450 [==============================] - ETA: 0s - loss: 12.7258"
          ]
        },
        {
          "name": "stderr",
          "output_type": "stream",
          "text": [
            "[mpeg1video @ 0x7fd3c4078840] ac-tex damaged at 22 17\n",
            "[mpeg1video @ 0x7fd3c4078840] Warning MVs not available\n"
          ]
        },
        {
          "name": "stdout",
          "output_type": "stream",
          "text": [
            "1/1 [==============================] - 1s 1s/step\n",
            "Original: bin white by t six now\n",
            "Prediction: bin white by i six now\n",
            "~~~~~~~~~~~~~~~~~~~~~~~~~~~~~~~~~~~~~~~~~~~~~~~~~~~~~~~~~~~~~~~~~~~~~~~~~~~~~~~~~~~~~~~~~~~~~~~~~~~~\n",
            "Original: place red in i six now\n",
            "Prediction: place red in x six now\n",
            "~~~~~~~~~~~~~~~~~~~~~~~~~~~~~~~~~~~~~~~~~~~~~~~~~~~~~~~~~~~~~~~~~~~~~~~~~~~~~~~~~~~~~~~~~~~~~~~~~~~~\n",
            "450/450 [==============================] - 1762s 4s/step - loss: 12.7258 - val_loss: 9.2250 - lr: 4.4933e-05\n",
            "Epoch 39/100\n",
            "248/450 [===============>..............] - ETA: 11:15 - loss: 11.6304"
          ]
        },
        {
          "name": "stderr",
          "output_type": "stream",
          "text": [
            "[mpeg1video @ 0x7fd378036400] ac-tex damaged at 22 17\n",
            "[mpeg1video @ 0x7fd378036400] Warning MVs not available\n"
          ]
        },
        {
          "name": "stdout",
          "output_type": "stream",
          "text": [
            "450/450 [==============================] - ETA: 0s - loss: 11.8701"
          ]
        },
        {
          "name": "stderr",
          "output_type": "stream",
          "text": [
            "[mpeg1video @ 0x7fbf60008040] ac-tex damaged at 22 17\n",
            "[mpeg1video @ 0x7fbf60008040] Warning MVs not available\n"
          ]
        },
        {
          "name": "stdout",
          "output_type": "stream",
          "text": [
            "1/1 [==============================] - 1s 1s/step\n",
            "Original: place blue at p zero please\n",
            "Prediction: place blue at c zer please\n",
            "~~~~~~~~~~~~~~~~~~~~~~~~~~~~~~~~~~~~~~~~~~~~~~~~~~~~~~~~~~~~~~~~~~~~~~~~~~~~~~~~~~~~~~~~~~~~~~~~~~~~\n",
            "Original: place white with e two please\n",
            "Prediction: place white with h two please\n",
            "~~~~~~~~~~~~~~~~~~~~~~~~~~~~~~~~~~~~~~~~~~~~~~~~~~~~~~~~~~~~~~~~~~~~~~~~~~~~~~~~~~~~~~~~~~~~~~~~~~~~\n",
            "450/450 [==============================] - 1765s 4s/step - loss: 11.8701 - val_loss: 8.9385 - lr: 4.0657e-05\n",
            "Epoch 40/100\n",
            " 47/450 [==>...........................] - ETA: 22:42 - loss: 12.4450"
          ]
        },
        {
          "name": "stderr",
          "output_type": "stream",
          "text": [
            "[mpeg1video @ 0x7fbf60065480] ac-tex damaged at 22 17\n",
            "[mpeg1video @ 0x7fbf60065480] Warning MVs not available\n"
          ]
        },
        {
          "name": "stdout",
          "output_type": "stream",
          "text": [
            "450/450 [==============================] - ETA: 0s - loss: 11.0756"
          ]
        },
        {
          "name": "stderr",
          "output_type": "stream",
          "text": [
            "[mpeg1video @ 0x7fd26010bbc0] ac-tex damaged at 22 17\n",
            "[mpeg1video @ 0x7fd26010bbc0] Warning MVs not available\n"
          ]
        },
        {
          "name": "stdout",
          "output_type": "stream",
          "text": [
            "1/1 [==============================] - 1s 855ms/step\n",
            "Original: place blue at i five soon\n",
            "Prediction: place blue at f five son\n",
            "~~~~~~~~~~~~~~~~~~~~~~~~~~~~~~~~~~~~~~~~~~~~~~~~~~~~~~~~~~~~~~~~~~~~~~~~~~~~~~~~~~~~~~~~~~~~~~~~~~~~\n",
            "Original: set white with v seven soon\n",
            "Prediction: set white with v seve son\n",
            "~~~~~~~~~~~~~~~~~~~~~~~~~~~~~~~~~~~~~~~~~~~~~~~~~~~~~~~~~~~~~~~~~~~~~~~~~~~~~~~~~~~~~~~~~~~~~~~~~~~~\n",
            "450/450 [==============================] - 1722s 4s/step - loss: 11.0756 - val_loss: 8.1630 - lr: 3.6788e-05\n",
            "Epoch 41/100\n",
            " 77/450 [====>.........................] - ETA: 18:48 - loss: 10.5760"
          ]
        },
        {
          "name": "stderr",
          "output_type": "stream",
          "text": [
            "[mpeg1video @ 0x7fbf8c03a140] ac-tex damaged at 22 17\n",
            "[mpeg1video @ 0x7fbf8c03a140] Warning MVs not available\n"
          ]
        },
        {
          "name": "stdout",
          "output_type": "stream",
          "text": [
            "450/450 [==============================] - ETA: 0s - loss: 10.4482"
          ]
        },
        {
          "name": "stderr",
          "output_type": "stream",
          "text": [
            "[mpeg1video @ 0x7fd558010b80] ac-tex damaged at 22 17\n",
            "[mpeg1video @ 0x7fd558010b80] Warning MVs not available\n"
          ]
        },
        {
          "name": "stdout",
          "output_type": "stream",
          "text": [
            "1/1 [==============================] - 1s 1s/step\n",
            "Original: bin white at g six please\n",
            "Prediction: bin white at a six please\n",
            "~~~~~~~~~~~~~~~~~~~~~~~~~~~~~~~~~~~~~~~~~~~~~~~~~~~~~~~~~~~~~~~~~~~~~~~~~~~~~~~~~~~~~~~~~~~~~~~~~~~~\n",
            "Original: bin green by h five soon\n",
            "Prediction: bin gren by l five son\n",
            "~~~~~~~~~~~~~~~~~~~~~~~~~~~~~~~~~~~~~~~~~~~~~~~~~~~~~~~~~~~~~~~~~~~~~~~~~~~~~~~~~~~~~~~~~~~~~~~~~~~~\n",
            "450/450 [==============================] - 1739s 4s/step - loss: 10.4482 - val_loss: 8.6722 - lr: 3.3287e-05\n",
            "Epoch 42/100\n",
            " 15/450 [>.............................] - ETA: 24:42 - loss: 10.3823"
          ]
        },
        {
          "name": "stderr",
          "output_type": "stream",
          "text": [
            "[mpeg1video @ 0x7fd4f402cb40] ac-tex damaged at 22 17\n",
            "[mpeg1video @ 0x7fd4f402cb40] Warning MVs not available\n"
          ]
        },
        {
          "name": "stdout",
          "output_type": "stream",
          "text": [
            "450/450 [==============================] - ETA: 0s - loss: 9.8067"
          ]
        },
        {
          "name": "stderr",
          "output_type": "stream",
          "text": [
            "[mpeg1video @ 0x7fd164092640] ac-tex damaged at 22 17\n",
            "[mpeg1video @ 0x7fd164092640] Warning MVs not available\n"
          ]
        },
        {
          "name": "stdout",
          "output_type": "stream",
          "text": [
            "1/1 [==============================] - 1s 889ms/step\n",
            "Original: set white at i one soon\n",
            "Prediction: set white it i one son\n",
            "~~~~~~~~~~~~~~~~~~~~~~~~~~~~~~~~~~~~~~~~~~~~~~~~~~~~~~~~~~~~~~~~~~~~~~~~~~~~~~~~~~~~~~~~~~~~~~~~~~~~\n",
            "Original: place green by y four now\n",
            "Prediction: place gre by y four now\n",
            "~~~~~~~~~~~~~~~~~~~~~~~~~~~~~~~~~~~~~~~~~~~~~~~~~~~~~~~~~~~~~~~~~~~~~~~~~~~~~~~~~~~~~~~~~~~~~~~~~~~~\n",
            "450/450 [==============================] - 1729s 4s/step - loss: 9.8067 - val_loss: 7.7881 - lr: 3.0119e-05\n",
            "Epoch 43/100\n",
            "101/450 [=====>........................] - ETA: 17:44 - loss: 8.7221"
          ]
        },
        {
          "name": "stderr",
          "output_type": "stream",
          "text": [
            "[mpeg1video @ 0x7fd2ec03ac00] ac-tex damaged at 22 17\n",
            "[mpeg1video @ 0x7fd2ec03ac00] Warning MVs not available\n"
          ]
        },
        {
          "name": "stdout",
          "output_type": "stream",
          "text": [
            "450/450 [==============================] - ETA: 0s - loss: 9.2905"
          ]
        },
        {
          "name": "stderr",
          "output_type": "stream",
          "text": [
            "[mpeg1video @ 0x7fd260031940] ac-tex damaged at 22 17\n",
            "[mpeg1video @ 0x7fd260031940] Warning MVs not available\n"
          ]
        },
        {
          "name": "stdout",
          "output_type": "stream",
          "text": [
            "1/1 [==============================] - 1s 1s/step\n",
            "Original: bin white in g one soon\n",
            "Prediction: bin white in n one son\n",
            "~~~~~~~~~~~~~~~~~~~~~~~~~~~~~~~~~~~~~~~~~~~~~~~~~~~~~~~~~~~~~~~~~~~~~~~~~~~~~~~~~~~~~~~~~~~~~~~~~~~~\n",
            "Original: bin red at f eight now\n",
            "Prediction: bin red at a eight now\n",
            "~~~~~~~~~~~~~~~~~~~~~~~~~~~~~~~~~~~~~~~~~~~~~~~~~~~~~~~~~~~~~~~~~~~~~~~~~~~~~~~~~~~~~~~~~~~~~~~~~~~~\n",
            "450/450 [==============================] - 1729s 4s/step - loss: 9.2905 - val_loss: 6.8570 - lr: 2.7253e-05\n",
            "Epoch 44/100\n",
            " 18/450 [>.............................] - ETA: 24:33 - loss: 8.2436"
          ]
        },
        {
          "name": "stderr",
          "output_type": "stream",
          "text": [
            "[mpeg1video @ 0x7fd278080940] ac-tex damaged at 22 17\n",
            "[mpeg1video @ 0x7fd278080940] Warning MVs not available\n"
          ]
        },
        {
          "name": "stdout",
          "output_type": "stream",
          "text": [
            "450/450 [==============================] - ETA: 0s - loss: 8.7602"
          ]
        },
        {
          "name": "stderr",
          "output_type": "stream",
          "text": [
            "[mpeg1video @ 0x7fd56412c640] ac-tex damaged at 22 17\n",
            "[mpeg1video @ 0x7fd56412c640] Warning MVs not available\n"
          ]
        },
        {
          "name": "stdout",
          "output_type": "stream",
          "text": [
            "1/1 [==============================] - 1s 1s/step\n",
            "Original: lay red by e six now\n",
            "Prediction: lay red by k six now\n",
            "~~~~~~~~~~~~~~~~~~~~~~~~~~~~~~~~~~~~~~~~~~~~~~~~~~~~~~~~~~~~~~~~~~~~~~~~~~~~~~~~~~~~~~~~~~~~~~~~~~~~\n",
            "Original: bin red in s five again\n",
            "Prediction: bin red an g five again\n",
            "~~~~~~~~~~~~~~~~~~~~~~~~~~~~~~~~~~~~~~~~~~~~~~~~~~~~~~~~~~~~~~~~~~~~~~~~~~~~~~~~~~~~~~~~~~~~~~~~~~~~\n",
            "450/450 [==============================] - 1773s 4s/step - loss: 8.7602 - val_loss: 6.4841 - lr: 2.4660e-05\n",
            "Epoch 45/100\n",
            "233/450 [==============>...............] - ETA: 11:41 - loss: 10.0156"
          ]
        },
        {
          "name": "stderr",
          "output_type": "stream",
          "text": [
            "[mpeg1video @ 0x7fbdfc03d940] ac-tex damaged at 22 17\n",
            "[mpeg1video @ 0x7fbdfc03d940] Warning MVs not available\n"
          ]
        },
        {
          "name": "stdout",
          "output_type": "stream",
          "text": [
            "450/450 [==============================] - ETA: 0s - loss: 10.4674"
          ]
        },
        {
          "name": "stderr",
          "output_type": "stream",
          "text": [
            "[mpeg1video @ 0x7fd26c0226c0] ac-tex damaged at 22 17\n",
            "[mpeg1video @ 0x7fd26c0226c0] Warning MVs not available\n"
          ]
        },
        {
          "name": "stdout",
          "output_type": "stream",
          "text": [
            "1/1 [==============================] - 1s 856ms/step\n",
            "Original: bin red with n three again\n",
            "Prediction: bin red with h thre again\n",
            "~~~~~~~~~~~~~~~~~~~~~~~~~~~~~~~~~~~~~~~~~~~~~~~~~~~~~~~~~~~~~~~~~~~~~~~~~~~~~~~~~~~~~~~~~~~~~~~~~~~~\n",
            "Original: place white by d seven soon\n",
            "Prediction: plac white by y seve son\n",
            "~~~~~~~~~~~~~~~~~~~~~~~~~~~~~~~~~~~~~~~~~~~~~~~~~~~~~~~~~~~~~~~~~~~~~~~~~~~~~~~~~~~~~~~~~~~~~~~~~~~~\n",
            "450/450 [==============================] - 1759s 4s/step - loss: 10.4674 - val_loss: 8.5198 - lr: 2.2313e-05\n",
            "Epoch 46/100\n",
            "301/450 [===================>..........] - ETA: 7:46 - loss: 10.4130"
          ]
        },
        {
          "name": "stderr",
          "output_type": "stream",
          "text": [
            "[mpeg1video @ 0x7fd404021d40] ac-tex damaged at 22 17\n",
            "[mpeg1video @ 0x7fd404021d40] Warning MVs not available\n"
          ]
        },
        {
          "name": "stdout",
          "output_type": "stream",
          "text": [
            "450/450 [==============================] - ETA: 0s - loss: 10.3733"
          ]
        },
        {
          "name": "stderr",
          "output_type": "stream",
          "text": [
            "[mpeg1video @ 0x7fd524054580] ac-tex damaged at 22 17\n",
            "[mpeg1video @ 0x7fd524054580] Warning MVs not available\n"
          ]
        },
        {
          "name": "stdout",
          "output_type": "stream",
          "text": [
            "1/1 [==============================] - 1s 869ms/step\n",
            "Original: set green by c six now\n",
            "Prediction: set gren by b six now\n",
            "~~~~~~~~~~~~~~~~~~~~~~~~~~~~~~~~~~~~~~~~~~~~~~~~~~~~~~~~~~~~~~~~~~~~~~~~~~~~~~~~~~~~~~~~~~~~~~~~~~~~\n",
            "Original: lay white sp by z five soon\n",
            "Prediction: lay white by p five son\n",
            "~~~~~~~~~~~~~~~~~~~~~~~~~~~~~~~~~~~~~~~~~~~~~~~~~~~~~~~~~~~~~~~~~~~~~~~~~~~~~~~~~~~~~~~~~~~~~~~~~~~~\n",
            "450/450 [==============================] - 1713s 4s/step - loss: 10.3733 - val_loss: 7.4302 - lr: 2.0190e-05\n",
            "Epoch 47/100\n",
            "403/450 [=========================>....] - ETA: 2:36 - loss: 10.2658"
          ]
        },
        {
          "name": "stderr",
          "output_type": "stream",
          "text": [
            "[mpeg1video @ 0x7fd394083a40] ac-tex damaged at 22 17\n",
            "[mpeg1video @ 0x7fd394083a40] Warning MVs not available\n"
          ]
        },
        {
          "name": "stdout",
          "output_type": "stream",
          "text": [
            "450/450 [==============================] - ETA: 0s - loss: 10.1824"
          ]
        },
        {
          "name": "stderr",
          "output_type": "stream",
          "text": [
            "[mpeg1video @ 0x7fd41808d800] ac-tex damaged at 22 17\n",
            "[mpeg1video @ 0x7fd41808d800] Warning MVs not available\n"
          ]
        },
        {
          "name": "stdout",
          "output_type": "stream",
          "text": [
            "1/1 [==============================] - 1s 1s/step\n",
            "Original: place green in d six please\n",
            "Prediction: place gren in x six please\n",
            "~~~~~~~~~~~~~~~~~~~~~~~~~~~~~~~~~~~~~~~~~~~~~~~~~~~~~~~~~~~~~~~~~~~~~~~~~~~~~~~~~~~~~~~~~~~~~~~~~~~~\n",
            "Original: set blue with b four please\n",
            "Prediction: set blue with u four please\n",
            "~~~~~~~~~~~~~~~~~~~~~~~~~~~~~~~~~~~~~~~~~~~~~~~~~~~~~~~~~~~~~~~~~~~~~~~~~~~~~~~~~~~~~~~~~~~~~~~~~~~~\n",
            "450/450 [==============================] - 1756s 4s/step - loss: 10.1824 - val_loss: 7.6643 - lr: 1.8268e-05\n",
            "Epoch 48/100\n",
            "424/450 [===========================>..] - ETA: 1:24 - loss: 9.6557"
          ]
        },
        {
          "name": "stderr",
          "output_type": "stream",
          "text": [
            "[mpeg1video @ 0x7fd560082580] ac-tex damaged at 22 17\n",
            "[mpeg1video @ 0x7fd560082580] Warning MVs not available\n"
          ]
        },
        {
          "name": "stdout",
          "output_type": "stream",
          "text": [
            "450/450 [==============================] - ETA: 0s - loss: 9.6259"
          ]
        },
        {
          "name": "stderr",
          "output_type": "stream",
          "text": [
            "[mpeg1video @ 0x7fd15c02a580] ac-tex damaged at 22 17\n",
            "[mpeg1video @ 0x7fd15c02a580] Warning MVs not available\n"
          ]
        },
        {
          "name": "stdout",
          "output_type": "stream",
          "text": [
            "1/1 [==============================] - 1s 1s/step\n",
            "Original: bin blue at s zero now\n",
            "Prediction: bin blue at z zero now\n",
            "~~~~~~~~~~~~~~~~~~~~~~~~~~~~~~~~~~~~~~~~~~~~~~~~~~~~~~~~~~~~~~~~~~~~~~~~~~~~~~~~~~~~~~~~~~~~~~~~~~~~\n",
            "Original: set white in b two now\n",
            "Prediction: set white iy i two now\n",
            "~~~~~~~~~~~~~~~~~~~~~~~~~~~~~~~~~~~~~~~~~~~~~~~~~~~~~~~~~~~~~~~~~~~~~~~~~~~~~~~~~~~~~~~~~~~~~~~~~~~~\n",
            "450/450 [==============================] - 1769s 4s/step - loss: 9.6259 - val_loss: 7.1227 - lr: 1.6530e-05\n",
            "Epoch 49/100\n",
            "450/450 [==============================] - ETA: 0s - loss: 8.9190"
          ]
        },
        {
          "name": "stderr",
          "output_type": "stream",
          "text": [
            "[mpeg1video @ 0x7fbfac023980] ac-tex damaged at 22 17\n",
            "[mpeg1video @ 0x7fbfac023980] Warning MVs not available\n"
          ]
        },
        {
          "name": "stdout",
          "output_type": "stream",
          "text": [
            "1/1 [==============================] - 1s 803ms/step\n",
            "Original: lay red at y six please\n",
            "Prediction: lay red at y six please\n",
            "~~~~~~~~~~~~~~~~~~~~~~~~~~~~~~~~~~~~~~~~~~~~~~~~~~~~~~~~~~~~~~~~~~~~~~~~~~~~~~~~~~~~~~~~~~~~~~~~~~~~\n",
            "Original: set blue at t nine again\n",
            "Prediction: set blue at t nine again\n",
            "~~~~~~~~~~~~~~~~~~~~~~~~~~~~~~~~~~~~~~~~~~~~~~~~~~~~~~~~~~~~~~~~~~~~~~~~~~~~~~~~~~~~~~~~~~~~~~~~~~~~\n",
            "450/450 [==============================] - 1745s 4s/step - loss: 8.9190 - val_loss: 8.0738 - lr: 1.4957e-05\n",
            "Epoch 50/100\n",
            "450/450 [==============================] - ETA: 0s - loss: 8.6769"
          ]
        },
        {
          "name": "stderr",
          "output_type": "stream",
          "text": [
            "[mpeg1video @ 0x7fbef809e600] ac-tex damaged at 22 17\n",
            "[mpeg1video @ 0x7fbef809e600] Warning MVs not available\n"
          ]
        },
        {
          "name": "stdout",
          "output_type": "stream",
          "text": [
            "1/1 [==============================] - 1s 791ms/step\n",
            "Original: lay green in z five again\n",
            "Prediction: lay gren in v five again\n",
            "~~~~~~~~~~~~~~~~~~~~~~~~~~~~~~~~~~~~~~~~~~~~~~~~~~~~~~~~~~~~~~~~~~~~~~~~~~~~~~~~~~~~~~~~~~~~~~~~~~~~\n",
            "Original: lay green at f six please\n",
            "Prediction: lay gren at x six please\n",
            "~~~~~~~~~~~~~~~~~~~~~~~~~~~~~~~~~~~~~~~~~~~~~~~~~~~~~~~~~~~~~~~~~~~~~~~~~~~~~~~~~~~~~~~~~~~~~~~~~~~~\n",
            "450/450 [==============================] - 1719s 4s/step - loss: 8.6769 - val_loss: 6.2996 - lr: 1.3534e-05\n",
            "Epoch 51/100\n",
            "209/450 [============>.................] - ETA: 13:14 - loss: 8.6907"
          ]
        },
        {
          "name": "stderr",
          "output_type": "stream",
          "text": [
            "[mpeg1video @ 0x7fbfc00a6400] ac-tex damaged at 22 17\n",
            "[mpeg1video @ 0x7fbfc00a6400] Warning MVs not available\n"
          ]
        },
        {
          "name": "stdout",
          "output_type": "stream",
          "text": [
            "450/450 [==============================] - ETA: 0s - loss: 8.4954"
          ]
        },
        {
          "name": "stderr",
          "output_type": "stream",
          "text": [
            "[mpeg1video @ 0x7fd1700bc240] ac-tex damaged at 22 17\n",
            "[mpeg1video @ 0x7fd1700bc240] Warning MVs not available\n",
            "[mpeg1video @ 0x7fc00c00f600] ac-tex damaged at 22 17\n",
            "[mpeg1video @ 0x7fc00c00f600] Warning MVs not available\n"
          ]
        },
        {
          "name": "stdout",
          "output_type": "stream",
          "text": [
            "1/1 [==============================] - 1s 806ms/step\n",
            "Original: lay green at f six please\n",
            "Prediction: lay gren at x six please\n",
            "~~~~~~~~~~~~~~~~~~~~~~~~~~~~~~~~~~~~~~~~~~~~~~~~~~~~~~~~~~~~~~~~~~~~~~~~~~~~~~~~~~~~~~~~~~~~~~~~~~~~\n",
            "Original: lay red in e one again\n",
            "Prediction: lay red in e one again\n",
            "~~~~~~~~~~~~~~~~~~~~~~~~~~~~~~~~~~~~~~~~~~~~~~~~~~~~~~~~~~~~~~~~~~~~~~~~~~~~~~~~~~~~~~~~~~~~~~~~~~~~\n",
            "450/450 [==============================] - 2004s 4s/step - loss: 8.4954 - val_loss: 6.4707 - lr: 1.2246e-05\n",
            "Epoch 52/100\n",
            "358/450 [======================>.......] - ETA: 4:49 - loss: 7.9283"
          ]
        },
        {
          "name": "stderr",
          "output_type": "stream",
          "text": [
            "[mpeg1video @ 0x7fd6b4065f80] ac-tex damaged at 22 17\n",
            "[mpeg1video @ 0x7fd6b4065f80] Warning MVs not available\n"
          ]
        },
        {
          "name": "stdout",
          "output_type": "stream",
          "text": [
            "450/450 [==============================] - ETA: 0s - loss: 8.0396"
          ]
        },
        {
          "name": "stderr",
          "output_type": "stream",
          "text": [
            "[mpeg1video @ 0x7fbf8c053140] ac-tex damaged at 22 17\n",
            "[mpeg1video @ 0x7fbf8c053140] Warning MVs not available\n"
          ]
        },
        {
          "name": "stdout",
          "output_type": "stream",
          "text": [
            "1/1 [==============================] - 1s 781ms/step\n",
            "Original: bin white by g eight now\n",
            "Prediction: bin white by g eight now\n",
            "~~~~~~~~~~~~~~~~~~~~~~~~~~~~~~~~~~~~~~~~~~~~~~~~~~~~~~~~~~~~~~~~~~~~~~~~~~~~~~~~~~~~~~~~~~~~~~~~~~~~\n",
            "Original: lay blue in x four now\n",
            "Prediction: lay blue in x four now\n",
            "~~~~~~~~~~~~~~~~~~~~~~~~~~~~~~~~~~~~~~~~~~~~~~~~~~~~~~~~~~~~~~~~~~~~~~~~~~~~~~~~~~~~~~~~~~~~~~~~~~~~\n",
            "450/450 [==============================] - 1660s 4s/step - loss: 8.0396 - val_loss: 5.7464 - lr: 1.1080e-05\n",
            "Epoch 53/100\n",
            "411/450 [==========================>...] - ETA: 1:51 - loss: 7.9219"
          ]
        },
        {
          "name": "stderr",
          "output_type": "stream",
          "text": [
            "[mpeg1video @ 0x7fd25406e4c0] ac-tex damaged at 22 17\n",
            "[mpeg1video @ 0x7fd25406e4c0] Warning MVs not available\n"
          ]
        },
        {
          "name": "stdout",
          "output_type": "stream",
          "text": [
            "450/450 [==============================] - ETA: 0s - loss: 7.9937"
          ]
        },
        {
          "name": "stderr",
          "output_type": "stream",
          "text": [
            "[mpeg1video @ 0x7fd324009a40] ac-tex damaged at 22 17\n",
            "[mpeg1video @ 0x7fd324009a40] Warning MVs not available\n"
          ]
        },
        {
          "name": "stdout",
          "output_type": "stream",
          "text": [
            "1/1 [==============================] - 1s 793ms/step\n",
            "Original: set red by i one again\n",
            "Prediction: set red by o one again\n",
            "~~~~~~~~~~~~~~~~~~~~~~~~~~~~~~~~~~~~~~~~~~~~~~~~~~~~~~~~~~~~~~~~~~~~~~~~~~~~~~~~~~~~~~~~~~~~~~~~~~~~\n",
            "Original: set white at v one again\n",
            "Prediction: set white it a ove again\n",
            "~~~~~~~~~~~~~~~~~~~~~~~~~~~~~~~~~~~~~~~~~~~~~~~~~~~~~~~~~~~~~~~~~~~~~~~~~~~~~~~~~~~~~~~~~~~~~~~~~~~~\n",
            "450/450 [==============================] - 1517s 3s/step - loss: 7.9937 - val_loss: 6.5838 - lr: 1.0026e-05\n",
            "Epoch 54/100\n",
            " 11/450 [..............................] - ETA: 20:55 - loss: 7.2928"
          ]
        },
        {
          "name": "stderr",
          "output_type": "stream",
          "text": [
            "[mpeg1video @ 0x7fbee8065840] ac-tex damaged at 22 17\n",
            "[mpeg1video @ 0x7fbee8065840] Warning MVs not available\n"
          ]
        },
        {
          "name": "stdout",
          "output_type": "stream",
          "text": [
            "450/450 [==============================] - ETA: 0s - loss: 7.7307"
          ]
        },
        {
          "name": "stderr",
          "output_type": "stream",
          "text": [
            "[mpeg1video @ 0x7fd7fc044d40] ac-tex damaged at 22 17\n",
            "[mpeg1video @ 0x7fd7fc044d40] Warning MVs not available\n"
          ]
        },
        {
          "name": "stdout",
          "output_type": "stream",
          "text": [
            "1/1 [==============================] - 1s 775ms/step\n",
            "Original: set green at v four now\n",
            "Prediction: set gren at u four now\n",
            "~~~~~~~~~~~~~~~~~~~~~~~~~~~~~~~~~~~~~~~~~~~~~~~~~~~~~~~~~~~~~~~~~~~~~~~~~~~~~~~~~~~~~~~~~~~~~~~~~~~~\n",
            "Original: set white with c seven again\n",
            "Prediction: set white with v seven again\n",
            "~~~~~~~~~~~~~~~~~~~~~~~~~~~~~~~~~~~~~~~~~~~~~~~~~~~~~~~~~~~~~~~~~~~~~~~~~~~~~~~~~~~~~~~~~~~~~~~~~~~~\n",
            "450/450 [==============================] - 1513s 3s/step - loss: 7.7307 - val_loss: 6.6859 - lr: 9.0718e-06\n",
            "Epoch 55/100\n",
            "450/450 [==============================] - ETA: 0s - loss: 7.8457"
          ]
        },
        {
          "name": "stderr",
          "output_type": "stream",
          "text": [
            "[mpeg1video @ 0x7fd46409ebc0] ac-tex damaged at 22 17\n",
            "[mpeg1video @ 0x7fd46409ebc0] Warning MVs not available\n"
          ]
        },
        {
          "name": "stdout",
          "output_type": "stream",
          "text": [
            "1/1 [==============================] - 1s 792ms/step\n",
            "Original: set green in c one again\n",
            "Prediction: set gren in o one again\n",
            "~~~~~~~~~~~~~~~~~~~~~~~~~~~~~~~~~~~~~~~~~~~~~~~~~~~~~~~~~~~~~~~~~~~~~~~~~~~~~~~~~~~~~~~~~~~~~~~~~~~~\n",
            "Original: bin white at a one soon\n",
            "Prediction: bin white at a one son\n",
            "~~~~~~~~~~~~~~~~~~~~~~~~~~~~~~~~~~~~~~~~~~~~~~~~~~~~~~~~~~~~~~~~~~~~~~~~~~~~~~~~~~~~~~~~~~~~~~~~~~~~\n",
            "450/450 [==============================] - 1512s 3s/step - loss: 7.8457 - val_loss: 5.6461 - lr: 8.2085e-06\n",
            "Epoch 56/100\n",
            "392/450 [=========================>....] - ETA: 2:46 - loss: 7.8833"
          ]
        },
        {
          "name": "stderr",
          "output_type": "stream",
          "text": [
            "[mpeg1video @ 0x7fd46c00e840] ac-tex damaged at 22 17\n",
            "[mpeg1video @ 0x7fd46c00e840] Warning MVs not available\n"
          ]
        },
        {
          "name": "stdout",
          "output_type": "stream",
          "text": [
            "450/450 [==============================] - ETA: 0s - loss: 7.8148"
          ]
        },
        {
          "name": "stderr",
          "output_type": "stream",
          "text": [
            "[mpeg1video @ 0x7fd1440a7240] ac-tex damaged at 22 17\n",
            "[mpeg1video @ 0x7fd1440a7240] Warning MVs not available\n"
          ]
        },
        {
          "name": "stdout",
          "output_type": "stream",
          "text": [
            "1/1 [==============================] - 1s 784ms/step\n",
            "Original: set green in o eight please\n",
            "Prediction: set gren in i eight please\n",
            "~~~~~~~~~~~~~~~~~~~~~~~~~~~~~~~~~~~~~~~~~~~~~~~~~~~~~~~~~~~~~~~~~~~~~~~~~~~~~~~~~~~~~~~~~~~~~~~~~~~~\n",
            "Original: bin blue in r six now\n",
            "Prediction: bin blue in r six now\n",
            "~~~~~~~~~~~~~~~~~~~~~~~~~~~~~~~~~~~~~~~~~~~~~~~~~~~~~~~~~~~~~~~~~~~~~~~~~~~~~~~~~~~~~~~~~~~~~~~~~~~~\n",
            "450/450 [==============================] - 1512s 3s/step - loss: 7.8148 - val_loss: 5.7635 - lr: 7.4274e-06\n",
            "Epoch 57/100\n",
            "261/450 [================>.............] - ETA: 9:01 - loss: 7.6582"
          ]
        },
        {
          "name": "stderr",
          "output_type": "stream",
          "text": [
            "[mpeg1video @ 0x7fd16805df40] ac-tex damaged at 22 17\n",
            "[mpeg1video @ 0x7fd16805df40] Warning MVs not available\n"
          ]
        },
        {
          "name": "stdout",
          "output_type": "stream",
          "text": [
            "450/450 [==============================] - ETA: 0s - loss: 7.7297"
          ]
        },
        {
          "name": "stderr",
          "output_type": "stream",
          "text": [
            "[mpeg1video @ 0x7fd6c4046400] ac-tex damaged at 22 17\n",
            "[mpeg1video @ 0x7fd6c4046400] Warning MVs not available\n"
          ]
        },
        {
          "name": "stdout",
          "output_type": "stream",
          "text": [
            "1/1 [==============================] - 1s 777ms/step\n",
            "Original: place blue at o eight now\n",
            "Prediction: place blue at t eight now\n",
            "~~~~~~~~~~~~~~~~~~~~~~~~~~~~~~~~~~~~~~~~~~~~~~~~~~~~~~~~~~~~~~~~~~~~~~~~~~~~~~~~~~~~~~~~~~~~~~~~~~~~\n",
            "Original: bin red at m five again\n",
            "Prediction: bin red at f five again\n",
            "~~~~~~~~~~~~~~~~~~~~~~~~~~~~~~~~~~~~~~~~~~~~~~~~~~~~~~~~~~~~~~~~~~~~~~~~~~~~~~~~~~~~~~~~~~~~~~~~~~~~\n",
            "450/450 [==============================] - 1515s 3s/step - loss: 7.7297 - val_loss: 5.9424 - lr: 6.7206e-06\n",
            "Epoch 58/100\n",
            "367/450 [=======================>......] - ETA: 3:57 - loss: 7.6332"
          ]
        },
        {
          "name": "stderr",
          "output_type": "stream",
          "text": [
            "[mpeg1video @ 0x7fd78401aec0] ac-tex damaged at 22 17\n",
            "[mpeg1video @ 0x7fd78401aec0] Warning MVs not available\n"
          ]
        },
        {
          "name": "stdout",
          "output_type": "stream",
          "text": [
            "450/450 [==============================] - ETA: 0s - loss: 7.5326"
          ]
        },
        {
          "name": "stderr",
          "output_type": "stream",
          "text": [
            "[mpeg1video @ 0x7fbefc094dc0] ac-tex damaged at 22 17\n",
            "[mpeg1video @ 0x7fbefc094dc0] Warning MVs not available\n"
          ]
        },
        {
          "name": "stdout",
          "output_type": "stream",
          "text": [
            "1/1 [==============================] - 1s 786ms/step\n",
            "Original: bin blue in l two now\n",
            "Prediction: bin blue in l two now\n",
            "~~~~~~~~~~~~~~~~~~~~~~~~~~~~~~~~~~~~~~~~~~~~~~~~~~~~~~~~~~~~~~~~~~~~~~~~~~~~~~~~~~~~~~~~~~~~~~~~~~~~\n",
            "Original: place red by p eight now\n",
            "Prediction: place red by p eight now\n",
            "~~~~~~~~~~~~~~~~~~~~~~~~~~~~~~~~~~~~~~~~~~~~~~~~~~~~~~~~~~~~~~~~~~~~~~~~~~~~~~~~~~~~~~~~~~~~~~~~~~~~\n",
            "450/450 [==============================] - 1509s 3s/step - loss: 7.5326 - val_loss: 5.3448 - lr: 6.0810e-06\n",
            "Epoch 59/100\n",
            "450/450 [==============================] - ETA: 0s - loss: 7.5029"
          ]
        },
        {
          "name": "stderr",
          "output_type": "stream",
          "text": [
            "[mpeg1video @ 0x7fc02c008840] ac-tex damaged at 22 17\n",
            "[mpeg1video @ 0x7fc02c008840] Warning MVs not available\n"
          ]
        },
        {
          "name": "stdout",
          "output_type": "stream",
          "text": [
            "1/1 [==============================] - 1s 778ms/step\n",
            "Original: lay red with z three soon\n",
            "Prediction: lay red with h thre son\n",
            "~~~~~~~~~~~~~~~~~~~~~~~~~~~~~~~~~~~~~~~~~~~~~~~~~~~~~~~~~~~~~~~~~~~~~~~~~~~~~~~~~~~~~~~~~~~~~~~~~~~~\n",
            "Original: place blue at p zero please\n",
            "Prediction: place blue at k zer please\n",
            "~~~~~~~~~~~~~~~~~~~~~~~~~~~~~~~~~~~~~~~~~~~~~~~~~~~~~~~~~~~~~~~~~~~~~~~~~~~~~~~~~~~~~~~~~~~~~~~~~~~~\n",
            "450/450 [==============================] - 1503s 3s/step - loss: 7.5029 - val_loss: 6.4684 - lr: 5.5023e-06\n",
            "Epoch 60/100\n",
            "450/450 [==============================] - ETA: 0s - loss: 7.4482"
          ]
        },
        {
          "name": "stderr",
          "output_type": "stream",
          "text": [
            "[mpeg1video @ 0x7fd89809ae40] ac-tex damaged at 22 17\n",
            "[mpeg1video @ 0x7fd89809ae40] Warning MVs not available\n"
          ]
        },
        {
          "name": "stdout",
          "output_type": "stream",
          "text": [
            "1/1 [==============================] - 1s 785ms/step\n",
            "Original: place white in x two please\n",
            "Prediction: place white it z two please\n",
            "~~~~~~~~~~~~~~~~~~~~~~~~~~~~~~~~~~~~~~~~~~~~~~~~~~~~~~~~~~~~~~~~~~~~~~~~~~~~~~~~~~~~~~~~~~~~~~~~~~~~\n",
            "Original: set blue in t two now\n",
            "Prediction: set blue at o two now\n",
            "~~~~~~~~~~~~~~~~~~~~~~~~~~~~~~~~~~~~~~~~~~~~~~~~~~~~~~~~~~~~~~~~~~~~~~~~~~~~~~~~~~~~~~~~~~~~~~~~~~~~\n",
            "450/450 [==============================] - 1513s 3s/step - loss: 7.4482 - val_loss: 5.6614 - lr: 4.9787e-06\n",
            "Epoch 61/100\n",
            "450/450 [==============================] - ETA: 0s - loss: 7.4473"
          ]
        },
        {
          "name": "stderr",
          "output_type": "stream",
          "text": [
            "[mpeg1video @ 0x7fbfa00af040] ac-tex damaged at 22 17\n",
            "[mpeg1video @ 0x7fbfa00af040] Warning MVs not available\n"
          ]
        },
        {
          "name": "stdout",
          "output_type": "stream",
          "text": [
            "1/1 [==============================] - 1s 769ms/step\n",
            "Original: bin red in f seven again\n",
            "Prediction: bin red in n seven again\n",
            "~~~~~~~~~~~~~~~~~~~~~~~~~~~~~~~~~~~~~~~~~~~~~~~~~~~~~~~~~~~~~~~~~~~~~~~~~~~~~~~~~~~~~~~~~~~~~~~~~~~~\n",
            "Original: bin white by a six please\n",
            "Prediction: bin white by a six please\n",
            "~~~~~~~~~~~~~~~~~~~~~~~~~~~~~~~~~~~~~~~~~~~~~~~~~~~~~~~~~~~~~~~~~~~~~~~~~~~~~~~~~~~~~~~~~~~~~~~~~~~~\n",
            "450/450 [==============================] - 1512s 3s/step - loss: 7.4473 - val_loss: 5.9982 - lr: 4.5049e-06\n",
            "Epoch 62/100\n",
            "176/450 [==========>...................] - ETA: 13:04 - loss: 7.5547"
          ]
        },
        {
          "name": "stderr",
          "output_type": "stream",
          "text": [
            "[mpeg1video @ 0x7fd6d003e900] ac-tex damaged at 22 17\n",
            "[mpeg1video @ 0x7fd6d003e900] Warning MVs not available\n"
          ]
        },
        {
          "name": "stdout",
          "output_type": "stream",
          "text": [
            "450/450 [==============================] - ETA: 0s - loss: 7.5313"
          ]
        },
        {
          "name": "stderr",
          "output_type": "stream",
          "text": [
            "[mpeg1video @ 0x7fd4f402f3c0] ac-tex damaged at 22 17\n",
            "[mpeg1video @ 0x7fd4f402f3c0] Warning MVs not available\n"
          ]
        },
        {
          "name": "stdout",
          "output_type": "stream",
          "text": [
            "1/1 [==============================] - 1s 769ms/step\n",
            "Original: bin red with t six please\n",
            "Prediction: bin red with x six please\n",
            "~~~~~~~~~~~~~~~~~~~~~~~~~~~~~~~~~~~~~~~~~~~~~~~~~~~~~~~~~~~~~~~~~~~~~~~~~~~~~~~~~~~~~~~~~~~~~~~~~~~~\n",
            "Original: bin red with t five soon\n",
            "Prediction: bin red with t five son\n",
            "~~~~~~~~~~~~~~~~~~~~~~~~~~~~~~~~~~~~~~~~~~~~~~~~~~~~~~~~~~~~~~~~~~~~~~~~~~~~~~~~~~~~~~~~~~~~~~~~~~~~\n",
            "450/450 [==============================] - 1511s 3s/step - loss: 7.5313 - val_loss: 5.3279 - lr: 4.0762e-06\n",
            "Epoch 63/100\n",
            "385/450 [========================>.....] - ETA: 3:06 - loss: 7.2923"
          ]
        },
        {
          "name": "stderr",
          "output_type": "stream",
          "text": [
            "[mpeg1video @ 0x7fbfc807fb40] ac-tex damaged at 22 17\n",
            "[mpeg1video @ 0x7fbfc807fb40] Warning MVs not available\n"
          ]
        },
        {
          "name": "stdout",
          "output_type": "stream",
          "text": [
            "450/450 [==============================] - ETA: 0s - loss: 7.2896"
          ]
        },
        {
          "name": "stderr",
          "output_type": "stream",
          "text": [
            "[mpeg1video @ 0x7fd7a0081600] ac-tex damaged at 22 17\n",
            "[mpeg1video @ 0x7fd7a0081600] Warning MVs not available\n"
          ]
        },
        {
          "name": "stdout",
          "output_type": "stream",
          "text": [
            "1/1 [==============================] - 1s 771ms/step\n",
            "Original: bin green with i zero please\n",
            "Prediction: bin gren with g zero please\n",
            "~~~~~~~~~~~~~~~~~~~~~~~~~~~~~~~~~~~~~~~~~~~~~~~~~~~~~~~~~~~~~~~~~~~~~~~~~~~~~~~~~~~~~~~~~~~~~~~~~~~~\n",
            "Original: lay blue by y two now\n",
            "Prediction: lay blue by y two now\n",
            "~~~~~~~~~~~~~~~~~~~~~~~~~~~~~~~~~~~~~~~~~~~~~~~~~~~~~~~~~~~~~~~~~~~~~~~~~~~~~~~~~~~~~~~~~~~~~~~~~~~~\n",
            "450/450 [==============================] - 1514s 3s/step - loss: 7.2896 - val_loss: 6.6654 - lr: 3.6883e-06\n",
            "Epoch 64/100\n",
            "115/450 [======>.......................] - ETA: 16:00 - loss: 7.1014"
          ]
        },
        {
          "name": "stderr",
          "output_type": "stream",
          "text": [
            "[mpeg1video @ 0x7fd800042b40] ac-tex damaged at 22 17\n",
            "[mpeg1video @ 0x7fd800042b40] Warning MVs not available\n"
          ]
        },
        {
          "name": "stdout",
          "output_type": "stream",
          "text": [
            "450/450 [==============================] - ETA: 0s - loss: 7.2233"
          ]
        },
        {
          "name": "stderr",
          "output_type": "stream",
          "text": [
            "[mpeg1video @ 0x7fbf1c038500] ac-tex damaged at 22 17\n",
            "[mpeg1video @ 0x7fbf1c038500] Warning MVs not available\n"
          ]
        },
        {
          "name": "stdout",
          "output_type": "stream",
          "text": [
            "1/1 [==============================] - 1s 785ms/step\n",
            "Original: set red with b eight now\n",
            "Prediction: set red with b eight now\n",
            "~~~~~~~~~~~~~~~~~~~~~~~~~~~~~~~~~~~~~~~~~~~~~~~~~~~~~~~~~~~~~~~~~~~~~~~~~~~~~~~~~~~~~~~~~~~~~~~~~~~~\n",
            "Original: lay green at s two now\n",
            "Prediction: lay gren at d two now\n",
            "~~~~~~~~~~~~~~~~~~~~~~~~~~~~~~~~~~~~~~~~~~~~~~~~~~~~~~~~~~~~~~~~~~~~~~~~~~~~~~~~~~~~~~~~~~~~~~~~~~~~\n",
            "450/450 [==============================] - 1520s 3s/step - loss: 7.2233 - val_loss: 5.7449 - lr: 3.3373e-06\n",
            "Epoch 65/100\n",
            " 21/450 [>.............................] - ETA: 20:27 - loss: 7.2253"
          ]
        },
        {
          "name": "stderr",
          "output_type": "stream",
          "text": [
            "[mpeg1video @ 0x7fd3400247c0] ac-tex damaged at 22 17\n",
            "[mpeg1video @ 0x7fd3400247c0] Warning MVs not available\n"
          ]
        },
        {
          "name": "stdout",
          "output_type": "stream",
          "text": [
            "450/450 [==============================] - ETA: 0s - loss: 6.9972"
          ]
        },
        {
          "name": "stderr",
          "output_type": "stream",
          "text": [
            "[mpeg1video @ 0x7fd1400a5d40] ac-tex damaged at 22 17\n",
            "[mpeg1video @ 0x7fd1400a5d40] Warning MVs not available\n"
          ]
        },
        {
          "name": "stdout",
          "output_type": "stream",
          "text": [
            "1/1 [==============================] - 1s 778ms/step\n",
            "Original: set white at b seven soon\n",
            "Prediction: set white at b seve son\n",
            "~~~~~~~~~~~~~~~~~~~~~~~~~~~~~~~~~~~~~~~~~~~~~~~~~~~~~~~~~~~~~~~~~~~~~~~~~~~~~~~~~~~~~~~~~~~~~~~~~~~~\n",
            "Original: lay red at e three soon\n",
            "Prediction: lay red ith e thre son\n",
            "~~~~~~~~~~~~~~~~~~~~~~~~~~~~~~~~~~~~~~~~~~~~~~~~~~~~~~~~~~~~~~~~~~~~~~~~~~~~~~~~~~~~~~~~~~~~~~~~~~~~\n",
            "450/450 [==============================] - 1516s 3s/step - loss: 6.9972 - val_loss: 5.2239 - lr: 3.0197e-06\n",
            "Epoch 66/100\n",
            "245/450 [===============>..............] - ETA: 9:47 - loss: 7.1889"
          ]
        },
        {
          "name": "stderr",
          "output_type": "stream",
          "text": [
            "[mpeg1video @ 0x7fd14c0e8240] ac-tex damaged at 22 17\n",
            "[mpeg1video @ 0x7fd14c0e8240] Warning MVs not available\n"
          ]
        },
        {
          "name": "stdout",
          "output_type": "stream",
          "text": [
            "450/450 [==============================] - ETA: 0s - loss: 7.1973"
          ]
        },
        {
          "name": "stderr",
          "output_type": "stream",
          "text": [
            "[mpeg1video @ 0x7fd84c04a6c0] ac-tex damaged at 22 17\n",
            "[mpeg1video @ 0x7fd84c04a6c0] Warning MVs not available\n"
          ]
        },
        {
          "name": "stdout",
          "output_type": "stream",
          "text": [
            "1/1 [==============================] - 1s 782ms/step\n",
            "Original: set red at h four now\n",
            "Prediction: set red at r four now\n",
            "~~~~~~~~~~~~~~~~~~~~~~~~~~~~~~~~~~~~~~~~~~~~~~~~~~~~~~~~~~~~~~~~~~~~~~~~~~~~~~~~~~~~~~~~~~~~~~~~~~~~\n",
            "Original: lay white at l two now\n",
            "Prediction: lay white at l two now\n",
            "~~~~~~~~~~~~~~~~~~~~~~~~~~~~~~~~~~~~~~~~~~~~~~~~~~~~~~~~~~~~~~~~~~~~~~~~~~~~~~~~~~~~~~~~~~~~~~~~~~~~\n",
            "450/450 [==============================] - 1518s 3s/step - loss: 7.1973 - val_loss: 5.7117 - lr: 2.7324e-06\n",
            "Epoch 67/100\n",
            "402/450 [=========================>....] - ETA: 2:17 - loss: 7.2274"
          ]
        },
        {
          "name": "stderr",
          "output_type": "stream",
          "text": [
            "[mpeg1video @ 0x7fd84005e5c0] ac-tex damaged at 22 17\n",
            "[mpeg1video @ 0x7fd84005e5c0] Warning MVs not available\n"
          ]
        },
        {
          "name": "stdout",
          "output_type": "stream",
          "text": [
            "450/450 [==============================] - ETA: 0s - loss: 7.1952"
          ]
        },
        {
          "name": "stderr",
          "output_type": "stream",
          "text": [
            "[mpeg1video @ 0x7fbf10016f80] ac-tex damaged at 22 17\n",
            "[mpeg1video @ 0x7fbf10016f80] Warning MVs not available\n"
          ]
        },
        {
          "name": "stdout",
          "output_type": "stream",
          "text": [
            "1/1 [==============================] - 1s 811ms/step\n",
            "Original: lay green with t three again\n",
            "Prediction: lay gren with h thre again\n",
            "~~~~~~~~~~~~~~~~~~~~~~~~~~~~~~~~~~~~~~~~~~~~~~~~~~~~~~~~~~~~~~~~~~~~~~~~~~~~~~~~~~~~~~~~~~~~~~~~~~~~\n",
            "Original: bin red by a one again\n",
            "Prediction: bin red by b one again\n",
            "~~~~~~~~~~~~~~~~~~~~~~~~~~~~~~~~~~~~~~~~~~~~~~~~~~~~~~~~~~~~~~~~~~~~~~~~~~~~~~~~~~~~~~~~~~~~~~~~~~~~\n",
            "450/450 [==============================] - 1516s 3s/step - loss: 7.1952 - val_loss: 5.3967 - lr: 2.4724e-06\n",
            "Epoch 68/100\n",
            "164/450 [=========>....................] - ETA: 13:41 - loss: 7.0355"
          ]
        },
        {
          "name": "stderr",
          "output_type": "stream",
          "text": [
            "[mpeg1video @ 0x7fd30405d840] ac-tex damaged at 22 17\n",
            "[mpeg1video @ 0x7fd30405d840] Warning MVs not available\n"
          ]
        },
        {
          "name": "stdout",
          "output_type": "stream",
          "text": [
            "450/450 [==============================] - ETA: 0s - loss: 7.1113"
          ]
        },
        {
          "name": "stderr",
          "output_type": "stream",
          "text": [
            "[mpeg1video @ 0x7fbef40721c0] ac-tex damaged at 22 17\n",
            "[mpeg1video @ 0x7fbef40721c0] Warning MVs not available\n"
          ]
        },
        {
          "name": "stdout",
          "output_type": "stream",
          "text": [
            "1/1 [==============================] - 1s 780ms/step\n",
            "Original: lay blue at y one again\n",
            "Prediction: lay blue at y one again\n",
            "~~~~~~~~~~~~~~~~~~~~~~~~~~~~~~~~~~~~~~~~~~~~~~~~~~~~~~~~~~~~~~~~~~~~~~~~~~~~~~~~~~~~~~~~~~~~~~~~~~~~\n",
            "Original: place green in q three soon\n",
            "Prediction: place gren in q thre son\n",
            "~~~~~~~~~~~~~~~~~~~~~~~~~~~~~~~~~~~~~~~~~~~~~~~~~~~~~~~~~~~~~~~~~~~~~~~~~~~~~~~~~~~~~~~~~~~~~~~~~~~~\n",
            "450/450 [==============================] - 1525s 3s/step - loss: 7.1113 - val_loss: 5.2424 - lr: 2.2371e-06\n",
            "Epoch 69/100\n",
            "218/450 [=============>................] - ETA: 11:05 - loss: 7.4381"
          ]
        },
        {
          "name": "stderr",
          "output_type": "stream",
          "text": [
            "[mpeg1video @ 0x7fd160077cc0] ac-tex damaged at 22 17\n",
            "[mpeg1video @ 0x7fd160077cc0] Warning MVs not available\n"
          ]
        },
        {
          "name": "stdout",
          "output_type": "stream",
          "text": [
            "450/450 [==============================] - ETA: 0s - loss: 7.2236"
          ]
        },
        {
          "name": "stderr",
          "output_type": "stream",
          "text": [
            "[mpeg1video @ 0x7fd78803e000] ac-tex damaged at 22 17\n",
            "[mpeg1video @ 0x7fd78803e000] Warning MVs not available\n"
          ]
        },
        {
          "name": "stdout",
          "output_type": "stream",
          "text": [
            "1/1 [==============================] - 1s 775ms/step\n",
            "Original: lay blue by r one again\n",
            "Prediction: lay blue by l one again\n",
            "~~~~~~~~~~~~~~~~~~~~~~~~~~~~~~~~~~~~~~~~~~~~~~~~~~~~~~~~~~~~~~~~~~~~~~~~~~~~~~~~~~~~~~~~~~~~~~~~~~~~\n",
            "Original: lay green with a one again\n",
            "Prediction: lay gren with o one again\n",
            "~~~~~~~~~~~~~~~~~~~~~~~~~~~~~~~~~~~~~~~~~~~~~~~~~~~~~~~~~~~~~~~~~~~~~~~~~~~~~~~~~~~~~~~~~~~~~~~~~~~~\n",
            "450/450 [==============================] - 1515s 3s/step - loss: 7.2236 - val_loss: 4.9486 - lr: 2.0242e-06\n",
            "Epoch 70/100\n",
            "366/450 [=======================>......] - ETA: 4:00 - loss: 7.0595"
          ]
        },
        {
          "name": "stderr",
          "output_type": "stream",
          "text": [
            "[mpeg1video @ 0x7fd6bc093700] ac-tex damaged at 22 17\n",
            "[mpeg1video @ 0x7fd6bc093700] Warning MVs not available\n"
          ]
        },
        {
          "name": "stdout",
          "output_type": "stream",
          "text": [
            "450/450 [==============================] - ETA: 0s - loss: 7.0502"
          ]
        },
        {
          "name": "stderr",
          "output_type": "stream",
          "text": [
            "[mpeg1video @ 0x7fbf30018c40] ac-tex damaged at 22 17\n",
            "[mpeg1video @ 0x7fbf30018c40] Warning MVs not available\n"
          ]
        },
        {
          "name": "stdout",
          "output_type": "stream",
          "text": [
            "1/1 [==============================] - 1s 792ms/step\n",
            "Original: place green with r six please\n",
            "Prediction: place gre with r six please\n",
            "~~~~~~~~~~~~~~~~~~~~~~~~~~~~~~~~~~~~~~~~~~~~~~~~~~~~~~~~~~~~~~~~~~~~~~~~~~~~~~~~~~~~~~~~~~~~~~~~~~~~\n",
            "Original: place white at q three again\n",
            "Prediction: place white at r ethre again\n",
            "~~~~~~~~~~~~~~~~~~~~~~~~~~~~~~~~~~~~~~~~~~~~~~~~~~~~~~~~~~~~~~~~~~~~~~~~~~~~~~~~~~~~~~~~~~~~~~~~~~~~\n",
            "450/450 [==============================] - 1517s 3s/step - loss: 7.0502 - val_loss: 5.4659 - lr: 1.8316e-06\n",
            "Epoch 71/100\n",
            "305/450 [===================>..........] - ETA: 6:54 - loss: 7.0682"
          ]
        },
        {
          "name": "stderr",
          "output_type": "stream",
          "text": [
            "[mpeg1video @ 0x7fd208010b80] ac-tex damaged at 22 17\n",
            "[mpeg1video @ 0x7fd208010b80] Warning MVs not available\n"
          ]
        },
        {
          "name": "stdout",
          "output_type": "stream",
          "text": [
            "450/450 [==============================] - ETA: 0s - loss: 7.0600"
          ]
        },
        {
          "name": "stderr",
          "output_type": "stream",
          "text": [
            "[mpeg1video @ 0x7fbfb8030880] ac-tex damaged at 22 17\n",
            "[mpeg1video @ 0x7fbfb8030880] Warning MVs not available\n"
          ]
        },
        {
          "name": "stdout",
          "output_type": "stream",
          "text": [
            "1/1 [==============================] - 1s 798ms/step\n",
            "Original: set blue with o two please\n",
            "Prediction: set blue with o two please\n",
            "~~~~~~~~~~~~~~~~~~~~~~~~~~~~~~~~~~~~~~~~~~~~~~~~~~~~~~~~~~~~~~~~~~~~~~~~~~~~~~~~~~~~~~~~~~~~~~~~~~~~\n",
            "Original: lay green in f two please\n",
            "Prediction: lay gren in y two please\n",
            "~~~~~~~~~~~~~~~~~~~~~~~~~~~~~~~~~~~~~~~~~~~~~~~~~~~~~~~~~~~~~~~~~~~~~~~~~~~~~~~~~~~~~~~~~~~~~~~~~~~~\n",
            "450/450 [==============================] - 1511s 3s/step - loss: 7.0600 - val_loss: 5.1488 - lr: 1.6573e-06\n",
            "Epoch 72/100\n",
            "131/450 [=======>......................] - ETA: 15:13 - loss: 6.8879"
          ]
        },
        {
          "name": "stderr",
          "output_type": "stream",
          "text": [
            "[mpeg1video @ 0x7fc02c10c280] ac-tex damaged at 22 17\n",
            "[mpeg1video @ 0x7fc02c10c280] Warning MVs not available\n"
          ]
        },
        {
          "name": "stdout",
          "output_type": "stream",
          "text": [
            "450/450 [==============================] - ETA: 0s - loss: 7.0757"
          ]
        },
        {
          "name": "stderr",
          "output_type": "stream",
          "text": [
            "[mpeg1video @ 0x7fd85c0092c0] ac-tex damaged at 22 17\n",
            "[mpeg1video @ 0x7fd85c0092c0] Warning MVs not available\n"
          ]
        },
        {
          "name": "stdout",
          "output_type": "stream",
          "text": [
            "1/1 [==============================] - 1s 785ms/step\n",
            "Original: set red with o nine again\n",
            "Prediction: set red with o nine again\n",
            "~~~~~~~~~~~~~~~~~~~~~~~~~~~~~~~~~~~~~~~~~~~~~~~~~~~~~~~~~~~~~~~~~~~~~~~~~~~~~~~~~~~~~~~~~~~~~~~~~~~~\n",
            "Original: bin blue in z three again\n",
            "Prediction: bin blue in g thre again\n",
            "~~~~~~~~~~~~~~~~~~~~~~~~~~~~~~~~~~~~~~~~~~~~~~~~~~~~~~~~~~~~~~~~~~~~~~~~~~~~~~~~~~~~~~~~~~~~~~~~~~~~\n",
            "450/450 [==============================] - 1512s 3s/step - loss: 7.0757 - val_loss: 6.4758 - lr: 1.4996e-06\n",
            "Epoch 73/100\n",
            " 39/450 [=>............................] - ETA: 19:37 - loss: 7.7261"
          ]
        },
        {
          "name": "stderr",
          "output_type": "stream",
          "text": [
            "[mpeg1video @ 0x7fd3bc059ac0] ac-tex damaged at 22 17\n",
            "[mpeg1video @ 0x7fd3bc059ac0] Warning MVs not available\n"
          ]
        },
        {
          "name": "stdout",
          "output_type": "stream",
          "text": [
            "450/450 [==============================] - ETA: 0s - loss: 7.1118"
          ]
        },
        {
          "name": "stderr",
          "output_type": "stream",
          "text": [
            "[mpeg1video @ 0x7fbe58076c80] ac-tex damaged at 22 17\n",
            "[mpeg1video @ 0x7fbe58076c80] Warning MVs not available\n"
          ]
        },
        {
          "name": "stdout",
          "output_type": "stream",
          "text": [
            "1/1 [==============================] - 1s 781ms/step\n",
            "Original: bin white at a three again\n",
            "Prediction: bin white at a thre again\n",
            "~~~~~~~~~~~~~~~~~~~~~~~~~~~~~~~~~~~~~~~~~~~~~~~~~~~~~~~~~~~~~~~~~~~~~~~~~~~~~~~~~~~~~~~~~~~~~~~~~~~~\n",
            "Original: place white with k seven again\n",
            "Prediction: place white with k seven again\n",
            "~~~~~~~~~~~~~~~~~~~~~~~~~~~~~~~~~~~~~~~~~~~~~~~~~~~~~~~~~~~~~~~~~~~~~~~~~~~~~~~~~~~~~~~~~~~~~~~~~~~~\n",
            "450/450 [==============================] - 1522s 3s/step - loss: 7.1118 - val_loss: 5.4031 - lr: 1.3569e-06\n",
            "Epoch 74/100\n",
            " 23/450 [>.............................] - ETA: 20:22 - loss: 5.8565"
          ]
        },
        {
          "name": "stderr",
          "output_type": "stream",
          "text": [
            "[mpeg1video @ 0x7fd73c06ac40] ac-tex damaged at 22 17\n",
            "[mpeg1video @ 0x7fd73c06ac40] Warning MVs not available\n"
          ]
        },
        {
          "name": "stdout",
          "output_type": "stream",
          "text": [
            "450/450 [==============================] - ETA: 0s - loss: 6.8154"
          ]
        },
        {
          "name": "stderr",
          "output_type": "stream",
          "text": [
            "[mpeg1video @ 0x7fd7900b41c0] ac-tex damaged at 22 17\n",
            "[mpeg1video @ 0x7fd7900b41c0] Warning MVs not available\n"
          ]
        },
        {
          "name": "stdout",
          "output_type": "stream",
          "text": [
            "1/1 [==============================] - 1s 771ms/step\n",
            "Original: lay white with m two please\n",
            "Prediction: lay white with h two please\n",
            "~~~~~~~~~~~~~~~~~~~~~~~~~~~~~~~~~~~~~~~~~~~~~~~~~~~~~~~~~~~~~~~~~~~~~~~~~~~~~~~~~~~~~~~~~~~~~~~~~~~~\n",
            "Original: lay green in f one soon\n",
            "Prediction: lay gren in o one son\n",
            "~~~~~~~~~~~~~~~~~~~~~~~~~~~~~~~~~~~~~~~~~~~~~~~~~~~~~~~~~~~~~~~~~~~~~~~~~~~~~~~~~~~~~~~~~~~~~~~~~~~~\n",
            "450/450 [==============================] - 1522s 3s/step - loss: 6.8154 - val_loss: 5.3468 - lr: 1.2277e-06\n",
            "Epoch 75/100\n",
            "312/450 [===================>..........] - ETA: 6:35 - loss: 6.9986"
          ]
        },
        {
          "name": "stderr",
          "output_type": "stream",
          "text": [
            "[mpeg1video @ 0x7fbe30071980] ac-tex damaged at 22 17\n",
            "[mpeg1video @ 0x7fbe30071980] Warning MVs not available\n"
          ]
        },
        {
          "name": "stdout",
          "output_type": "stream",
          "text": [
            "450/450 [==============================] - ETA: 0s - loss: 7.0295"
          ]
        },
        {
          "name": "stderr",
          "output_type": "stream",
          "text": [
            "[mpeg1video @ 0x7fd3d002dd00] ac-tex damaged at 22 17\n",
            "[mpeg1video @ 0x7fd3d002dd00] Warning MVs not available\n"
          ]
        },
        {
          "name": "stdout",
          "output_type": "stream",
          "text": [
            "1/1 [==============================] - 1s 782ms/step\n",
            "Original: lay red by r four now\n",
            "Prediction: lay red by r four now\n",
            "~~~~~~~~~~~~~~~~~~~~~~~~~~~~~~~~~~~~~~~~~~~~~~~~~~~~~~~~~~~~~~~~~~~~~~~~~~~~~~~~~~~~~~~~~~~~~~~~~~~~\n",
            "Original: set blue by a nine soon\n",
            "Prediction: set blue by a ninen son\n",
            "~~~~~~~~~~~~~~~~~~~~~~~~~~~~~~~~~~~~~~~~~~~~~~~~~~~~~~~~~~~~~~~~~~~~~~~~~~~~~~~~~~~~~~~~~~~~~~~~~~~~\n",
            "450/450 [==============================] - 1513s 3s/step - loss: 7.0295 - val_loss: 5.0404 - lr: 1.1109e-06\n",
            "Epoch 76/100\n",
            " 82/450 [====>.........................] - ETA: 17:35 - loss: 7.4787"
          ]
        },
        {
          "name": "stderr",
          "output_type": "stream",
          "text": [
            "[mpeg1video @ 0x7fd6e4013e80] ac-tex damaged at 22 17\n",
            "[mpeg1video @ 0x7fd6e4013e80] Warning MVs not available\n"
          ]
        },
        {
          "name": "stdout",
          "output_type": "stream",
          "text": [
            "450/450 [==============================] - ETA: 0s - loss: 7.1090"
          ]
        },
        {
          "name": "stderr",
          "output_type": "stream",
          "text": [
            "[mpeg1video @ 0x7fd278097f40] ac-tex damaged at 22 17\n",
            "[mpeg1video @ 0x7fd278097f40] Warning MVs not available\n"
          ]
        },
        {
          "name": "stdout",
          "output_type": "stream",
          "text": [
            "1/1 [==============================] - 1s 791ms/step\n",
            "Original: lay red at y six please\n",
            "Prediction: lay red at y six please\n",
            "~~~~~~~~~~~~~~~~~~~~~~~~~~~~~~~~~~~~~~~~~~~~~~~~~~~~~~~~~~~~~~~~~~~~~~~~~~~~~~~~~~~~~~~~~~~~~~~~~~~~\n",
            "Original: place red in v four now\n",
            "Prediction: place red in f four now\n",
            "~~~~~~~~~~~~~~~~~~~~~~~~~~~~~~~~~~~~~~~~~~~~~~~~~~~~~~~~~~~~~~~~~~~~~~~~~~~~~~~~~~~~~~~~~~~~~~~~~~~~\n",
            "450/450 [==============================] - 1525s 3s/step - loss: 7.1090 - val_loss: 5.9582 - lr: 1.0052e-06\n",
            "Epoch 77/100\n",
            "302/450 [===================>..........] - ETA: 7:04 - loss: 7.3468"
          ]
        },
        {
          "name": "stderr",
          "output_type": "stream",
          "text": [
            "[mpeg1video @ 0x7fd15401ef40] ac-tex damaged at 22 17\n",
            "[mpeg1video @ 0x7fd15401ef40] Warning MVs not available\n"
          ]
        },
        {
          "name": "stdout",
          "output_type": "stream",
          "text": [
            "450/450 [==============================] - ETA: 0s - loss: 7.1426"
          ]
        },
        {
          "name": "stderr",
          "output_type": "stream",
          "text": [
            "[mpeg1video @ 0x7fd70803c880] ac-tex damaged at 22 17\n",
            "[mpeg1video @ 0x7fd70803c880] Warning MVs not available\n"
          ]
        },
        {
          "name": "stdout",
          "output_type": "stream",
          "text": [
            "1/1 [==============================] - 1s 773ms/step\n",
            "Original: set red with v one soon\n",
            "Prediction: set red with o one son\n",
            "~~~~~~~~~~~~~~~~~~~~~~~~~~~~~~~~~~~~~~~~~~~~~~~~~~~~~~~~~~~~~~~~~~~~~~~~~~~~~~~~~~~~~~~~~~~~~~~~~~~~\n",
            "Original: set green at i six now\n",
            "Prediction: set gren at i six now\n",
            "~~~~~~~~~~~~~~~~~~~~~~~~~~~~~~~~~~~~~~~~~~~~~~~~~~~~~~~~~~~~~~~~~~~~~~~~~~~~~~~~~~~~~~~~~~~~~~~~~~~~\n",
            "450/450 [==============================] - 1510s 3s/step - loss: 7.1426 - val_loss: 5.2846 - lr: 9.0953e-07\n",
            "Epoch 78/100\n",
            "354/450 [======================>.......] - ETA: 4:35 - loss: 6.9102"
          ]
        },
        {
          "name": "stderr",
          "output_type": "stream",
          "text": [
            "[mpeg1video @ 0x7fd2a40fedc0] ac-tex damaged at 22 17\n",
            "[mpeg1video @ 0x7fd2a40fedc0] Warning MVs not available\n"
          ]
        },
        {
          "name": "stdout",
          "output_type": "stream",
          "text": [
            "450/450 [==============================] - ETA: 0s - loss: 6.9782"
          ]
        },
        {
          "name": "stderr",
          "output_type": "stream",
          "text": [
            "[mpeg1video @ 0x7fd3f402e240] ac-tex damaged at 22 17\n",
            "[mpeg1video @ 0x7fd3f402e240] Warning MVs not available\n"
          ]
        },
        {
          "name": "stdout",
          "output_type": "stream",
          "text": [
            "1/1 [==============================] - 1s 787ms/step\n",
            "Original: place green in k one again\n",
            "Prediction: place gren in d one again\n",
            "~~~~~~~~~~~~~~~~~~~~~~~~~~~~~~~~~~~~~~~~~~~~~~~~~~~~~~~~~~~~~~~~~~~~~~~~~~~~~~~~~~~~~~~~~~~~~~~~~~~~\n",
            "Original: lay white by l nine again\n",
            "Prediction: lay white by l nine again\n",
            "~~~~~~~~~~~~~~~~~~~~~~~~~~~~~~~~~~~~~~~~~~~~~~~~~~~~~~~~~~~~~~~~~~~~~~~~~~~~~~~~~~~~~~~~~~~~~~~~~~~~\n",
            "450/450 [==============================] - 1522s 3s/step - loss: 6.9782 - val_loss: 5.6710 - lr: 8.2298e-07\n",
            "Epoch 79/100\n",
            "108/450 [======>.......................] - ETA: 16:19 - loss: 6.2705"
          ]
        },
        {
          "name": "stderr",
          "output_type": "stream",
          "text": [
            "[mpeg1video @ 0x7fd1c8020d40] ac-tex damaged at 22 17\n",
            "[mpeg1video @ 0x7fd1c8020d40] Warning MVs not available\n"
          ]
        },
        {
          "name": "stdout",
          "output_type": "stream",
          "text": [
            "450/450 [==============================] - ETA: 0s - loss: 6.9051"
          ]
        },
        {
          "name": "stderr",
          "output_type": "stream",
          "text": [
            "[mpeg1video @ 0x7fbe7c084e00] ac-tex damaged at 22 17\n",
            "[mpeg1video @ 0x7fbe7c084e00] Warning MVs not available\n"
          ]
        },
        {
          "name": "stdout",
          "output_type": "stream",
          "text": [
            "1/1 [==============================] - 1s 777ms/step\n",
            "Original: bin green at a eight please\n",
            "Prediction: bin gren at g eight please\n",
            "~~~~~~~~~~~~~~~~~~~~~~~~~~~~~~~~~~~~~~~~~~~~~~~~~~~~~~~~~~~~~~~~~~~~~~~~~~~~~~~~~~~~~~~~~~~~~~~~~~~~\n",
            "Original: place red at c seven soon\n",
            "Prediction: place red at d seven son\n",
            "~~~~~~~~~~~~~~~~~~~~~~~~~~~~~~~~~~~~~~~~~~~~~~~~~~~~~~~~~~~~~~~~~~~~~~~~~~~~~~~~~~~~~~~~~~~~~~~~~~~~\n",
            "450/450 [==============================] - 1517s 3s/step - loss: 6.9051 - val_loss: 5.3514 - lr: 7.4466e-07\n",
            "Epoch 80/100\n",
            " 27/450 [>.............................] - ETA: 20:01 - loss: 6.8391"
          ]
        },
        {
          "name": "stderr",
          "output_type": "stream",
          "text": [
            "[mpeg1video @ 0x7fbf6c05afc0] ac-tex damaged at 22 17\n",
            "[mpeg1video @ 0x7fbf6c05afc0] Warning MVs not available\n"
          ]
        },
        {
          "name": "stdout",
          "output_type": "stream",
          "text": [
            "450/450 [==============================] - ETA: 0s - loss: 6.9818"
          ]
        },
        {
          "name": "stderr",
          "output_type": "stream",
          "text": [
            "[mpeg1video @ 0x7fd4dc0a5100] ac-tex damaged at 22 17\n",
            "[mpeg1video @ 0x7fd4dc0a5100] Warning MVs not available\n"
          ]
        },
        {
          "name": "stdout",
          "output_type": "stream",
          "text": [
            "1/1 [==============================] - 1s 770ms/step\n",
            "Original: lay white at z two please\n",
            "Prediction: lay white at z two please\n",
            "~~~~~~~~~~~~~~~~~~~~~~~~~~~~~~~~~~~~~~~~~~~~~~~~~~~~~~~~~~~~~~~~~~~~~~~~~~~~~~~~~~~~~~~~~~~~~~~~~~~~\n",
            "Original: lay red at k eight please\n",
            "Prediction: lay red at k eight please\n",
            "~~~~~~~~~~~~~~~~~~~~~~~~~~~~~~~~~~~~~~~~~~~~~~~~~~~~~~~~~~~~~~~~~~~~~~~~~~~~~~~~~~~~~~~~~~~~~~~~~~~~\n",
            "450/450 [==============================] - 1513s 3s/step - loss: 6.9818 - val_loss: 5.4532 - lr: 6.7380e-07\n",
            "Epoch 81/100\n",
            "242/450 [===============>..............] - ETA: 9:56 - loss: 6.9800"
          ]
        },
        {
          "name": "stderr",
          "output_type": "stream",
          "text": [
            "[mpeg1video @ 0x7fbf800958c0] ac-tex damaged at 22 17\n",
            "[mpeg1video @ 0x7fbf800958c0] Warning MVs not available\n"
          ]
        },
        {
          "name": "stdout",
          "output_type": "stream",
          "text": [
            "450/450 [==============================] - ETA: 0s - loss: 6.8663"
          ]
        },
        {
          "name": "stderr",
          "output_type": "stream",
          "text": [
            "[mpeg1video @ 0x7fd380072ac0] ac-tex damaged at 22 17\n",
            "[mpeg1video @ 0x7fd380072ac0] Warning MVs not available\n"
          ]
        },
        {
          "name": "stdout",
          "output_type": "stream",
          "text": [
            "1/1 [==============================] - 1s 775ms/step\n",
            "Original: lay green with t one soon\n",
            "Prediction: lay gren with o one son\n",
            "~~~~~~~~~~~~~~~~~~~~~~~~~~~~~~~~~~~~~~~~~~~~~~~~~~~~~~~~~~~~~~~~~~~~~~~~~~~~~~~~~~~~~~~~~~~~~~~~~~~~\n",
            "Original: lay blue in j nine again\n",
            "Prediction: lay blue in j nine again\n",
            "~~~~~~~~~~~~~~~~~~~~~~~~~~~~~~~~~~~~~~~~~~~~~~~~~~~~~~~~~~~~~~~~~~~~~~~~~~~~~~~~~~~~~~~~~~~~~~~~~~~~\n",
            "450/450 [==============================] - 1523s 3s/step - loss: 6.8663 - val_loss: 5.1282 - lr: 6.0968e-07\n",
            "Epoch 82/100\n",
            "447/450 [============================>.] - ETA: 8s - loss: 7.0804 "
          ]
        },
        {
          "name": "stderr",
          "output_type": "stream",
          "text": [
            "[mpeg1video @ 0x7fd80c072480] ac-tex damaged at 22 17\n",
            "[mpeg1video @ 0x7fd80c072480] Warning MVs not available\n"
          ]
        },
        {
          "name": "stdout",
          "output_type": "stream",
          "text": [
            "450/450 [==============================] - ETA: 0s - loss: 7.0690"
          ]
        },
        {
          "name": "stderr",
          "output_type": "stream",
          "text": [
            "[mpeg1video @ 0x7fd2080ebe40] ac-tex damaged at 22 17\n",
            "[mpeg1video @ 0x7fd2080ebe40] Warning MVs not available\n"
          ]
        },
        {
          "name": "stdout",
          "output_type": "stream",
          "text": [
            "1/1 [==============================] - 1s 781ms/step\n",
            "Original: place red at p four now\n",
            "Prediction: place red at p four now\n",
            "~~~~~~~~~~~~~~~~~~~~~~~~~~~~~~~~~~~~~~~~~~~~~~~~~~~~~~~~~~~~~~~~~~~~~~~~~~~~~~~~~~~~~~~~~~~~~~~~~~~~\n",
            "Original: set green in c zero please\n",
            "Prediction: set gren in c zero please\n",
            "~~~~~~~~~~~~~~~~~~~~~~~~~~~~~~~~~~~~~~~~~~~~~~~~~~~~~~~~~~~~~~~~~~~~~~~~~~~~~~~~~~~~~~~~~~~~~~~~~~~~\n",
            "450/450 [==============================] - 1514s 3s/step - loss: 7.0690 - val_loss: 5.2949 - lr: 5.5166e-07\n",
            "Epoch 83/100\n",
            " 52/450 [==>...........................] - ETA: 19:02 - loss: 6.5163"
          ]
        },
        {
          "name": "stderr",
          "output_type": "stream",
          "text": [
            "[mpeg1video @ 0x7fbf1004a900] ac-tex damaged at 22 17\n",
            "[mpeg1video @ 0x7fbf1004a900] Warning MVs not available\n"
          ]
        },
        {
          "name": "stdout",
          "output_type": "stream",
          "text": [
            "450/450 [==============================] - ETA: 0s - loss: 6.8597"
          ]
        },
        {
          "name": "stderr",
          "output_type": "stream",
          "text": [
            "[mpeg1video @ 0x7fd5640a9000] ac-tex damaged at 22 17\n",
            "[mpeg1video @ 0x7fd5640a9000] Warning MVs not available\n"
          ]
        },
        {
          "name": "stdout",
          "output_type": "stream",
          "text": [
            "1/1 [==============================] - 1s 779ms/step\n",
            "Original: place red with d six please\n",
            "Prediction: place red with d six please\n",
            "~~~~~~~~~~~~~~~~~~~~~~~~~~~~~~~~~~~~~~~~~~~~~~~~~~~~~~~~~~~~~~~~~~~~~~~~~~~~~~~~~~~~~~~~~~~~~~~~~~~~\n",
            "Original: set green with x five again\n",
            "Prediction: set gren with h five again\n",
            "~~~~~~~~~~~~~~~~~~~~~~~~~~~~~~~~~~~~~~~~~~~~~~~~~~~~~~~~~~~~~~~~~~~~~~~~~~~~~~~~~~~~~~~~~~~~~~~~~~~~\n",
            "450/450 [==============================] - 1516s 3s/step - loss: 6.8597 - val_loss: 4.7895 - lr: 4.9916e-07\n",
            "Epoch 84/100\n",
            "270/450 [=================>............] - ETA: 8:33 - loss: 6.8191"
          ]
        },
        {
          "name": "stderr",
          "output_type": "stream",
          "text": [
            "[mpeg1video @ 0x7fd40c03e080] ac-tex damaged at 22 17\n",
            "[mpeg1video @ 0x7fd40c03e080] Warning MVs not available\n"
          ]
        },
        {
          "name": "stdout",
          "output_type": "stream",
          "text": [
            "450/450 [==============================] - ETA: 0s - loss: 6.7857"
          ]
        },
        {
          "name": "stderr",
          "output_type": "stream",
          "text": [
            "[mpeg1video @ 0x7fd7b803b8c0] ac-tex damaged at 22 17\n",
            "[mpeg1video @ 0x7fd7b803b8c0] Warning MVs not available\n"
          ]
        },
        {
          "name": "stdout",
          "output_type": "stream",
          "text": [
            "1/1 [==============================] - 1s 782ms/step\n",
            "Original: set white in o zero now\n",
            "Prediction: set white in e zero now\n",
            "~~~~~~~~~~~~~~~~~~~~~~~~~~~~~~~~~~~~~~~~~~~~~~~~~~~~~~~~~~~~~~~~~~~~~~~~~~~~~~~~~~~~~~~~~~~~~~~~~~~~\n",
            "Original: lay red by l three again\n",
            "Prediction: lay red by p thre again\n",
            "~~~~~~~~~~~~~~~~~~~~~~~~~~~~~~~~~~~~~~~~~~~~~~~~~~~~~~~~~~~~~~~~~~~~~~~~~~~~~~~~~~~~~~~~~~~~~~~~~~~~\n",
            "450/450 [==============================] - 1515s 3s/step - loss: 6.7857 - val_loss: 5.1696 - lr: 4.5166e-07\n",
            "Epoch 85/100\n",
            "307/450 [===================>..........] - ETA: 6:49 - loss: 6.9015"
          ]
        },
        {
          "name": "stderr",
          "output_type": "stream",
          "text": [
            "[mpeg1video @ 0x7fbfe4049d80] ac-tex damaged at 22 17\n",
            "[mpeg1video @ 0x7fbfe4049d80] Warning MVs not available\n"
          ]
        },
        {
          "name": "stdout",
          "output_type": "stream",
          "text": [
            "450/450 [==============================] - ETA: 0s - loss: 6.9095"
          ]
        },
        {
          "name": "stderr",
          "output_type": "stream",
          "text": [
            "[mpeg1video @ 0x7fbd6c0c26c0] ac-tex damaged at 22 17\n",
            "[mpeg1video @ 0x7fbd6c0c26c0] Warning MVs not available\n"
          ]
        },
        {
          "name": "stdout",
          "output_type": "stream",
          "text": [
            "1/1 [==============================] - 1s 780ms/step\n",
            "Original: place white with q nine soon\n",
            "Prediction: place white with x nine son\n",
            "~~~~~~~~~~~~~~~~~~~~~~~~~~~~~~~~~~~~~~~~~~~~~~~~~~~~~~~~~~~~~~~~~~~~~~~~~~~~~~~~~~~~~~~~~~~~~~~~~~~~\n",
            "Original: bin blue with g zero now\n",
            "Prediction: bin blue with g zero now\n",
            "~~~~~~~~~~~~~~~~~~~~~~~~~~~~~~~~~~~~~~~~~~~~~~~~~~~~~~~~~~~~~~~~~~~~~~~~~~~~~~~~~~~~~~~~~~~~~~~~~~~~\n",
            "450/450 [==============================] - 1518s 3s/step - loss: 6.9095 - val_loss: 4.9191 - lr: 4.0868e-07\n",
            "Epoch 86/100\n",
            " 74/450 [===>..........................] - ETA: 17:58 - loss: 7.0016"
          ]
        },
        {
          "name": "stderr",
          "output_type": "stream",
          "text": [
            "[mpeg1video @ 0x7fbf10085980] ac-tex damaged at 22 17\n",
            "[mpeg1video @ 0x7fbf10085980] Warning MVs not available\n"
          ]
        },
        {
          "name": "stdout",
          "output_type": "stream",
          "text": [
            "450/450 [==============================] - ETA: 0s - loss: 6.8545"
          ]
        },
        {
          "name": "stderr",
          "output_type": "stream",
          "text": [
            "[mpeg1video @ 0x7fd7b40566c0] ac-tex damaged at 22 17\n",
            "[mpeg1video @ 0x7fd7b40566c0] Warning MVs not available\n"
          ]
        },
        {
          "name": "stdout",
          "output_type": "stream",
          "text": [
            "1/1 [==============================] - 1s 767ms/step\n",
            "Original: lay green by f nine soon\n",
            "Prediction: lay gren by b nine son\n",
            "~~~~~~~~~~~~~~~~~~~~~~~~~~~~~~~~~~~~~~~~~~~~~~~~~~~~~~~~~~~~~~~~~~~~~~~~~~~~~~~~~~~~~~~~~~~~~~~~~~~~\n",
            "Original: bin red at s seven soon\n",
            "Prediction: bin red at s seven son\n",
            "~~~~~~~~~~~~~~~~~~~~~~~~~~~~~~~~~~~~~~~~~~~~~~~~~~~~~~~~~~~~~~~~~~~~~~~~~~~~~~~~~~~~~~~~~~~~~~~~~~~~\n",
            "450/450 [==============================] - 1522s 3s/step - loss: 6.8545 - val_loss: 4.7322 - lr: 3.6979e-07\n",
            "Epoch 87/100\n",
            "450/450 [==============================] - ETA: 0s - loss: 6.7895"
          ]
        },
        {
          "name": "stderr",
          "output_type": "stream",
          "text": [
            "[mpeg1video @ 0x7fd830016e80] ac-tex damaged at 22 17\n",
            "[mpeg1video @ 0x7fd830016e80] Warning MVs not available\n"
          ]
        },
        {
          "name": "stdout",
          "output_type": "stream",
          "text": [
            "1/1 [==============================] - 1s 777ms/step\n",
            "Original: lay white in r three soon\n",
            "Prediction: lay white in r thre son\n",
            "~~~~~~~~~~~~~~~~~~~~~~~~~~~~~~~~~~~~~~~~~~~~~~~~~~~~~~~~~~~~~~~~~~~~~~~~~~~~~~~~~~~~~~~~~~~~~~~~~~~~\n",
            "Original: place white at j six now\n",
            "Prediction: place white it s six now\n",
            "~~~~~~~~~~~~~~~~~~~~~~~~~~~~~~~~~~~~~~~~~~~~~~~~~~~~~~~~~~~~~~~~~~~~~~~~~~~~~~~~~~~~~~~~~~~~~~~~~~~~\n",
            "450/450 [==============================] - 1502s 3s/step - loss: 6.7895 - val_loss: 5.3479 - lr: 3.3460e-07\n",
            "Epoch 88/100\n",
            " 73/450 [===>..........................] - ETA: 18:01 - loss: 6.8332"
          ]
        },
        {
          "name": "stderr",
          "output_type": "stream",
          "text": [
            "[mpeg1video @ 0x7fd8a8001f80] ac-tex damaged at 22 17\n",
            "[mpeg1video @ 0x7fd8a8001f80] Warning MVs not available\n"
          ]
        },
        {
          "name": "stdout",
          "output_type": "stream",
          "text": [
            "450/450 [==============================] - ETA: 0s - loss: 6.9121"
          ]
        },
        {
          "name": "stderr",
          "output_type": "stream",
          "text": [
            "[mpeg1video @ 0x7fbf1004a1c0] ac-tex damaged at 22 17\n",
            "[mpeg1video @ 0x7fbf1004a1c0] Warning MVs not available\n"
          ]
        },
        {
          "name": "stdout",
          "output_type": "stream",
          "text": [
            "1/1 [==============================] - 1s 780ms/step\n",
            "Original: lay white at f one again\n",
            "Prediction: lay white at f one again\n",
            "~~~~~~~~~~~~~~~~~~~~~~~~~~~~~~~~~~~~~~~~~~~~~~~~~~~~~~~~~~~~~~~~~~~~~~~~~~~~~~~~~~~~~~~~~~~~~~~~~~~~\n",
            "Original: bin white in m four now\n",
            "Prediction: bin white in m four now\n",
            "~~~~~~~~~~~~~~~~~~~~~~~~~~~~~~~~~~~~~~~~~~~~~~~~~~~~~~~~~~~~~~~~~~~~~~~~~~~~~~~~~~~~~~~~~~~~~~~~~~~~\n",
            "450/450 [==============================] - 1514s 3s/step - loss: 6.9121 - val_loss: 5.0743 - lr: 3.0276e-07\n",
            "Epoch 89/100\n",
            "324/450 [====================>.........] - ETA: 6:01 - loss: 6.8323"
          ]
        },
        {
          "name": "stderr",
          "output_type": "stream",
          "text": [
            "[mpeg1video @ 0x7fbf68016780] ac-tex damaged at 22 17\n",
            "[mpeg1video @ 0x7fbf68016780] Warning MVs not available\n"
          ]
        },
        {
          "name": "stdout",
          "output_type": "stream",
          "text": [
            "450/450 [==============================] - ETA: 0s - loss: 6.8579"
          ]
        },
        {
          "name": "stderr",
          "output_type": "stream",
          "text": [
            "[mpeg1video @ 0x7fbe3800af00] ac-tex damaged at 22 17\n",
            "[mpeg1video @ 0x7fbe3800af00] Warning MVs not available\n"
          ]
        },
        {
          "name": "stdout",
          "output_type": "stream",
          "text": [
            "1/1 [==============================] - 1s 796ms/step\n",
            "Original: bin green in n one soon\n",
            "Prediction: bin gren in n one son\n",
            "~~~~~~~~~~~~~~~~~~~~~~~~~~~~~~~~~~~~~~~~~~~~~~~~~~~~~~~~~~~~~~~~~~~~~~~~~~~~~~~~~~~~~~~~~~~~~~~~~~~~\n",
            "Original: set white at b nine again\n",
            "Prediction: set white at b nine again\n",
            "~~~~~~~~~~~~~~~~~~~~~~~~~~~~~~~~~~~~~~~~~~~~~~~~~~~~~~~~~~~~~~~~~~~~~~~~~~~~~~~~~~~~~~~~~~~~~~~~~~~~\n",
            "450/450 [==============================] - 1516s 3s/step - loss: 6.8579 - val_loss: 5.8249 - lr: 2.7394e-07\n",
            "Epoch 90/100\n",
            "282/450 [=================>............] - ETA: 8:01 - loss: 7.0461"
          ]
        },
        {
          "name": "stderr",
          "output_type": "stream",
          "text": [
            "[mpeg1video @ 0x7fd56408de00] ac-tex damaged at 22 17\n",
            "[mpeg1video @ 0x7fd56408de00] Warning MVs not available\n"
          ]
        },
        {
          "name": "stdout",
          "output_type": "stream",
          "text": [
            "450/450 [==============================] - ETA: 0s - loss: 6.9169"
          ]
        },
        {
          "name": "stderr",
          "output_type": "stream",
          "text": [
            "[mpeg1video @ 0x7fd7e00410c0] ac-tex damaged at 22 17\n",
            "[mpeg1video @ 0x7fd7e00410c0] Warning MVs not available\n"
          ]
        },
        {
          "name": "stdout",
          "output_type": "stream",
          "text": [
            "1/1 [==============================] - 1s 802ms/step\n",
            "Original: lay red by e seven soon\n",
            "Prediction: lay red by e seven son\n",
            "~~~~~~~~~~~~~~~~~~~~~~~~~~~~~~~~~~~~~~~~~~~~~~~~~~~~~~~~~~~~~~~~~~~~~~~~~~~~~~~~~~~~~~~~~~~~~~~~~~~~\n",
            "Original: set white by c two please\n",
            "Prediction: set white by c two please\n",
            "~~~~~~~~~~~~~~~~~~~~~~~~~~~~~~~~~~~~~~~~~~~~~~~~~~~~~~~~~~~~~~~~~~~~~~~~~~~~~~~~~~~~~~~~~~~~~~~~~~~~\n",
            "450/450 [==============================] - 1516s 3s/step - loss: 6.9169 - val_loss: 5.5498 - lr: 2.4788e-07\n",
            "Epoch 91/100\n",
            " 84/450 [====>.........................] - ETA: 17:28 - loss: 7.2291"
          ]
        },
        {
          "name": "stderr",
          "output_type": "stream",
          "text": [
            "[mpeg1video @ 0x7fd1ac00f680] ac-tex damaged at 22 17\n",
            "[mpeg1video @ 0x7fd1ac00f680] Warning MVs not available\n"
          ]
        },
        {
          "name": "stdout",
          "output_type": "stream",
          "text": [
            "450/450 [==============================] - ETA: 0s - loss: 6.8212"
          ]
        },
        {
          "name": "stderr",
          "output_type": "stream",
          "text": [
            "[mpeg1video @ 0x7fd4480b7ec0] ac-tex damaged at 22 17\n",
            "[mpeg1video @ 0x7fd4480b7ec0] Warning MVs not available\n"
          ]
        },
        {
          "name": "stdout",
          "output_type": "stream",
          "text": [
            "1/1 [==============================] - 1s 779ms/step\n",
            "Original: bin red with t seven again\n",
            "Prediction: bin red with t seven again\n",
            "~~~~~~~~~~~~~~~~~~~~~~~~~~~~~~~~~~~~~~~~~~~~~~~~~~~~~~~~~~~~~~~~~~~~~~~~~~~~~~~~~~~~~~~~~~~~~~~~~~~~\n",
            "Original: lay red sp with l five soon\n",
            "Prediction: lay re with l five son\n",
            "~~~~~~~~~~~~~~~~~~~~~~~~~~~~~~~~~~~~~~~~~~~~~~~~~~~~~~~~~~~~~~~~~~~~~~~~~~~~~~~~~~~~~~~~~~~~~~~~~~~~\n",
            "450/450 [==============================] - 1519s 3s/step - loss: 6.8212 - val_loss: 5.9522 - lr: 2.2429e-07\n",
            "Epoch 92/100\n",
            " 54/450 [==>...........................] - ETA: 18:56 - loss: 7.1143"
          ]
        },
        {
          "name": "stderr",
          "output_type": "stream",
          "text": [
            "[mpeg1video @ 0x7fd480062b40] ac-tex damaged at 22 17\n",
            "[mpeg1video @ 0x7fd480062b40] Warning MVs not available\n"
          ]
        },
        {
          "name": "stdout",
          "output_type": "stream",
          "text": [
            "450/450 [==============================] - ETA: 0s - loss: 6.9581"
          ]
        },
        {
          "name": "stderr",
          "output_type": "stream",
          "text": [
            "[mpeg1video @ 0x7fd4e40ac6c0] ac-tex damaged at 22 17\n",
            "[mpeg1video @ 0x7fd4e40ac6c0] Warning MVs not available\n"
          ]
        },
        {
          "name": "stdout",
          "output_type": "stream",
          "text": [
            "1/1 [==============================] - 1s 782ms/step\n",
            "Original: bin white at g six please\n",
            "Prediction: bin white at a six please\n",
            "~~~~~~~~~~~~~~~~~~~~~~~~~~~~~~~~~~~~~~~~~~~~~~~~~~~~~~~~~~~~~~~~~~~~~~~~~~~~~~~~~~~~~~~~~~~~~~~~~~~~\n",
            "Original: bin green by u two now\n",
            "Prediction: bin gren by u two now\n",
            "~~~~~~~~~~~~~~~~~~~~~~~~~~~~~~~~~~~~~~~~~~~~~~~~~~~~~~~~~~~~~~~~~~~~~~~~~~~~~~~~~~~~~~~~~~~~~~~~~~~~\n",
            "450/450 [==============================] - 1516s 3s/step - loss: 6.9581 - val_loss: 5.2150 - lr: 2.0294e-07\n",
            "Epoch 93/100\n",
            "428/450 [===========================>..] - ETA: 1:03 - loss: 6.7895"
          ]
        },
        {
          "name": "stderr",
          "output_type": "stream",
          "text": [
            "[mpeg1video @ 0x7fd6a805f3c0] ac-tex damaged at 22 17\n",
            "[mpeg1video @ 0x7fd6a805f3c0] Warning MVs not available\n"
          ]
        },
        {
          "name": "stdout",
          "output_type": "stream",
          "text": [
            "450/450 [==============================] - ETA: 0s - loss: 6.8125"
          ]
        },
        {
          "name": "stderr",
          "output_type": "stream",
          "text": [
            "[mpeg1video @ 0x7fd88c0b52c0] ac-tex damaged at 22 17\n",
            "[mpeg1video @ 0x7fd88c0b52c0] Warning MVs not available\n"
          ]
        },
        {
          "name": "stdout",
          "output_type": "stream",
          "text": [
            "1/1 [==============================] - 1s 787ms/step\n",
            "Original: place blue at v four please\n",
            "Prediction: place blue at u four please\n",
            "~~~~~~~~~~~~~~~~~~~~~~~~~~~~~~~~~~~~~~~~~~~~~~~~~~~~~~~~~~~~~~~~~~~~~~~~~~~~~~~~~~~~~~~~~~~~~~~~~~~~\n",
            "Original: set blue with o three again\n",
            "Prediction: set blue with h thre again\n",
            "~~~~~~~~~~~~~~~~~~~~~~~~~~~~~~~~~~~~~~~~~~~~~~~~~~~~~~~~~~~~~~~~~~~~~~~~~~~~~~~~~~~~~~~~~~~~~~~~~~~~\n",
            "450/450 [==============================] - 1514s 3s/step - loss: 6.8125 - val_loss: 6.3658 - lr: 1.8363e-07\n",
            "Epoch 94/100\n",
            "443/450 [============================>.] - ETA: 20s - loss: 6.9380"
          ]
        },
        {
          "name": "stderr",
          "output_type": "stream",
          "text": [
            "[mpeg1video @ 0x7fbe9c0af600] ac-tex damaged at 22 17\n",
            "[mpeg1video @ 0x7fbe9c0af600] Warning MVs not available\n"
          ]
        },
        {
          "name": "stdout",
          "output_type": "stream",
          "text": [
            "450/450 [==============================] - ETA: 0s - loss: 6.9173"
          ]
        },
        {
          "name": "stderr",
          "output_type": "stream",
          "text": [
            "[mpeg1video @ 0x7fd38c01b3c0] ac-tex damaged at 22 17\n",
            "[mpeg1video @ 0x7fd38c01b3c0] Warning MVs not available\n"
          ]
        },
        {
          "name": "stdout",
          "output_type": "stream",
          "text": [
            "1/1 [==============================] - 1s 785ms/step\n",
            "Original: bin red with g eight please\n",
            "Prediction: bin red with g eight please\n",
            "~~~~~~~~~~~~~~~~~~~~~~~~~~~~~~~~~~~~~~~~~~~~~~~~~~~~~~~~~~~~~~~~~~~~~~~~~~~~~~~~~~~~~~~~~~~~~~~~~~~~\n",
            "Original: place red with q three soon\n",
            "Prediction: place red with q thre son\n",
            "~~~~~~~~~~~~~~~~~~~~~~~~~~~~~~~~~~~~~~~~~~~~~~~~~~~~~~~~~~~~~~~~~~~~~~~~~~~~~~~~~~~~~~~~~~~~~~~~~~~~\n",
            "450/450 [==============================] - 1513s 3s/step - loss: 6.9173 - val_loss: 5.6357 - lr: 1.6616e-07\n",
            "Epoch 95/100\n",
            "192/450 [===========>..................] - ETA: 12:18 - loss: 7.1116"
          ]
        },
        {
          "name": "stderr",
          "output_type": "stream",
          "text": [
            "[mpeg1video @ 0x7fbd70093900] ac-tex damaged at 22 17\n",
            "[mpeg1video @ 0x7fbd70093900] Warning MVs not available\n"
          ]
        },
        {
          "name": "stdout",
          "output_type": "stream",
          "text": [
            "450/450 [==============================] - ETA: 0s - loss: 6.9638"
          ]
        },
        {
          "name": "stderr",
          "output_type": "stream",
          "text": [
            "[mpeg1video @ 0x7fbe240d6580] ac-tex damaged at 22 17\n",
            "[mpeg1video @ 0x7fbe240d6580] Warning MVs not available\n"
          ]
        },
        {
          "name": "stdout",
          "output_type": "stream",
          "text": [
            "1/1 [==============================] - 1s 775ms/step\n",
            "Original: set blue by n eight sp please\n",
            "Prediction: set blue by n eight please\n",
            "~~~~~~~~~~~~~~~~~~~~~~~~~~~~~~~~~~~~~~~~~~~~~~~~~~~~~~~~~~~~~~~~~~~~~~~~~~~~~~~~~~~~~~~~~~~~~~~~~~~~\n",
            "Original: lay red in q nine again\n",
            "Prediction: lay red in q nine again\n",
            "~~~~~~~~~~~~~~~~~~~~~~~~~~~~~~~~~~~~~~~~~~~~~~~~~~~~~~~~~~~~~~~~~~~~~~~~~~~~~~~~~~~~~~~~~~~~~~~~~~~~\n",
            "450/450 [==============================] - 1515s 3s/step - loss: 6.9638 - val_loss: 5.0589 - lr: 1.5034e-07\n",
            "Epoch 96/100\n",
            "404/450 [=========================>....] - ETA: 2:11 - loss: 6.8401"
          ]
        },
        {
          "name": "stderr",
          "output_type": "stream",
          "text": [
            "[mpeg1video @ 0x7fbf10020e40] ac-tex damaged at 22 17\n",
            "[mpeg1video @ 0x7fbf10020e40] Warning MVs not available\n"
          ]
        },
        {
          "name": "stdout",
          "output_type": "stream",
          "text": [
            "450/450 [==============================] - ETA: 0s - loss: 6.8211"
          ]
        },
        {
          "name": "stderr",
          "output_type": "stream",
          "text": [
            "[mpeg1video @ 0x7fbfd80a3900] ac-tex damaged at 22 17\n",
            "[mpeg1video @ 0x7fbfd80a3900] Warning MVs not available\n"
          ]
        },
        {
          "name": "stdout",
          "output_type": "stream",
          "text": [
            "1/1 [==============================] - 1s 789ms/step\n",
            "Original: bin green in t four now\n",
            "Prediction: bin gren in f four now\n",
            "~~~~~~~~~~~~~~~~~~~~~~~~~~~~~~~~~~~~~~~~~~~~~~~~~~~~~~~~~~~~~~~~~~~~~~~~~~~~~~~~~~~~~~~~~~~~~~~~~~~~\n",
            "Original: place white by k three again\n",
            "Prediction: place white by k thre again\n",
            "~~~~~~~~~~~~~~~~~~~~~~~~~~~~~~~~~~~~~~~~~~~~~~~~~~~~~~~~~~~~~~~~~~~~~~~~~~~~~~~~~~~~~~~~~~~~~~~~~~~~\n",
            "450/450 [==============================] - 1521s 3s/step - loss: 6.8211 - val_loss: 5.2131 - lr: 1.3604e-07\n",
            "Epoch 97/100\n",
            "340/450 [=====================>........] - ETA: 5:31 - loss: 6.7640"
          ]
        },
        {
          "name": "stderr",
          "output_type": "stream",
          "text": [
            "[mpeg1video @ 0x7fd394064f80] ac-tex damaged at 22 17\n",
            "[mpeg1video @ 0x7fd394064f80] Warning MVs not available\n"
          ]
        },
        {
          "name": "stdout",
          "output_type": "stream",
          "text": [
            "450/450 [==============================] - ETA: 0s - loss: 6.8474"
          ]
        },
        {
          "name": "stderr",
          "output_type": "stream",
          "text": [
            "[mpeg1video @ 0x7fbe8002cd00] ac-tex damaged at 22 17\n",
            "[mpeg1video @ 0x7fbe8002cd00] Warning MVs not available\n"
          ]
        },
        {
          "name": "stdout",
          "output_type": "stream",
          "text": [
            "1/1 [==============================] - 1s 792ms/step\n",
            "Original: bin white in t one again\n",
            "Prediction: bin white in t one again\n",
            "~~~~~~~~~~~~~~~~~~~~~~~~~~~~~~~~~~~~~~~~~~~~~~~~~~~~~~~~~~~~~~~~~~~~~~~~~~~~~~~~~~~~~~~~~~~~~~~~~~~~\n",
            "Original: bin blue at s three again\n",
            "Prediction: bin blue at h thre again\n",
            "~~~~~~~~~~~~~~~~~~~~~~~~~~~~~~~~~~~~~~~~~~~~~~~~~~~~~~~~~~~~~~~~~~~~~~~~~~~~~~~~~~~~~~~~~~~~~~~~~~~~\n",
            "450/450 [==============================] - 1668s 4s/step - loss: 6.8474 - val_loss: 5.2178 - lr: 1.2309e-07\n",
            "Epoch 98/100\n",
            " 13/450 [..............................] - ETA: 21:02 - loss: 7.6921"
          ]
        },
        {
          "name": "stderr",
          "output_type": "stream",
          "text": [
            "[mpeg1video @ 0x7fd520003280] ac-tex damaged at 22 17\n",
            "[mpeg1video @ 0x7fd520003280] Warning MVs not available\n"
          ]
        },
        {
          "name": "stdout",
          "output_type": "stream",
          "text": [
            "450/450 [==============================] - ETA: 0s - loss: 7.0426"
          ]
        },
        {
          "name": "stderr",
          "output_type": "stream",
          "text": [
            "[mpeg1video @ 0x7fd3580d7780] ac-tex damaged at 22 17\n",
            "[mpeg1video @ 0x7fd3580d7780] Warning MVs not available\n"
          ]
        },
        {
          "name": "stdout",
          "output_type": "stream",
          "text": [
            "1/1 [==============================] - 1s 791ms/step\n",
            "Original: place blue with p eight please\n",
            "Prediction: place blue with p eight please\n",
            "~~~~~~~~~~~~~~~~~~~~~~~~~~~~~~~~~~~~~~~~~~~~~~~~~~~~~~~~~~~~~~~~~~~~~~~~~~~~~~~~~~~~~~~~~~~~~~~~~~~~\n",
            "Original: lay red by r seven again\n",
            "Prediction: lay red by l seven again\n",
            "~~~~~~~~~~~~~~~~~~~~~~~~~~~~~~~~~~~~~~~~~~~~~~~~~~~~~~~~~~~~~~~~~~~~~~~~~~~~~~~~~~~~~~~~~~~~~~~~~~~~\n",
            "450/450 [==============================] - 1673s 4s/step - loss: 7.0426 - val_loss: 5.4305 - lr: 1.1138e-07\n",
            "Epoch 99/100\n",
            " 65/450 [===>..........................] - ETA: 19:18 - loss: 6.9021"
          ]
        },
        {
          "name": "stderr",
          "output_type": "stream",
          "text": [
            "[mpeg1video @ 0x7fd7240bfd00] ac-tex damaged at 22 17\n",
            "[mpeg1video @ 0x7fd7240bfd00] Warning MVs not available\n"
          ]
        },
        {
          "name": "stdout",
          "output_type": "stream",
          "text": [
            "450/450 [==============================] - ETA: 0s - loss: 6.8521"
          ]
        },
        {
          "name": "stderr",
          "output_type": "stream",
          "text": [
            "[mpeg1video @ 0x7fd71c01fe00] ac-tex damaged at 22 17\n",
            "[mpeg1video @ 0x7fd71c01fe00] Warning MVs not available\n"
          ]
        },
        {
          "name": "stdout",
          "output_type": "stream",
          "text": [
            "1/1 [==============================] - 1s 1s/step\n",
            "Original: place green at k five again\n",
            "Prediction: place gren at k five again\n",
            "~~~~~~~~~~~~~~~~~~~~~~~~~~~~~~~~~~~~~~~~~~~~~~~~~~~~~~~~~~~~~~~~~~~~~~~~~~~~~~~~~~~~~~~~~~~~~~~~~~~~\n",
            "Original: set blue by b one again\n",
            "Prediction: set blue by b one again\n",
            "~~~~~~~~~~~~~~~~~~~~~~~~~~~~~~~~~~~~~~~~~~~~~~~~~~~~~~~~~~~~~~~~~~~~~~~~~~~~~~~~~~~~~~~~~~~~~~~~~~~~\n",
            "450/450 [==============================] - 1754s 4s/step - loss: 6.8521 - val_loss: 4.8597 - lr: 1.0078e-07\n",
            "Epoch 100/100\n",
            "363/450 [=======================>......] - ETA: 4:28 - loss: 6.8215"
          ]
        },
        {
          "name": "stderr",
          "output_type": "stream",
          "text": [
            "[mpeg1video @ 0x7fd4c80e4680] ac-tex damaged at 22 17\n",
            "[mpeg1video @ 0x7fd4c80e4680] Warning MVs not available\n"
          ]
        },
        {
          "name": "stdout",
          "output_type": "stream",
          "text": [
            "450/450 [==============================] - ETA: 0s - loss: 6.9209"
          ]
        },
        {
          "name": "stderr",
          "output_type": "stream",
          "text": [
            "[mpeg1video @ 0x7fbe2806b8c0] ac-tex damaged at 22 17\n",
            "[mpeg1video @ 0x7fbe2806b8c0] Warning MVs not available\n"
          ]
        },
        {
          "name": "stdout",
          "output_type": "stream",
          "text": [
            "1/1 [==============================] - 1s 783ms/step\n",
            "Original: lay red by y eight now\n",
            "Prediction: lay red by y eight now\n",
            "~~~~~~~~~~~~~~~~~~~~~~~~~~~~~~~~~~~~~~~~~~~~~~~~~~~~~~~~~~~~~~~~~~~~~~~~~~~~~~~~~~~~~~~~~~~~~~~~~~~~\n",
            "Original: lay blue in x six please\n",
            "Prediction: lay blue in x six please\n",
            "~~~~~~~~~~~~~~~~~~~~~~~~~~~~~~~~~~~~~~~~~~~~~~~~~~~~~~~~~~~~~~~~~~~~~~~~~~~~~~~~~~~~~~~~~~~~~~~~~~~~\n",
            "450/450 [==============================] - 1736s 4s/step - loss: 6.9209 - val_loss: 5.4321 - lr: 9.1188e-08\n"
          ]
        }
      ],
      "source": [
        "history = model.fit(train, validation_data=test, epochs=100, callbacks=[checkpoint_callback, schedule_callback, example_callback])"
      ]
    },
    {
      "cell_type": "code",
      "execution_count": null,
      "id": "da71070b-ee17-462a-829a-a432216fc0ba",
      "metadata": {
        "id": "da71070b-ee17-462a-829a-a432216fc0ba",
        "outputId": "8c865f8f-76e9-4b3a-e993-7fc0b3e1dde8"
      },
      "outputs": [
        {
          "data": {
            "image/png": "[encoded data removed]",
            "text/plain": [
              "<Figure size 800x600 with 1 Axes>"
            ]
          },
          "metadata": {},
          "output_type": "display_data"
        }
      ],
      "source": [
        "import matplotlib.pyplot as plt\n",
        "\n",
        "# Assuming `history` is the result of the `model.fit()`\n",
        "fig, ax = plt.subplots(figsize=(8, 6))  # Adjusted to use a single plot\n",
        "\n",
        "# Plotting training and validation loss\n",
        "ax.plot(history.history['loss'], label='Training Loss')\n",
        "ax.plot(history.history['val_loss'], label='Validation Loss')\n",
        "ax.legend(loc='upper right')\n",
        "ax.set_ylabel('Loss')\n",
        "ax.set_title('Training and Validation Loss')\n",
        "\n",
        "# Since we're only plotting loss, we adjust the x-label to be on this ax\n",
        "ax.set_xlabel('Epoch')  # Adjusting to apply xlabel to the single plot\n",
        "\n",
        "plt.show()"
      ]
    },
    {
      "cell_type": "markdown",
      "id": "fa8ee94b-89f7-4733-8a0c-a86f86ff590a",
      "metadata": {
        "id": "fa8ee94b-89f7-4733-8a0c-a86f86ff590a",
        "tags": []
      },
      "source": [
        "# 5. Make a Prediction"
      ]
    },
    {
      "cell_type": "code",
      "execution_count": null,
      "id": "247f664d-3c87-4e96-946e-930dad0e1c2c",
      "metadata": {
        "colab": {
          "base_uri": "https://localhost:8080/"
        },
        "id": "247f664d-3c87-4e96-946e-930dad0e1c2c",
        "outputId": "deb89c91-366c-4e7f-92e9-02b166e80d5d",
        "tags": []
      },
      "outputs": [
        {
          "data": {
            "text/plain": [
              "<tensorflow.python.checkpoint.checkpoint.CheckpointLoadStatus at 0x7fdde427b3d0>"
            ]
          },
          "execution_count": 63,
          "metadata": {},
          "output_type": "execute_result"
        }
      ],
      "source": [
        "model.load_weights('models/checkpoint')"
      ]
    },
    {
      "cell_type": "code",
      "execution_count": null,
      "id": "7f8d689f-b7bb-443c-9b88-e40c1d800828",
      "metadata": {
        "id": "7f8d689f-b7bb-443c-9b88-e40c1d800828",
        "tags": []
      },
      "outputs": [],
      "source": [
        "test_data = test.as_numpy_iterator()"
      ]
    },
    {
      "cell_type": "code",
      "execution_count": null,
      "id": "38546dc2-bee9-4837-864b-8a884df40ad7",
      "metadata": {
        "id": "38546dc2-bee9-4837-864b-8a884df40ad7",
        "tags": [],
        "outputId": "e954469b-3b44-4cf8-9720-560fdb33416d"
      },
      "outputs": [
        {
          "name": "stderr",
          "output_type": "stream",
          "text": [
            "[mpeg1video @ 0x7fd8bc060c00] ac-tex damaged at 22 17\n",
            "[mpeg1video @ 0x7fd8bc060c00] Warning MVs not available\n"
          ]
        }
      ],
      "source": [
        "sample = test_data.next()"
      ]
    },
    {
      "cell_type": "code",
      "execution_count": null,
      "id": "a43621f0-229d-4c0d-9554-9c3a3da9c61a",
      "metadata": {
        "colab": {
          "base_uri": "https://localhost:8080/"
        },
        "id": "a43621f0-229d-4c0d-9554-9c3a3da9c61a",
        "outputId": "13118ab3-3041-4992-b2f0-4079589425e8",
        "tags": []
      },
      "outputs": [
        {
          "name": "stdout",
          "output_type": "stream",
          "text": [
            "1/1 [==============================] - 1s 1s/step\n"
          ]
        }
      ],
      "source": [
        "yhat = model.predict(sample[0])"
      ]
    },
    {
      "cell_type": "code",
      "execution_count": null,
      "id": "ea462999-f87e-4a7e-a057-5be7b6d8f7d5",
      "metadata": {
        "colab": {
          "base_uri": "https://localhost:8080/"
        },
        "id": "ea462999-f87e-4a7e-a057-5be7b6d8f7d5",
        "outputId": "eac82d31-ca59-444e-ce18-b31831b6793c",
        "tags": []
      },
      "outputs": [
        {
          "name": "stdout",
          "output_type": "stream",
          "text": [
            "~~~~~~~~~~~~~~~~~~~~~~~~~~~~~~~~~~~~~~~~~~~~~~~~~~~~~~~~~~~~~~~~~~~~~~~~~~~~~~~~~~~~~~~~~~~~~~~~~~~~ REAL TEXT\n"
          ]
        },
        {
          "data": {
            "text/plain": [
              "[<tf.Tensor: shape=(), dtype=string, numpy=b'bin green by h six please'>,\n",
              " <tf.Tensor: shape=(), dtype=string, numpy=b'lay green with a one again'>]"
            ]
          },
          "execution_count": 67,
          "metadata": {},
          "output_type": "execute_result"
        }
      ],
      "source": [
        "print('~'*100, 'REAL TEXT')\n",
        "[tf.strings.reduce_join([num_to_char(word) for word in sentence]) for sentence in sample[1]]"
      ]
    },
    {
      "cell_type": "code",
      "execution_count": null,
      "id": "82bd4c10-dd6e-411e-834b-2a3b43fd12c5",
      "metadata": {
        "id": "82bd4c10-dd6e-411e-834b-2a3b43fd12c5",
        "tags": []
      },
      "outputs": [],
      "source": [
        "decoded = tf.keras.backend.ctc_decode(yhat, input_length=[75,75], greedy=True)[0][0].numpy()"
      ]
    },
    {
      "cell_type": "code",
      "execution_count": null,
      "id": "5d68ac46-c90b-4eab-a709-f19aee569ff5",
      "metadata": {
        "colab": {
          "base_uri": "https://localhost:8080/"
        },
        "id": "5d68ac46-c90b-4eab-a709-f19aee569ff5",
        "outputId": "e7b7735c-05f9-4799-ed13-80443880f4cf",
        "tags": []
      },
      "outputs": [
        {
          "name": "stdout",
          "output_type": "stream",
          "text": [
            "~~~~~~~~~~~~~~~~~~~~~~~~~~~~~~~~~~~~~~~~~~~~~~~~~~~~~~~~~~~~~~~~~~~~~~~~~~~~~~~~~~~~~~~~~~~~~~~~~~~~ PREDICTIONS\n"
          ]
        },
        {
          "data": {
            "text/plain": [
              "[<tf.Tensor: shape=(), dtype=string, numpy=b'bin green by i six please'>,\n",
              " <tf.Tensor: shape=(), dtype=string, numpy=b'lay green with o one again'>]"
            ]
          },
          "execution_count": 69,
          "metadata": {},
          "output_type": "execute_result"
        }
      ],
      "source": [
        "print('~'*100, 'PREDICTIONS')\n",
        "[tf.strings.reduce_join([num_to_char(word) for word in sentence]) for sentence in decoded]"
      ]
    },
    {
      "cell_type": "code",
      "execution_count": null,
      "id": "9cd4dfa4-90bf-4617-a9e3-d869378bcace",
      "metadata": {
        "id": "9cd4dfa4-90bf-4617-a9e3-d869378bcace",
        "outputId": "23554064-0db2-476b-f0ee-852c34def050"
      },
      "outputs": [
        {
          "name": "stdout",
          "output_type": "stream",
          "text": [
            "1/1 [==============================] - 1s 863ms/step\n",
            "1/1 [==============================] - 1s 849ms/step\n",
            "1/1 [==============================] - 1s 825ms/step\n",
            "1/1 [==============================] - 1s 852ms/step\n",
            "1/1 [==============================] - 1s 845ms/step\n",
            "1/1 [==============================] - 1s 855ms/step\n",
            "1/1 [==============================] - 1s 833ms/step\n"
          ]
        },
        {
          "name": "stderr",
          "output_type": "stream",
          "text": [
            "[mpeg1video @ 0x7fbea00f5680] ac-tex damaged at 22 17\n",
            "[mpeg1video @ 0x7fbea00f5680] Warning MVs not available\n"
          ]
        },
        {
          "name": "stdout",
          "output_type": "stream",
          "text": [
            "1/1 [==============================] - 1s 830ms/step\n",
            "1/1 [==============================] - 1s 831ms/step\n",
            "1/1 [==============================] - 1s 837ms/step\n",
            "1/1 [==============================] - 1s 784ms/step\n",
            "1/1 [==============================] - 1s 811ms/step\n",
            "1/1 [==============================] - 1s 819ms/step\n",
            "1/1 [==============================] - 1s 853ms/step\n",
            "1/1 [==============================] - 1s 863ms/step\n",
            "1/1 [==============================] - 1s 814ms/step\n",
            "1/1 [==============================] - 1s 856ms/step\n",
            "1/1 [==============================] - 1s 852ms/step\n",
            "1/1 [==============================] - 1s 848ms/step\n",
            "1/1 [==============================] - 1s 849ms/step\n",
            "1/1 [==============================] - 1s 788ms/step\n",
            "1/1 [==============================] - 1s 816ms/step\n",
            "1/1 [==============================] - 1s 854ms/step\n",
            "1/1 [==============================] - 1s 848ms/step\n",
            "1/1 [==============================] - 1s 801ms/step\n",
            "1/1 [==============================] - 1s 811ms/step\n",
            "1/1 [==============================] - 1s 843ms/step\n",
            "1/1 [==============================] - 1s 831ms/step\n",
            "1/1 [==============================] - 1s 850ms/step\n",
            "1/1 [==============================] - 1s 775ms/step\n",
            "1/1 [==============================] - 1s 858ms/step\n",
            "1/1 [==============================] - 1s 860ms/step\n",
            "1/1 [==============================] - 1s 856ms/step\n",
            "1/1 [==============================] - 1s 851ms/step\n",
            "1/1 [==============================] - 1s 797ms/step\n",
            "1/1 [==============================] - 1s 860ms/step\n",
            "1/1 [==============================] - 1s 822ms/step\n",
            "1/1 [==============================] - 1s 841ms/step\n",
            "1/1 [==============================] - 1s 847ms/step\n",
            "1/1 [==============================] - 1s 780ms/step\n",
            "1/1 [==============================] - 1s 816ms/step\n",
            "1/1 [==============================] - 1s 1s/step\n",
            "1/1 [==============================] - 1s 1s/step\n",
            "1/1 [==============================] - 1s 995ms/step\n",
            "1/1 [==============================] - 1s 1s/step\n",
            "1/1 [==============================] - 1s 1s/step\n",
            "1/1 [==============================] - 1s 1s/step\n",
            "1/1 [==============================] - 1s 1s/step\n",
            "1/1 [==============================] - 1s 1s/step\n",
            "1/1 [==============================] - 1s 1s/step\n",
            "Average WER: 0.10\n",
            "Average Accuracy: 94.77%\n"
          ]
        }
      ],
      "source": [
        "import numpy as np\n",
        "\n",
        "def calculate_wer(reference, hypothesis):\n",
        "    # Split the sentence into words\n",
        "    ref_words = reference.split()\n",
        "    hyp_words = hypothesis.split()\n",
        "    d = np.zeros((len(ref_words) + 1, len(hyp_words) + 1), dtype=np.uint8)\n",
        "    for i in range(len(ref_words) + 1):\n",
        "        for j in range(len(hyp_words) + 1):\n",
        "            if i == 0:\n",
        "                d[0][j] = j\n",
        "            elif j == 0:\n",
        "                d[i][0] = i\n",
        "    for i in range(1, len(ref_words) + 1):\n",
        "        for j in range(1, len(hyp_words) + 1):\n",
        "            if ref_words[i-1] == hyp_words[j-1]:\n",
        "                cost = 0\n",
        "            else:\n",
        "                cost = 1\n",
        "            d[i][j] = min(d[i-1][j] + 1, d[i][j-1] + 1, d[i-1][j-1] + cost)\n",
        "    return d[len(ref_words)][len(hyp_words)] / float(len(ref_words))\n",
        "\n",
        "# Load your model weights\n",
        "model.load_weights('models/checkpoint')\n",
        "\n",
        "wer_scores = []\n",
        "accuracies = []\n",
        "\n",
        "# Assuming 'test' is your test dataset\n",
        "for sample in test.as_numpy_iterator():\n",
        "    # Predict\n",
        "    yhat = model.predict(sample[0])\n",
        "\n",
        "    # Decode predictions\n",
        "    decoded = tf.keras.backend.ctc_decode(yhat, input_length=np.ones(yhat.shape[0])*yhat.shape[1], greedy=True)[0][0]\n",
        "\n",
        "    # Convert to text\n",
        "    predicted_texts = [tf.strings.reduce_join(num_to_char(c)).numpy().decode('utf-8') for c in decoded]\n",
        "    real_texts = [tf.strings.reduce_join(num_to_char(c)).numpy().decode('utf-8') for c in sample[1]]\n",
        "\n",
        "    # Calculate WER and Accuracy for each sample\n",
        "    for real, pred in zip(real_texts, predicted_texts):\n",
        "        wer_scores.append(calculate_wer(real, pred))\n",
        "        accuracies.append(np.mean([1 if c1 == c2 else 0 for c1, c2 in zip(real, pred)]) * 100)\n",
        "\n",
        "# Calculate average WER and Accuracy\n",
        "average_wer = np.mean(wer_scores)\n",
        "average_accuracy = np.mean(accuracies)\n",
        "\n",
        "print(f\"Average WER: {average_wer:.2f}\")\n",
        "print(f\"Average Accuracy: {average_accuracy:.2f}%\")"
      ]
    },
    {
      "cell_type": "markdown",
      "id": "64622f98-e99b-4fed-a2cc-f0da82eb5431",
      "metadata": {
        "id": "64622f98-e99b-4fed-a2cc-f0da82eb5431"
      },
      "source": [
        "# Test on a Video"
      ]
    },
    {
      "cell_type": "code",
      "execution_count": null,
      "id": "a8b0c4d0-2031-4331-b91d-d87b1ae6f6e2",
      "metadata": {
        "id": "a8b0c4d0-2031-4331-b91d-d87b1ae6f6e2"
      },
      "outputs": [],
      "source": [
        "sample = load_data(tf.convert_to_tensor('bras9a.mpg'))"
      ]
    },
    {
      "cell_type": "code",
      "execution_count": null,
      "id": "0cca60e4-47a9-4683-8a75-48f4684f723d",
      "metadata": {
        "colab": {
          "base_uri": "https://localhost:8080/"
        },
        "id": "0cca60e4-47a9-4683-8a75-48f4684f723d",
        "outputId": "297591c5-1342-4fd3-ec0c-e61edd002b35"
      },
      "outputs": [
        {
          "name": "stdout",
          "output_type": "stream",
          "text": [
            "~~~~~~~~~~~~~~~~~~~~~~~~~~~~~~~~~~~~~~~~~~~~~~~~~~~~~~~~~~~~~~~~~~~~~~~~~~~~~~~~~~~~~~~~~~~~~~~~~~~~ REAL TEXT\n"
          ]
        },
        {
          "data": {
            "text/plain": [
              "[<tf.Tensor: shape=(), dtype=string, numpy=b'bin red at s nine again'>]"
            ]
          },
          "execution_count": 72,
          "metadata": {},
          "output_type": "execute_result"
        }
      ],
      "source": [
        "print('~'*100, 'REAL TEXT')\n",
        "[tf.strings.reduce_join([num_to_char(word) for word in sentence]) for sentence in [sample[1]]]"
      ]
    },
    {
      "cell_type": "code",
      "execution_count": null,
      "id": "8cc5037c-1e32-435c-b0cc-01e1fb3b863c",
      "metadata": {
        "colab": {
          "base_uri": "https://localhost:8080/"
        },
        "id": "8cc5037c-1e32-435c-b0cc-01e1fb3b863c",
        "outputId": "b81a5a1f-7216-40b9-a5a3-663d1610380c"
      },
      "outputs": [
        {
          "name": "stdout",
          "output_type": "stream",
          "text": [
            "1/1 [==============================] - 1s 713ms/step\n"
          ]
        }
      ],
      "source": [
        "yhat = model.predict(tf.expand_dims(sample[0], axis=0))"
      ]
    },
    {
      "cell_type": "code",
      "execution_count": null,
      "id": "22c4f77d-715d-409f-bc5e-3ebe48704e8f",
      "metadata": {
        "id": "22c4f77d-715d-409f-bc5e-3ebe48704e8f"
      },
      "outputs": [],
      "source": [
        "decoded = tf.keras.backend.ctc_decode(yhat, input_length=[75], greedy=True)[0][0].numpy()"
      ]
    },
    {
      "cell_type": "code",
      "execution_count": null,
      "id": "e4d12ecc-b634-499e-a4bc-db9f010835fb",
      "metadata": {
        "colab": {
          "base_uri": "https://localhost:8080/"
        },
        "id": "e4d12ecc-b634-499e-a4bc-db9f010835fb",
        "outputId": "7b022658-7b14-44d3-e5ea-3125ed4afd23"
      },
      "outputs": [
        {
          "name": "stdout",
          "output_type": "stream",
          "text": [
            "~~~~~~~~~~~~~~~~~~~~~~~~~~~~~~~~~~~~~~~~~~~~~~~~~~~~~~~~~~~~~~~~~~~~~~~~~~~~~~~~~~~~~~~~~~~~~~~~~~~~ PREDICTIONS\n"
          ]
        },
        {
          "data": {
            "text/plain": [
              "[<tf.Tensor: shape=(), dtype=string, numpy=b'bin red at n nine again'>]"
            ]
          },
          "execution_count": 75,
          "metadata": {},
          "output_type": "execute_result"
        }
      ],
      "source": [
        "print('~'*100, 'PREDICTIONS')\n",
        "[tf.strings.reduce_join([num_to_char(word) for word in sentence]) for sentence in decoded]"
      ]
    }
  ],
  "metadata": {
    "accelerator": "GPU",
    "colab": {
      "gpuType": "T4",
      "provenance": [],
      "include_colab_link": true
    },
    "kernelspec": {
      "display_name": "Python 3 (ipykernel)",
      "language": "python",
      "name": "python3"
    },
    "language_info": {
      "codemirror_mode": {
        "name": "ipython",
        "version": 3
      },
      "file_extension": ".py",
      "mimetype": "text/x-python",
      "name": "python",
      "nbconvert_exporter": "python",
      "pygments_lexer": "ipython3",
      "version": "3.10.12"
    }
  },
  "nbformat": 4,
  "nbformat_minor": 5
}